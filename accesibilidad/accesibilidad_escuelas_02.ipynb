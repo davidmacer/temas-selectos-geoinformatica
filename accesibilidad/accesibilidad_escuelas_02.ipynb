{
 "cells": [
  {
   "cell_type": "markdown",
   "id": "a3dfb124",
   "metadata": {},
   "source": [
    "## Accesibilidad usando la red de calles\n",
    "\n",
    "Se utilizó la matriz de costos que calculamos utilizando la red de calles para generar modelos de accesibilidad y compararlos con los que obtuvimos utilizando las distancias euclidianas.\n",
    "\n",
    "Se leen los datos de oferta y demanda que ya se tenian hechos"
   ]
  },
  {
   "cell_type": "code",
   "execution_count": 1,
   "id": "a3d7dfc3",
   "metadata": {},
   "outputs": [
    {
     "name": "stderr",
     "output_type": "stream",
     "text": [
      "/home/david/.local/lib/python3.8/site-packages/geopandas/_compat.py:106: UserWarning: The Shapely GEOS version (3.8.0-CAPI-1.13.1 ) is incompatible with the GEOS version PyGEOS was compiled with (3.9.1-CAPI-1.14.2). Conversions between both will be slow.\n",
      "  warnings.warn(\n"
     ]
    }
   ],
   "source": [
    "import pandas as pd\n",
    "import geopandas as gpd\n",
    "from access import Access, weights\n",
    "import contextily as ctx"
   ]
  },
  {
   "cell_type": "code",
   "execution_count": 2,
   "id": "cc6b9d5b",
   "metadata": {},
   "outputs": [],
   "source": [
    "#agebs_zmvm_centroides = gpd.read_file('datos/agebs.gpkg')\n",
    "agebs_zmvm_centroides = pd.read_pickle(\"../data/agebs_zmvm_centroides.pkl\")\n",
    "escuelas = pd.read_pickle(\"../data/escuelas_centroides.pkl\")"
   ]
  },
  {
   "cell_type": "code",
   "execution_count": 3,
   "id": "aa36a852",
   "metadata": {},
   "outputs": [
    {
     "data": {
      "text/html": [
       "<div>\n",
       "<style scoped>\n",
       "    .dataframe tbody tr th:only-of-type {\n",
       "        vertical-align: middle;\n",
       "    }\n",
       "\n",
       "    .dataframe tbody tr th {\n",
       "        vertical-align: top;\n",
       "    }\n",
       "\n",
       "    .dataframe thead th {\n",
       "        text-align: right;\n",
       "    }\n",
       "</style>\n",
       "<table border=\"1\" class=\"dataframe\">\n",
       "  <thead>\n",
       "    <tr style=\"text-align: right;\">\n",
       "      <th></th>\n",
       "      <th>CVEGEO</th>\n",
       "      <th>geometry</th>\n",
       "      <th>sum</th>\n",
       "    </tr>\n",
       "  </thead>\n",
       "  <tbody>\n",
       "    <tr>\n",
       "      <th>0</th>\n",
       "      <td>0901000011716</td>\n",
       "      <td>POINT (2787091.708 816590.463)</td>\n",
       "      <td>667384319</td>\n",
       "    </tr>\n",
       "    <tr>\n",
       "      <th>1</th>\n",
       "      <td>0901000012150</td>\n",
       "      <td>POINT (2793986.972 823047.548)</td>\n",
       "      <td>285159163</td>\n",
       "    </tr>\n",
       "    <tr>\n",
       "      <th>2</th>\n",
       "      <td>0901000011133</td>\n",
       "      <td>POINT (2794967.016 819439.549)</td>\n",
       "      <td>1087353</td>\n",
       "    </tr>\n",
       "    <tr>\n",
       "      <th>3</th>\n",
       "      <td>0901000011307</td>\n",
       "      <td>POINT (2792230.506 815397.361)</td>\n",
       "      <td>1607977</td>\n",
       "    </tr>\n",
       "    <tr>\n",
       "      <th>4</th>\n",
       "      <td>0901000010281</td>\n",
       "      <td>POINT (2788669.707 823554.634)</td>\n",
       "      <td>181012</td>\n",
       "    </tr>\n",
       "  </tbody>\n",
       "</table>\n",
       "</div>"
      ],
      "text/plain": [
       "          CVEGEO                        geometry        sum\n",
       "0  0901000011716  POINT (2787091.708 816590.463)  667384319\n",
       "1  0901000012150  POINT (2793986.972 823047.548)  285159163\n",
       "2  0901000011133  POINT (2794967.016 819439.549)    1087353\n",
       "3  0901000011307  POINT (2792230.506 815397.361)    1607977\n",
       "4  0901000010281  POINT (2788669.707 823554.634)     181012"
      ]
     },
     "execution_count": 3,
     "metadata": {},
     "output_type": "execute_result"
    }
   ],
   "source": [
    "agebs_zmvm_centroides.head()"
   ]
  },
  {
   "cell_type": "code",
   "execution_count": 4,
   "id": "271686e3",
   "metadata": {},
   "outputs": [
    {
     "data": {
      "text/html": [
       "<div>\n",
       "<style scoped>\n",
       "    .dataframe tbody tr th:only-of-type {\n",
       "        vertical-align: middle;\n",
       "    }\n",
       "\n",
       "    .dataframe tbody tr th {\n",
       "        vertical-align: top;\n",
       "    }\n",
       "\n",
       "    .dataframe thead th {\n",
       "        text-align: right;\n",
       "    }\n",
       "</style>\n",
       "<table border=\"1\" class=\"dataframe\">\n",
       "  <thead>\n",
       "    <tr style=\"text-align: right;\">\n",
       "      <th></th>\n",
       "      <th>id_escuela</th>\n",
       "      <th>geometry</th>\n",
       "      <th>area</th>\n",
       "    </tr>\n",
       "  </thead>\n",
       "  <tbody>\n",
       "    <tr>\n",
       "      <th>0</th>\n",
       "      <td>0</td>\n",
       "      <td>POINT (2803465.381 815556.143)</td>\n",
       "      <td>12.546194</td>\n",
       "    </tr>\n",
       "    <tr>\n",
       "      <th>1</th>\n",
       "      <td>1</td>\n",
       "      <td>POINT (2803882.165 824959.984)</td>\n",
       "      <td>12.546194</td>\n",
       "    </tr>\n",
       "    <tr>\n",
       "      <th>2</th>\n",
       "      <td>2</td>\n",
       "      <td>POINT (2799924.581 832289.618)</td>\n",
       "      <td>12.546194</td>\n",
       "    </tr>\n",
       "    <tr>\n",
       "      <th>3</th>\n",
       "      <td>3</td>\n",
       "      <td>POINT (2798477.114 830413.557)</td>\n",
       "      <td>12.546194</td>\n",
       "    </tr>\n",
       "    <tr>\n",
       "      <th>4</th>\n",
       "      <td>4</td>\n",
       "      <td>POINT (2781928.380 819805.051)</td>\n",
       "      <td>12.546194</td>\n",
       "    </tr>\n",
       "    <tr>\n",
       "      <th>...</th>\n",
       "      <td>...</td>\n",
       "      <td>...</td>\n",
       "      <td>...</td>\n",
       "    </tr>\n",
       "    <tr>\n",
       "      <th>1489</th>\n",
       "      <td>2377</td>\n",
       "      <td>POINT (2809662.172 824784.191)</td>\n",
       "      <td>12.546194</td>\n",
       "    </tr>\n",
       "    <tr>\n",
       "      <th>1490</th>\n",
       "      <td>2379</td>\n",
       "      <td>POINT (2803013.636 832721.858)</td>\n",
       "      <td>12.546194</td>\n",
       "    </tr>\n",
       "    <tr>\n",
       "      <th>1491</th>\n",
       "      <td>2380</td>\n",
       "      <td>POINT (2794446.362 812812.916)</td>\n",
       "      <td>12.546194</td>\n",
       "    </tr>\n",
       "    <tr>\n",
       "      <th>1492</th>\n",
       "      <td>2381</td>\n",
       "      <td>POINT (2794056.001 835133.949)</td>\n",
       "      <td>12.546194</td>\n",
       "    </tr>\n",
       "    <tr>\n",
       "      <th>1493</th>\n",
       "      <td>2382</td>\n",
       "      <td>POINT (2797106.117 830296.612)</td>\n",
       "      <td>12.546194</td>\n",
       "    </tr>\n",
       "  </tbody>\n",
       "</table>\n",
       "<p>1494 rows × 3 columns</p>\n",
       "</div>"
      ],
      "text/plain": [
       "      id_escuela                        geometry       area\n",
       "0              0  POINT (2803465.381 815556.143)  12.546194\n",
       "1              1  POINT (2803882.165 824959.984)  12.546194\n",
       "2              2  POINT (2799924.581 832289.618)  12.546194\n",
       "3              3  POINT (2798477.114 830413.557)  12.546194\n",
       "4              4  POINT (2781928.380 819805.051)  12.546194\n",
       "...          ...                             ...        ...\n",
       "1489        2377  POINT (2809662.172 824784.191)  12.546194\n",
       "1490        2379  POINT (2803013.636 832721.858)  12.546194\n",
       "1491        2380  POINT (2794446.362 812812.916)  12.546194\n",
       "1492        2381  POINT (2794056.001 835133.949)  12.546194\n",
       "1493        2382  POINT (2797106.117 830296.612)  12.546194\n",
       "\n",
       "[1494 rows x 3 columns]"
      ]
     },
     "execution_count": 4,
     "metadata": {},
     "output_type": "execute_result"
    }
   ],
   "source": [
    "escuelas"
   ]
  },
  {
   "cell_type": "markdown",
   "id": "e549710e",
   "metadata": {},
   "source": [
    "Ahora leemos la matriz de costos"
   ]
  },
  {
   "cell_type": "code",
   "execution_count": null,
   "id": "9b12cee8",
   "metadata": {},
   "outputs": [],
   "source": [
    "costos = pd.read_pickle(\"../data/matriz_escuelas_od_walking.pkl\")\n",
    "costos.head()"
   ]
  },
  {
   "cell_type": "markdown",
   "id": "7dffd171",
   "metadata": {},
   "source": [
    "Instanciamos el objeto `access`"
   ]
  },
  {
   "cell_type": "code",
   "execution_count": null,
   "id": "e87909ba",
   "metadata": {},
   "outputs": [],
   "source": [
    "accesibilidad_red = Access(demand_df            = agebs_zmvm_centroides,\n",
    "                           demand_index         = 'CVEGEO',\n",
    "                           demand_value         = 'POBTOT',\n",
    "                           supply_df            = escuelas,\n",
    "                           supply_index         = 'id_escuela',\n",
    "                           supply_value         = 'area',\n",
    "                           cost_df              = costos,\n",
    "                           cost_origin          = 'origen',\n",
    "                           cost_dest            = 'destino',\n",
    "                           cost_name            = 'costo',\n",
    "                           neighbor_cost_df     = costos,\n",
    "                           neighbor_cost_origin = 'origen',\n",
    "                           neighbor_cost_dest   = 'destino',\n",
    "                           neighbor_cost_name   = 'costo')"
   ]
  },
  {
   "cell_type": "markdown",
   "id": "5844ec9e",
   "metadata": {},
   "source": [
    "Definimos la función de peso para el modelo gravitatorio"
   ]
  },
  {
   "cell_type": "code",
   "execution_count": null,
   "id": "c1e9b2e3",
   "metadata": {},
   "outputs": [],
   "source": [
    "gravity = weights.gravity(scale = 750, alpha = -1)"
   ]
  },
  {
   "cell_type": "markdown",
   "id": "abafb0cb",
   "metadata": {},
   "source": [
    "Calculamos los mismos dos modelos de accesibilidad"
   ]
  },
  {
   "cell_type": "code",
   "execution_count": null,
   "id": "00636c9c",
   "metadata": {},
   "outputs": [],
   "source": [
    "accesibilidad_red.weighted_catchment(name=\"gravity\", weight_fn=gravity)\n",
    "accesibilidad_red.raam(name=\"raam\", tau=750)"
   ]
  },
  {
   "cell_type": "markdown",
   "id": "1adcd326",
   "metadata": {},
   "source": [
    "Recordemos ráído lo que nos regresan los cálculos"
   ]
  },
  {
   "cell_type": "code",
   "execution_count": null,
   "id": "4e89a378",
   "metadata": {},
   "outputs": [],
   "source": [
    "accesibilidad_red.norm_access_df"
   ]
  },
  {
   "cell_type": "markdown",
   "id": "dacebd67",
   "metadata": {},
   "source": [
    "Realizamos mapas comparativos"
   ]
  },
  {
   "cell_type": "code",
   "execution_count": null,
   "id": "67adfc3d",
   "metadata": {},
   "outputs": [],
   "source": [
    "mapa_accesibilidad = agebs_zmvm_centroides.set_index('CVEGEO')[['geometry']].join(accesibilidad_red.norm_access_df, how = \"inner\")\n",
    "fig, (ax1, ax2) = plt.subplots(1,2, figsize=(32,12))\n",
    "ax1 = mapa_accesibilidad.to_crs(epsg=3857).plot('raam_area', legend = True,\n",
    "                                                cmap =  \"viridis_r\", \n",
    "                                                markersize = 5, alpha = 0.9, ax = ax1,\n",
    "                                                vmin = mapa_accesibilidad['raam_area'].quantile(0.05), \n",
    "                                                vmax = mapa_accesibilidad['raam_area'].quantile(0.95),\n",
    "                                                )\n",
    "ax1.set_axis_off()\n",
    "ax1.set(title='Modelo RAAM')\n",
    "ctx.add_basemap(ax1, source=ctx.providers.CartoDB.Positron)\n",
    "\n",
    "ax2 = mapa_accesibilidad.to_crs(epsg=3857).plot('gravity_area', legend = True,\n",
    "                                                cmap =  \"viridis\", \n",
    "                                                markersize = 5, alpha = 0.9, ax = ax2,\n",
    "                                                vmin = mapa_accesibilidad['gravity_area'].quantile(0.05), \n",
    "                                                vmax = mapa_accesibilidad['gravity_area'].quantile(0.95),\n",
    "                                                )\n",
    "ax2.set_axis_off()\n",
    "ax2.set(title='Modelo Gravitatorio')\n",
    "# plt.subplots_adjust(wspace=-.5, hspace=0)\n",
    "ctx.add_basemap(ax2, source=ctx.providers.CartoDB.Positron)\n",
    "plt.tight_layout()"
   ]
  },
  {
   "cell_type": "markdown",
   "id": "dc74ea82",
   "metadata": {},
   "source": [
    "## Comparación con distancia euclidiana\n",
    "\n",
    "Comparamos los modelos que calculamos usando la distancia euclidiana con los que obtuvimos ahora. Los resultados anteriores están guardados como csv en `datos/accesibilidad_distancia_euclidiana.csv`."
   ]
  },
  {
   "cell_type": "code",
   "execution_count": null,
   "id": "cd7cee0e",
   "metadata": {},
   "outputs": [],
   "source": [
    "accesibilidad_euclidiana = pd.read_csv(\"datos/accesibilidad_distancia_euclidiana.csv\")\n",
    "accesibilidad_euclidiana"
   ]
  },
  {
   "cell_type": "markdown",
   "id": "af3efd8a",
   "metadata": {},
   "source": [
    "Lo primero que podemos hacer es unos mapas para comparar visualmente los resultados. Para esto lo mejor es hacer una función que haga cada mapa"
   ]
  },
  {
   "cell_type": "code",
   "execution_count": null,
   "id": "10f556df",
   "metadata": {},
   "outputs": [],
   "source": [
    "def haz_mapa(datos, ax, columna, titulo, swap_colors=True):\n",
    "    if swap_colors:\n",
    "        swap_colors = \"raam\" in columna\n",
    "    ax = datos.to_crs(epsg=3857).plot(columna, \n",
    "                                      legend = True,\n",
    "                                      cmap = \"viridis_r\" if swap_colors else \"viridis\", \n",
    "                                      markersize = 5, alpha = 0.9, ax = ax,\n",
    "                                      vmin = datos[columna].quantile(0.05), \n",
    "                                      vmax = datos[columna].quantile(0.95),\n",
    "                                      )\n",
    "    ax.set_axis_off()\n",
    "    ax.set(title=titulo)\n",
    "    ctx.add_basemap(ax, source=ctx.providers.CartoDB.Positron)"
   ]
  },
  {
   "cell_type": "markdown",
   "id": "6a799bbc",
   "metadata": {},
   "source": [
    "Con esta función es fácil hacer todos los mapas en una misma figura, pero primero necesitamos tener los resultados originales ligados a las geometrías de los puntos. Lo más fácil es tener todo en un sólo dataframe, claro que eso implica cambiar los nombres de las columnas"
   ]
  },
  {
   "cell_type": "code",
   "execution_count": null,
   "id": "20270e69",
   "metadata": {},
   "outputs": [],
   "source": [
    "mapa_accesibilidad = mapa_accesibilidad.rename({'gravity_area': 'gravity_area_red', 'raam_area': 'raam_area_red'}, axis=1)\n",
    "mapa_accesibilidad = mapa_accesibilidad.merge(accesibilidad_euclidiana, on='CVEGEO')\n",
    "mapa_accesibilidad = mapa_accesibilidad.rename({'gravity_area': 'gravity_area_euclidiana', 'raam_area': 'raam_area_euclidiana'}, axis=1)\n",
    "mapa_accesibilidad"
   ]
  },
  {
   "cell_type": "markdown",
   "id": "190a40c9",
   "metadata": {},
   "source": [
    "Ahora sí podemos hacer todos los mapas"
   ]
  },
  {
   "cell_type": "code",
   "execution_count": null,
   "id": "29b78eb5",
   "metadata": {},
   "outputs": [],
   "source": [
    "titulos_columnas = {'gravity_area_euclidiana': 'Gravitatorio Distancia Euclidiana',\n",
    "                    'raam_area_euclidiana': 'RAAM Distancia Euclidiana',\n",
    "                    'gravity_area_red': 'Gravitatorio Distancia sobre la Red',\n",
    "                    'raam_area_red': 'RAAM Distancia sobre la Red'}\n",
    "fig, axes = plt.subplots(2,2,figsize=(30,24))\n",
    "axes = axes.ravel()\n",
    "for i, columna in enumerate(titulos_columnas.keys()):\n",
    "    haz_mapa(mapa_accesibilidad, axes[i], columna, titulos_columnas[columna])"
   ]
  },
  {
   "cell_type": "markdown",
   "id": "8f573fad",
   "metadata": {},
   "source": [
    "Son muy parecidos, pero no exáctamente iguales, podemos calcular las diferencias en los valores de accesibilidad por modelo y hacer mapas de las diferencias"
   ]
  },
  {
   "cell_type": "code",
   "execution_count": null,
   "id": "9aea5f6f",
   "metadata": {},
   "outputs": [],
   "source": [
    "mapa_accesibilidad['dif_gravity'] = mapa_accesibilidad['gravity_area_euclidiana'] - mapa_accesibilidad['gravity_area_red']\n",
    "mapa_accesibilidad['dif_raam'] = mapa_accesibilidad['raam_area_euclidiana'] - mapa_accesibilidad['raam_area_red']\n",
    "mapa_accesibilidad"
   ]
  },
  {
   "cell_type": "code",
   "execution_count": null,
   "id": "11165f74",
   "metadata": {},
   "outputs": [],
   "source": [
    "titulos_columnas = {'dif_gravity': 'Diferencia en modelos gravitatorios',\n",
    "                    'dif_raam': 'Diferencia en modelos RAAM'\n",
    "                   }\n",
    "fig, axes = plt.subplots(1,2,figsize=(30,24))\n",
    "axes = axes.ravel()\n",
    "for i, columna in enumerate(titulos_columnas.keys()):\n",
    "    haz_mapa(mapa_accesibilidad, axes[i], columna, titulos_columnas[columna], swap_colors=False)"
   ]
  }
 ],
 "metadata": {
  "kernelspec": {
   "display_name": "Python 3 (ipykernel)",
   "language": "python",
   "name": "python3"
  },
  "language_info": {
   "codemirror_mode": {
    "name": "ipython",
    "version": 3
   },
   "file_extension": ".py",
   "mimetype": "text/x-python",
   "name": "python",
   "nbconvert_exporter": "python",
   "pygments_lexer": "ipython3",
   "version": "3.10.0"
  }
 },
 "nbformat": 4,
 "nbformat_minor": 5
}
