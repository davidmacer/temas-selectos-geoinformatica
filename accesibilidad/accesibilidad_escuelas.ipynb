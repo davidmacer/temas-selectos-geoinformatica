{
 "cells": [
  {
   "cell_type": "markdown",
   "metadata": {
    "id": "c23e29fd"
   },
   "source": [
    "# Accesibilidad a áreas verdes en la Zona Metropolitana del Valle de México\n",
    "\n",
    "En este taller vamos a calcular diferentes modelos de accesibilidad a escuelas primarias. La idea es ir trabajando de lo más simple a los más complejo. Empezaremos con un modelo de conectividad basado sólo en distancias entre centroides e iremos complicando las cosas a partir de ahí, primero usando conectividad de red..."
   ]
  },
  {
   "cell_type": "markdown",
   "metadata": {
    "id": "83813ca0"
   },
   "source": [
    "## Preparación de datos\n",
    "\n",
    "Como siempre, lo primero que tenemos que hacer es preparar los datos. En este caso vamos a usar el marco cartográfico del Censo de 2020 a nivel AGEB y una cartografía de áreas verdes que preparé para un proyecto integrando datos de INEGI y de OSM.\n",
    "\n",
    "La cartografía de áreas verdes viene en un geopackage para todo el país y la cartografía censal viene en shapes para la CDMX y el Estado de México. Para cortar todo con la silueta de la ZMVM tenemos un shaper con el límite metropolitano.\n",
    "\n",
    "Los datos para obtener la demanda (población, en principio) vienen en csvs que tenemos que unir con la geometría de las manzanas. Eso lo haremos después de tener los recortes para economizar un poco."
   ]
  },
  {
   "cell_type": "code",
   "execution_count": 1,
   "metadata": {
    "colab": {
     "base_uri": "https://localhost:8080/"
    },
    "executionInfo": {
     "elapsed": 10857,
     "status": "ok",
     "timestamp": 1633749180135,
     "user": {
      "displayName": "Dalia Lagunes Rodríguez",
      "photoUrl": "https://lh3.googleusercontent.com/a/default-user=s64",
      "userId": "05954352363843702475"
     },
     "user_tz": 300
    },
    "id": "Knx-ejOzCVat",
    "outputId": "de3919c6-7764-4c18-f63b-043b2f317eb3"
   },
   "outputs": [],
   "source": [
    "#!pip install geopandas access contextily"
   ]
  },
  {
   "cell_type": "code",
   "execution_count": 2,
   "metadata": {
    "executionInfo": {
     "elapsed": 449,
     "status": "ok",
     "timestamp": 1633749198231,
     "user": {
      "displayName": "Dalia Lagunes Rodríguez",
      "photoUrl": "https://lh3.googleusercontent.com/a/default-user=s64",
      "userId": "05954352363843702475"
     },
     "user_tz": 300
    },
    "id": "635770cf"
   },
   "outputs": [
    {
     "name": "stderr",
     "output_type": "stream",
     "text": [
      "/home/david/.local/lib/python3.8/site-packages/geopandas/_compat.py:106: UserWarning: The Shapely GEOS version (3.8.0-CAPI-1.13.1 ) is incompatible with the GEOS version PyGEOS was compiled with (3.9.1-CAPI-1.14.2). Conversions between both will be slow.\n",
      "  warnings.warn(\n"
     ]
    }
   ],
   "source": [
    "import pandas as pd\n",
    "import geopandas as gpd\n",
    "from access import Access, weights\n",
    "import matplotlib.pyplot as plt\n",
    "import contextily as ctx\n",
    "import math\n",
    "import numpy as np"
   ]
  },
  {
   "cell_type": "markdown",
   "metadata": {
    "id": "2130eb9b"
   },
   "source": [
    "### Leer datos"
   ]
  },
  {
   "cell_type": "code",
   "execution_count": 3,
   "metadata": {},
   "outputs": [
    {
     "name": "stdout",
     "output_type": "stream",
     "text": [
      "(3300, 40)\n"
     ]
    }
   ],
   "source": [
    "escuelas_cdmx = pd.read_excel(r\"../data/escuelas/concentrado_escuelas_cdmx.xlsx\")\n",
    "escuelas_cdmx.head()\n",
    "print(escuelas_cdmx.shape)"
   ]
  },
  {
   "cell_type": "code",
   "execution_count": 4,
   "metadata": {},
   "outputs": [
    {
     "name": "stdout",
     "output_type": "stream",
     "text": [
      "(9152, 40)\n"
     ]
    }
   ],
   "source": [
    "escuelas_edomex = pd.read_excel('../data/escuelas/concentrado_escuelas_edomex.xlsx')\n",
    "escuelas_edomex.head()\n",
    "print(escuelas_edomex.shape)"
   ]
  },
  {
   "cell_type": "code",
   "execution_count": 5,
   "metadata": {},
   "outputs": [
    {
     "data": {
      "text/html": [
       "<div>\n",
       "<style scoped>\n",
       "    .dataframe tbody tr th:only-of-type {\n",
       "        vertical-align: middle;\n",
       "    }\n",
       "\n",
       "    .dataframe tbody tr th {\n",
       "        vertical-align: top;\n",
       "    }\n",
       "\n",
       "    .dataframe thead th {\n",
       "        text-align: right;\n",
       "    }\n",
       "</style>\n",
       "<table border=\"1\" class=\"dataframe\">\n",
       "  <thead>\n",
       "    <tr style=\"text-align: right;\">\n",
       "      <th></th>\n",
       "      <th>Clave de la entidad federativa</th>\n",
       "      <th>Clave del municipio o delegación</th>\n",
       "      <th>Clave de la localidad</th>\n",
       "      <th>Número exterior</th>\n",
       "      <th>Colonia</th>\n",
       "      <th>Código postal</th>\n",
       "      <th>Extensión del teléfono</th>\n",
       "      <th>Página web</th>\n",
       "      <th>Alumnos total (hombres)</th>\n",
       "      <th>Alumnos total (mujeres)</th>\n",
       "      <th>Alumnos total</th>\n",
       "      <th>Docentes total (hombres)</th>\n",
       "      <th>Docentes total (mujeres)</th>\n",
       "      <th>Docentes total</th>\n",
       "      <th>Aulas en uso</th>\n",
       "      <th>Aulas existentes</th>\n",
       "      <th>Tipo de localidad U - Urbano, R - Rural</th>\n",
       "      <th>Ubicación de la escuela-localidad al Oeste del Meridiano de Greenwich, expresada en grados</th>\n",
       "      <th>Ubicación de la escuela-localidad al norte del Ecuador, expresada en grados</th>\n",
       "    </tr>\n",
       "  </thead>\n",
       "  <tbody>\n",
       "    <tr>\n",
       "      <th>count</th>\n",
       "      <td>9144.0</td>\n",
       "      <td>9144.000000</td>\n",
       "      <td>9139.000000</td>\n",
       "      <td>9144.000000</td>\n",
       "      <td>8925.000000</td>\n",
       "      <td>9144.000000</td>\n",
       "      <td>0.0</td>\n",
       "      <td>0.0</td>\n",
       "      <td>7946.000000</td>\n",
       "      <td>7946.000000</td>\n",
       "      <td>7946.000000</td>\n",
       "      <td>7946.000000</td>\n",
       "      <td>7946.000000</td>\n",
       "      <td>7946.000000</td>\n",
       "      <td>7946.000000</td>\n",
       "      <td>7946.000000</td>\n",
       "      <td>0.0</td>\n",
       "      <td>9144.000000</td>\n",
       "      <td>9144.000000</td>\n",
       "    </tr>\n",
       "    <tr>\n",
       "      <th>mean</th>\n",
       "      <td>15.0</td>\n",
       "      <td>66.175744</td>\n",
       "      <td>24.812014</td>\n",
       "      <td>30.301400</td>\n",
       "      <td>50.417927</td>\n",
       "      <td>53477.813976</td>\n",
       "      <td>NaN</td>\n",
       "      <td>NaN</td>\n",
       "      <td>115.455575</td>\n",
       "      <td>112.047319</td>\n",
       "      <td>227.502895</td>\n",
       "      <td>2.150894</td>\n",
       "      <td>6.536245</td>\n",
       "      <td>8.687138</td>\n",
       "      <td>8.866096</td>\n",
       "      <td>10.690914</td>\n",
       "      <td>NaN</td>\n",
       "      <td>-99.197814</td>\n",
       "      <td>19.420530</td>\n",
       "    </tr>\n",
       "    <tr>\n",
       "      <th>std</th>\n",
       "      <td>0.0</td>\n",
       "      <td>36.803246</td>\n",
       "      <td>52.088718</td>\n",
       "      <td>154.010654</td>\n",
       "      <td>85.611983</td>\n",
       "      <td>3019.789753</td>\n",
       "      <td>NaN</td>\n",
       "      <td>NaN</td>\n",
       "      <td>99.811301</td>\n",
       "      <td>98.957134</td>\n",
       "      <td>198.056500</td>\n",
       "      <td>2.161162</td>\n",
       "      <td>5.048588</td>\n",
       "      <td>6.044290</td>\n",
       "      <td>5.948272</td>\n",
       "      <td>6.625664</td>\n",
       "      <td>NaN</td>\n",
       "      <td>5.740313</td>\n",
       "      <td>0.372838</td>\n",
       "    </tr>\n",
       "    <tr>\n",
       "      <th>min</th>\n",
       "      <td>15.0</td>\n",
       "      <td>1.000000</td>\n",
       "      <td>1.000000</td>\n",
       "      <td>0.000000</td>\n",
       "      <td>1.000000</td>\n",
       "      <td>0.000000</td>\n",
       "      <td>NaN</td>\n",
       "      <td>NaN</td>\n",
       "      <td>0.000000</td>\n",
       "      <td>0.000000</td>\n",
       "      <td>1.000000</td>\n",
       "      <td>0.000000</td>\n",
       "      <td>0.000000</td>\n",
       "      <td>0.000000</td>\n",
       "      <td>0.000000</td>\n",
       "      <td>0.000000</td>\n",
       "      <td>NaN</td>\n",
       "      <td>-100.998294</td>\n",
       "      <td>0.000000</td>\n",
       "    </tr>\n",
       "    <tr>\n",
       "      <th>25%</th>\n",
       "      <td>15.0</td>\n",
       "      <td>33.000000</td>\n",
       "      <td>1.000000</td>\n",
       "      <td>0.000000</td>\n",
       "      <td>3.000000</td>\n",
       "      <td>51400.000000</td>\n",
       "      <td>NaN</td>\n",
       "      <td>NaN</td>\n",
       "      <td>38.000000</td>\n",
       "      <td>36.000000</td>\n",
       "      <td>73.250000</td>\n",
       "      <td>0.000000</td>\n",
       "      <td>3.000000</td>\n",
       "      <td>6.000000</td>\n",
       "      <td>6.000000</td>\n",
       "      <td>6.000000</td>\n",
       "      <td>NaN</td>\n",
       "      <td>-99.766946</td>\n",
       "      <td>19.277013</td>\n",
       "    </tr>\n",
       "    <tr>\n",
       "      <th>50%</th>\n",
       "      <td>15.0</td>\n",
       "      <td>60.000000</td>\n",
       "      <td>1.000000</td>\n",
       "      <td>0.000000</td>\n",
       "      <td>6.000000</td>\n",
       "      <td>53717.000000</td>\n",
       "      <td>NaN</td>\n",
       "      <td>NaN</td>\n",
       "      <td>88.000000</td>\n",
       "      <td>84.000000</td>\n",
       "      <td>172.000000</td>\n",
       "      <td>2.000000</td>\n",
       "      <td>6.000000</td>\n",
       "      <td>6.000000</td>\n",
       "      <td>6.000000</td>\n",
       "      <td>10.000000</td>\n",
       "      <td>NaN</td>\n",
       "      <td>-99.280670</td>\n",
       "      <td>19.455612</td>\n",
       "    </tr>\n",
       "    <tr>\n",
       "      <th>75%</th>\n",
       "      <td>15.0</td>\n",
       "      <td>104.000000</td>\n",
       "      <td>27.000000</td>\n",
       "      <td>1.000000</td>\n",
       "      <td>67.000000</td>\n",
       "      <td>55705.000000</td>\n",
       "      <td>NaN</td>\n",
       "      <td>NaN</td>\n",
       "      <td>170.750000</td>\n",
       "      <td>165.000000</td>\n",
       "      <td>335.750000</td>\n",
       "      <td>3.000000</td>\n",
       "      <td>9.000000</td>\n",
       "      <td>12.000000</td>\n",
       "      <td>12.000000</td>\n",
       "      <td>15.000000</td>\n",
       "      <td>NaN</td>\n",
       "      <td>-99.035515</td>\n",
       "      <td>19.629709</td>\n",
       "    </tr>\n",
       "    <tr>\n",
       "      <th>max</th>\n",
       "      <td>15.0</td>\n",
       "      <td>125.000000</td>\n",
       "      <td>593.000000</td>\n",
       "      <td>4876.000000</td>\n",
       "      <td>548.000000</td>\n",
       "      <td>59270.000000</td>\n",
       "      <td>NaN</td>\n",
       "      <td>NaN</td>\n",
       "      <td>742.000000</td>\n",
       "      <td>733.000000</td>\n",
       "      <td>1469.000000</td>\n",
       "      <td>17.000000</td>\n",
       "      <td>37.000000</td>\n",
       "      <td>44.000000</td>\n",
       "      <td>44.000000</td>\n",
       "      <td>60.000000</td>\n",
       "      <td>NaN</td>\n",
       "      <td>99.083660</td>\n",
       "      <td>20.265200</td>\n",
       "    </tr>\n",
       "  </tbody>\n",
       "</table>\n",
       "</div>"
      ],
      "text/plain": [
       "       Clave de la entidad federativa  Clave del municipio o delegación  \\\n",
       "count                          9144.0                       9144.000000   \n",
       "mean                             15.0                         66.175744   \n",
       "std                               0.0                         36.803246   \n",
       "min                              15.0                          1.000000   \n",
       "25%                              15.0                         33.000000   \n",
       "50%                              15.0                         60.000000   \n",
       "75%                              15.0                        104.000000   \n",
       "max                              15.0                        125.000000   \n",
       "\n",
       "       Clave de la localidad  Número exterior      Colonia  Código postal  \\\n",
       "count            9139.000000      9144.000000  8925.000000    9144.000000   \n",
       "mean               24.812014        30.301400    50.417927   53477.813976   \n",
       "std                52.088718       154.010654    85.611983    3019.789753   \n",
       "min                 1.000000         0.000000     1.000000       0.000000   \n",
       "25%                 1.000000         0.000000     3.000000   51400.000000   \n",
       "50%                 1.000000         0.000000     6.000000   53717.000000   \n",
       "75%                27.000000         1.000000    67.000000   55705.000000   \n",
       "max               593.000000      4876.000000   548.000000   59270.000000   \n",
       "\n",
       "       Extensión del teléfono  Página web  Alumnos total (hombres)  \\\n",
       "count                     0.0         0.0              7946.000000   \n",
       "mean                      NaN         NaN               115.455575   \n",
       "std                       NaN         NaN                99.811301   \n",
       "min                       NaN         NaN                 0.000000   \n",
       "25%                       NaN         NaN                38.000000   \n",
       "50%                       NaN         NaN                88.000000   \n",
       "75%                       NaN         NaN               170.750000   \n",
       "max                       NaN         NaN               742.000000   \n",
       "\n",
       "       Alumnos total (mujeres)  Alumnos total  Docentes total (hombres)  \\\n",
       "count              7946.000000    7946.000000               7946.000000   \n",
       "mean                112.047319     227.502895                  2.150894   \n",
       "std                  98.957134     198.056500                  2.161162   \n",
       "min                   0.000000       1.000000                  0.000000   \n",
       "25%                  36.000000      73.250000                  0.000000   \n",
       "50%                  84.000000     172.000000                  2.000000   \n",
       "75%                 165.000000     335.750000                  3.000000   \n",
       "max                 733.000000    1469.000000                 17.000000   \n",
       "\n",
       "       Docentes total (mujeres)  Docentes total  Aulas en uso  \\\n",
       "count               7946.000000     7946.000000   7946.000000   \n",
       "mean                   6.536245        8.687138      8.866096   \n",
       "std                    5.048588        6.044290      5.948272   \n",
       "min                    0.000000        0.000000      0.000000   \n",
       "25%                    3.000000        6.000000      6.000000   \n",
       "50%                    6.000000        6.000000      6.000000   \n",
       "75%                    9.000000       12.000000     12.000000   \n",
       "max                   37.000000       44.000000     44.000000   \n",
       "\n",
       "       Aulas existentes  Tipo de localidad U - Urbano, R - Rural  \\\n",
       "count       7946.000000                                      0.0   \n",
       "mean          10.690914                                      NaN   \n",
       "std            6.625664                                      NaN   \n",
       "min            0.000000                                      NaN   \n",
       "25%            6.000000                                      NaN   \n",
       "50%           10.000000                                      NaN   \n",
       "75%           15.000000                                      NaN   \n",
       "max           60.000000                                      NaN   \n",
       "\n",
       "       Ubicación de la escuela-localidad al Oeste del Meridiano de Greenwich, expresada en grados  \\\n",
       "count                                        9144.000000                                            \n",
       "mean                                          -99.197814                                            \n",
       "std                                             5.740313                                            \n",
       "min                                          -100.998294                                            \n",
       "25%                                           -99.766946                                            \n",
       "50%                                           -99.280670                                            \n",
       "75%                                           -99.035515                                            \n",
       "max                                            99.083660                                            \n",
       "\n",
       "       Ubicación de la escuela-localidad al norte del Ecuador, expresada en grados  \n",
       "count                                        9144.000000                            \n",
       "mean                                           19.420530                            \n",
       "std                                             0.372838                            \n",
       "min                                             0.000000                            \n",
       "25%                                            19.277013                            \n",
       "50%                                            19.455612                            \n",
       "75%                                            19.629709                            \n",
       "max                                            20.265200                            "
      ]
     },
     "execution_count": 5,
     "metadata": {},
     "output_type": "execute_result"
    }
   ],
   "source": [
    "escuelas_edomex.describe()"
   ]
  },
  {
   "cell_type": "code",
   "execution_count": 6,
   "metadata": {},
   "outputs": [
    {
     "name": "stdout",
     "output_type": "stream",
     "text": [
      "  Clave del centro de trabajo Clave del turno Nombre del turno  \\\n",
      "0                  09DPR1317S               2       VESPERTINO   \n",
      "1                  09PPR1197A               1         MATUTINO   \n",
      "2                  09DPR0943D               1         MATUTINO   \n",
      "3                  09DPR1177I               1         MATUTINO   \n",
      "4                  09DPR1217T               2       VESPERTINO   \n",
      "\n",
      "                Nombre del centro de trabajo Tipo educativo Nivel educativo  \\\n",
      "0                   PROFR. DANIEL DELGADILLO         BÁSICA        PRIMARIA   \n",
      "1  \"COLEGIO \"\"TRILINGÜE PEDRO MARIA ANAYA\"\"\"         BÁSICA        PRIMARIA   \n",
      "2             ING. JOAQUIN GALLO MONTERRUBIO         BÁSICA        PRIMARIA   \n",
      "3                            JUANA DE ASBAJE         BÁSICA        PRIMARIA   \n",
      "4                         ING. ROBERTO GAYOL         BÁSICA        PRIMARIA   \n",
      "\n",
      "  Servicio educativo Nombre del control (Público o Privado)  \\\n",
      "0            GENERAL                                PÚBLICO   \n",
      "1            GENERAL                                PRIVADO   \n",
      "2            GENERAL                                PÚBLICO   \n",
      "3            GENERAL                                PÚBLICO   \n",
      "4            GENERAL                                PÚBLICO   \n",
      "\n",
      "  Tipo de sostenimiento  Clave de la entidad federativa  ...  \\\n",
      "0               FEDERAL                             9.0  ...   \n",
      "1               PRIVADO                             9.0  ...   \n",
      "2               FEDERAL                             9.0  ...   \n",
      "3               FEDERAL                             9.0  ...   \n",
      "4               FEDERAL                             9.0  ...   \n",
      "\n",
      "  Docentes total (hombres)  Docentes total (mujeres) Docentes total  \\\n",
      "0                      0.0                       6.0            6.0   \n",
      "1                      0.0                       3.0            3.0   \n",
      "2                      1.0                      11.0           12.0   \n",
      "3                      3.0                       9.0           12.0   \n",
      "4                      3.0                       7.0           10.0   \n",
      "\n",
      "   Aulas en uso Aulas existentes Tipo de localidad U - Urbano, R - Rural  \\\n",
      "0           6.0             17.0                                     NaN   \n",
      "1           6.0              6.0                                     NaN   \n",
      "2          12.0             12.0                                     NaN   \n",
      "3          12.0             12.0                                     NaN   \n",
      "4          10.0             18.0                                     NaN   \n",
      "\n",
      "   Ubicación de la escuela-localidad al Oeste del Meridiano de Greenwich, expresada en grados, minutos y segundos  \\\n",
      "0                                       99:6:48.60 W                                                                \n",
      "1                                       99:11:3.84 W                                                                \n",
      "2                                       99:5:51.36 W                                                                \n",
      "3                                       99:5:33.36 W                                                                \n",
      "4                                       99:5:33.36 W                                                                \n",
      "\n",
      "  Ubicación de la escuela-localidad al norte del Ecuador, expresada en grados, minutos y segundos  \\\n",
      "0                                      19:28:58.44 N                                                \n",
      "1                                       19:29:2.76 N                                                \n",
      "2                                      19:23:45.24 N                                                \n",
      "3                                      19:21:32.40 N                                                \n",
      "4                                      19:21:32.40 N                                                \n",
      "\n",
      "  Ubicación de la escuela-localidad al Oeste del Meridiano de Greenwich, expresada en grados  \\\n",
      "0                                           -99.1135                                           \n",
      "1                                           -99.1844                                           \n",
      "2                                           -99.0976                                           \n",
      "3                                           -99.0926                                           \n",
      "4                                           -99.0926                                           \n",
      "\n",
      "  Ubicación de la escuela-localidad al norte del Ecuador, expresada en grados  \n",
      "0                                            19.4829                           \n",
      "1                                            19.4841                           \n",
      "2                                            19.3959                           \n",
      "3                                            19.3590                           \n",
      "4                                            19.3590                           \n",
      "\n",
      "[5 rows x 40 columns]\n",
      "(12452, 40)\n"
     ]
    }
   ],
   "source": [
    "# Concateno los df de las escuelas de la cdmx y el edomex\n",
    "#frames = [escuelas_cdmx, escuelas_edomex]\n",
    "escuelas_zm = pd.concat([escuelas_cdmx, escuelas_edomex])\n",
    "print(escuelas_zm.head())\n",
    "print(escuelas_zm.shape)"
   ]
  },
  {
   "cell_type": "code",
   "execution_count": 7,
   "metadata": {},
   "outputs": [],
   "source": [
    "escuelas_zm_gdf = gpd.GeoDataFrame(\n",
    "    escuelas_zm, geometry=gpd.points_from_xy(\n",
    "        escuelas_zm['Ubicación de la escuela-localidad al Oeste del Meridiano de Greenwich, expresada en grados'], \n",
    "                      escuelas_zm['Ubicación de la escuela-localidad al norte del Ecuador, expresada en grados']))"
   ]
  },
  {
   "cell_type": "code",
   "execution_count": 8,
   "metadata": {},
   "outputs": [
    {
     "name": "stdout",
     "output_type": "stream",
     "text": [
      "(12452, 41)\n"
     ]
    },
    {
     "data": {
      "image/png": "[encoded data removed]",
      "text/plain": [
       "<Figure size 432x288 with 1 Axes>"
      ]
     },
     "metadata": {
      "needs_background": "light"
     },
     "output_type": "display_data"
    }
   ],
   "source": [
    "escuelas_zm_gdf.plot()\n",
    "print(escuelas_zm_gdf.shape)"
   ]
  },
  {
   "cell_type": "code",
   "execution_count": 18,
   "metadata": {},
   "outputs": [],
   "source": [
    "longitud_correcta = escuelas_zm_gdf['Ubicación de la escuela-localidad al norte del Ecuador, expresada en grados'] < -75\n",
    "#escuelas_zm_gdf = escuelas_zm_gdf[longitud_correcta]"
   ]
  },
  {
   "cell_type": "code",
   "execution_count": 19,
   "metadata": {},
   "outputs": [
    {
     "data": {
      "text/plain": [
       "12436"
      ]
     },
     "execution_count": 19,
     "metadata": {},
     "output_type": "execute_result"
    }
   ],
   "source": [
    "sum(longitud_correcta)"
   ]
  },
  {
   "cell_type": "code",
   "execution_count": 13,
   "metadata": {},
   "outputs": [
    {
     "data": {
      "text/html": [
       "<div>\n",
       "<style scoped>\n",
       "    .dataframe tbody tr th:only-of-type {\n",
       "        vertical-align: middle;\n",
       "    }\n",
       "\n",
       "    .dataframe tbody tr th {\n",
       "        vertical-align: top;\n",
       "    }\n",
       "\n",
       "    .dataframe thead th {\n",
       "        text-align: right;\n",
       "    }\n",
       "</style>\n",
       "<table border=\"1\" class=\"dataframe\">\n",
       "  <thead>\n",
       "    <tr style=\"text-align: right;\">\n",
       "      <th></th>\n",
       "      <th>Clave del centro de trabajo</th>\n",
       "      <th>Clave del turno</th>\n",
       "      <th>Nombre del turno</th>\n",
       "      <th>Nombre del centro de trabajo</th>\n",
       "      <th>Tipo educativo</th>\n",
       "      <th>Nivel educativo</th>\n",
       "      <th>Servicio educativo</th>\n",
       "      <th>Nombre del control (Público o Privado)</th>\n",
       "      <th>Tipo de sostenimiento</th>\n",
       "      <th>Clave de la entidad federativa</th>\n",
       "      <th>...</th>\n",
       "      <th>Docentes total (mujeres)</th>\n",
       "      <th>Docentes total</th>\n",
       "      <th>Aulas en uso</th>\n",
       "      <th>Aulas existentes</th>\n",
       "      <th>Tipo de localidad U - Urbano, R - Rural</th>\n",
       "      <th>Ubicación de la escuela-localidad al Oeste del Meridiano de Greenwich, expresada en grados, minutos y segundos</th>\n",
       "      <th>Ubicación de la escuela-localidad al norte del Ecuador, expresada en grados, minutos y segundos</th>\n",
       "      <th>Ubicación de la escuela-localidad al Oeste del Meridiano de Greenwich, expresada en grados</th>\n",
       "      <th>Ubicación de la escuela-localidad al norte del Ecuador, expresada en grados</th>\n",
       "      <th>geometry</th>\n",
       "    </tr>\n",
       "  </thead>\n",
       "  <tbody>\n",
       "  </tbody>\n",
       "</table>\n",
       "<p>0 rows × 41 columns</p>\n",
       "</div>"
      ],
      "text/plain": [
       "Empty GeoDataFrame\n",
       "Columns: [Clave del centro de trabajo, Clave del turno, Nombre del turno, Nombre del centro de trabajo, Tipo educativo, Nivel educativo, Servicio educativo, Nombre del control (Público o Privado), Tipo de sostenimiento, Clave de la entidad federativa, Nombre de la entidad, Clave del municipio o delegación, Nombre del municipio o delegación, Clave de la localidad, Nombre de localidad, Domicilio, Número exterior, Entre la calle, Y la calle, Calle posterior, Colonia, Nombre de la colonia, Código postal, Clave lada, Teléfono, Extensión del teléfono, Página web, Alumnos total (hombres), Alumnos total (mujeres), Alumnos total, Docentes total (hombres), Docentes total (mujeres), Docentes total, Aulas en uso, Aulas existentes, Tipo de localidad U - Urbano, R - Rural, Ubicación de la escuela-localidad al Oeste del Meridiano de Greenwich, expresada en grados, minutos y segundos, Ubicación de la escuela-localidad al norte del Ecuador, expresada en grados, minutos y segundos, Ubicación de la escuela-localidad al Oeste del Meridiano de Greenwich, expresada en grados, Ubicación de la escuela-localidad al norte del Ecuador, expresada en grados, geometry]\n",
       "Index: []\n",
       "\n",
       "[0 rows x 41 columns]"
      ]
     },
     "execution_count": 13,
     "metadata": {},
     "output_type": "execute_result"
    }
   ],
   "source": [
    "escuelas_zm_gdf[longitud_correcta]"
   ]
  },
  {
   "cell_type": "code",
   "execution_count": 10,
   "metadata": {},
   "outputs": [
    {
     "data": {
      "text/plain": [
       "<AxesSubplot:>"
      ]
     },
     "execution_count": 10,
     "metadata": {},
     "output_type": "execute_result"
    },
    {
     "data": {
      "image/png": "[encoded data removed]",
      "text/plain": [
       "<Figure size 432x288 with 1 Axes>"
      ]
     },
     "metadata": {
      "needs_background": "light"
     },
     "output_type": "display_data"
    }
   ],
   "source": [
    "escuelas_zm_gdf.plot()"
   ]
  },
  {
   "cell_type": "code",
   "execution_count": 12,
   "metadata": {},
   "outputs": [
    {
     "ename": "NameError",
     "evalue": "name 'escuelas' is not defined",
     "output_type": "error",
     "traceback": [
      "\u001b[0;31m---------------------------------------------------------------------------\u001b[0m",
      "\u001b[0;31mNameError\u001b[0m                                 Traceback (most recent call last)",
      "\u001b[0;32m<ipython-input-12-4283049ebc33>\u001b[0m in \u001b[0;36m<module>\u001b[0;34m\u001b[0m\n\u001b[1;32m      1\u001b[0m \u001b[0;31m#options = ['PRIMARIA', 'SECUNDARIA','PREPARATORIA']\u001b[0m\u001b[0;34m\u001b[0m\u001b[0;34m\u001b[0m\u001b[0;34m\u001b[0m\u001b[0m\n\u001b[1;32m      2\u001b[0m \u001b[0moptions\u001b[0m \u001b[0;34m=\u001b[0m \u001b[0;34m[\u001b[0m\u001b[0;34m'PRIMARIA'\u001b[0m\u001b[0;34m]\u001b[0m\u001b[0;34m\u001b[0m\u001b[0;34m\u001b[0m\u001b[0m\n\u001b[0;32m----> 3\u001b[0;31m \u001b[0mescuelas_zm_gdf\u001b[0m \u001b[0;34m=\u001b[0m \u001b[0mescuelas\u001b[0m\u001b[0;34m[\u001b[0m\u001b[0mescuelas\u001b[0m\u001b[0;34m[\u001b[0m\u001b[0;34m'Nivel educativo'\u001b[0m\u001b[0;34m]\u001b[0m\u001b[0;34m.\u001b[0m\u001b[0misin\u001b[0m\u001b[0;34m(\u001b[0m\u001b[0moptions\u001b[0m\u001b[0;34m)\u001b[0m\u001b[0;34m]\u001b[0m\u001b[0;34m\u001b[0m\u001b[0;34m\u001b[0m\u001b[0m\n\u001b[0m",
      "\u001b[0;31mNameError\u001b[0m: name 'escuelas' is not defined"
     ]
    }
   ],
   "source": [
    "\n",
    "options = ['PRIMARIA']\n",
    "escuelas_zm_gdf = escuelas_zm_gdf[escuelas_zm_gdf['Nivel educativo'].isin(options)]"
   ]
  },
  {
   "cell_type": "code",
   "execution_count": null,
   "metadata": {},
   "outputs": [],
   "source": [
    "cdmx = gpd.read_file(\"../data/agebs_cdmx_2020.zip\")\n",
    "edomex = gpd.read_file(\"../data/agebs_edomex_2020.zip\")\n",
    "limite_metropolitano = gpd.read_file(\"../data/limite_metropolitano.zip\")"
   ]
  },
  {
   "cell_type": "markdown",
   "metadata": {
    "id": "cc5377f6"
   },
   "source": [
    "Hacemos un merge de las agebs para tenerlas en un solo dataframe"
   ]
  },
  {
   "cell_type": "code",
   "execution_count": null,
   "metadata": {
    "colab": {
     "base_uri": "https://localhost:8080/",
     "height": 589
    },
    "executionInfo": {
     "elapsed": 214,
     "status": "ok",
     "timestamp": 1633749707096,
     "user": {
      "displayName": "Dalia Lagunes Rodríguez",
      "photoUrl": "https://lh3.googleusercontent.com/a/default-user=s64",
      "userId": "05954352363843702475"
     },
     "user_tz": 300
    },
    "id": "c74e153c",
    "outputId": "9dc7af5e-c67c-44c8-b3bf-539e4a1408fa"
   },
   "outputs": [],
   "source": [
    "agebs_todas = pd.concat([cdmx, edomex])\n",
    "agebs_todas"
   ]
  },
  {
   "cell_type": "code",
   "execution_count": null,
   "metadata": {},
   "outputs": [],
   "source": [
    "agebs_todas.plot()"
   ]
  },
  {
   "cell_type": "markdown",
   "metadata": {
    "id": "ddde4b61"
   },
   "source": [
    "### Proyectar\n",
    "Para poder cortar las geometrías y trabajarlas todas juntas necesitamos que estén en la misma proyección"
   ]
  },
  {
   "cell_type": "code",
   "execution_count": null,
   "metadata": {
    "id": "a77f85ad"
   },
   "outputs": [],
   "source": [
    "escuelas_zm_gdf = escuelas_zm_gdf.set_crs('epsg:4326')"
   ]
  },
  {
   "cell_type": "markdown",
   "metadata": {
    "id": "f25d8ed7"
   },
   "source": [
    "Las primeras dos están en la proyección nueva de INEGI, las áreas verdes en la anterior y el límite metropolitano está en 32614. Tenemos que poner todas en la misma proyección, podría ser cualquiera de las planas (vamos a medir longitudes). Usemos la nueva del INEGI"
   ]
  },
  {
   "cell_type": "code",
   "execution_count": null,
   "metadata": {
    "executionInfo": {
     "elapsed": 621,
     "status": "ok",
     "timestamp": 1633749765702,
     "user": {
      "displayName": "Dalia Lagunes Rodríguez",
      "photoUrl": "https://lh3.googleusercontent.com/a/default-user=s64",
      "userId": "05954352363843702475"
     },
     "user_tz": 300
    },
    "id": "3c561bae"
   },
   "outputs": [],
   "source": [
    "#areas_verdes = areas_verdes.to_crs(cdmx.crs)\n",
    "escuelas_zm_gdf = escuelas_zm_gdf.to_crs(agebs_todas.crs)\n",
    "#limite_metropolitano = limite_metropolitano.to_crs(cdmx.crs)"
   ]
  },
  {
   "cell_type": "code",
   "execution_count": null,
   "metadata": {},
   "outputs": [],
   "source": [
    "#print(escuelas_zm_gdf.crs)\n",
    "print(\"\")\n",
    "print(agebs_todas.crs)"
   ]
  },
  {
   "cell_type": "markdown",
   "metadata": {
    "id": "c71a7190"
   },
   "source": [
    "### Cortar con el límite metropolitano"
   ]
  },
  {
   "cell_type": "code",
   "execution_count": null,
   "metadata": {
    "colab": {
     "base_uri": "https://localhost:8080/"
    },
    "executionInfo": {
     "elapsed": 14694,
     "status": "ok",
     "timestamp": 1633750265991,
     "user": {
      "displayName": "Dalia Lagunes Rodríguez",
      "photoUrl": "https://lh3.googleusercontent.com/a/default-user=s64",
      "userId": "05954352363843702475"
     },
     "user_tz": 300
    },
    "id": "qC1DOc4AE5ZW",
    "outputId": "be0719df-01e9-4b2d-d25a-2144e5928f4e"
   },
   "outputs": [],
   "source": [
    "#!apt install libspatialindex-dev\n",
    "#!pip install rtree"
   ]
  },
  {
   "cell_type": "code",
   "execution_count": null,
   "metadata": {
    "colab": {
     "base_uri": "https://localhost:8080/",
     "height": 510
    },
    "executionInfo": {
     "elapsed": 198,
     "status": "error",
     "timestamp": 1633750269806,
     "user": {
      "displayName": "Dalia Lagunes Rodríguez",
      "photoUrl": "https://lh3.googleusercontent.com/a/default-user=s64",
      "userId": "05954352363843702475"
     },
     "user_tz": 300
    },
    "id": "4b1bcd91",
    "outputId": "3cf08210-8bde-4596-d8cc-8dfe60c19afc"
   },
   "outputs": [],
   "source": [
    "from geopandas.tools import sjoin\n",
    "\n",
    "#escuelas = sjoin(escuelas, limite_metropolitano)\n",
    "#gebs_zmvm = sjoin(agebs_todas, limite_metropolitano)"
   ]
  },
  {
   "cell_type": "markdown",
   "metadata": {
    "id": "e55cec50"
   },
   "source": [
    "### Áreas y centroides\n",
    "\n",
    "Como vamos a trabajar la accesibilidad en primera instancia sólo entre los centroides de las agebs y las de las áreas verdes, entonces vamos a necesitar dataframes con el área de los parques (que vamos a usar como la oferta en el modelo de accesibilidad) y con los centroides de las agebs y su población total (que va a ser la demanda).\n",
    "\n",
    "**Nota:** vamos a hacer una copia de las capas para usdar los centroides, en caso de que queramos después usar las geometrías originales"
   ]
  },
  {
   "cell_type": "code",
   "execution_count": null,
   "metadata": {
    "id": "5b767d12",
    "outputId": "06b8192b-6b13-489a-b5b6-474273e7703a"
   },
   "outputs": [],
   "source": [
    "# Nos quedamos sólo con los campos que queremos\n",
    "#escuelas['area'] = escuelas.b.area\n",
    "#escuelas = escuelas.loc[:, ['geometry','area']]\n",
    "cdmx_centroides = cdmx.copy()\n",
    "cdmx_centroides['geometry'] = cdmx_centroides.centroid\n",
    "# Nos quedamos sólo con los campos que queremos\n",
    "cdmx_centroides = cdmx_centroides.loc[:, ['CVEGEO', 'geometry']]\n",
    "# Nos conviene tener una columna que identifique a cada parque\n",
    "#areas_verdes_centroides = areas_verdes_centroides.reset_index().rename({'index':'id_parque'}, axis=1)\n",
    "#escuelas = escuelas.reset_index().rename({'index':'id_escuela'}, axis=1)\n",
    "\n",
    "escuelas = escuelas[~escuelas.geometry.is_empty]\n",
    "escuelas.head()"
   ]
  },
  {
   "cell_type": "markdown",
   "metadata": {
    "id": "277ad803"
   },
   "source": [
    "### Datos de población\n",
    "Para modelar la demanda necesitamos ahora unir a las agebs los datos de población, esos vienen en csvs por estado. Lo primero es leerlos y juntarlos en un solo dataframe"
   ]
  },
  {
   "cell_type": "code",
   "execution_count": null,
   "metadata": {
    "id": "df79c90b"
   },
   "outputs": [],
   "source": [
    "datos_cdmx = pd.read_csv(\"../data/conjunto_de_datos_ageb_urbana_09_cpv2020.zip\", dtype={'ENTIDAD':str, 'MUN':str, 'LOC':str, 'AGEB':str})\n",
    "#datos_edomex = pd.read_csv(\"../data/conjunto_de_datos_ageb_urbana_15_cpv2020.zip\", dtype={'ENTIDAD':str, 'MUN':str, 'LOC':str, 'AGEB':str})\n",
    "#datos_zmvm = pd.concat([datos_cdmx, datos_edomex])\n",
    "# seleccionamos las filas que contienen los totales para cada AGEB\n",
    "datos_cdmx = datos_cdmx.loc[datos_cdmx['NOM_LOC'] == 'Total AGEB urbana', :]\n",
    "# Construimos una columna con la clave de ageb\n",
    "datos_cdmx['CVEGEO'] = datos_cdmx['ENTIDAD'] + datos_cdmx['MUN'] + datos_cdmx['LOC'] + datos_cdmx['AGEB']"
   ]
  },
  {
   "cell_type": "code",
   "execution_count": null,
   "metadata": {},
   "outputs": [],
   "source": [
    "datos_cdmx.loc[datos_cdmx['P_6A11'] == '*', 'P_6A11'] = 0\n",
    "#datos_zmvm.loc[datos_zmvm['P_12A14'] == '*', 'P_12A14'] = 0\n",
    "#datos_zmvm.loc[datos_zmvm['P_15A17'] == '*', 'P_15A17'] = 0"
   ]
  },
  {
   "cell_type": "code",
   "execution_count": null,
   "metadata": {},
   "outputs": [],
   "source": [
    "datos_cdmx['P_6A11'] = datos_cdmx['P_6A11'].astype(str).astype(int)\n",
    "#datos_zmvm['P_12A14'] = datos_zmvm['P_12A14'].astype(str).astype(int)\n",
    "#datos_zmvm['P_15A17'] = datos_zmvm['P_15A17'].astype(str).astype(int)"
   ]
  },
  {
   "cell_type": "code",
   "execution_count": null,
   "metadata": {},
   "outputs": [],
   "source": [
    "print(datos_cdmx['P_6A11'].dtypes)\n",
    "#print(datos_zmvm['P_12A14'].dtypes)\n",
    "#print(datos_zmvm['P_15A17'].dtypes)"
   ]
  },
  {
   "cell_type": "code",
   "execution_count": null,
   "metadata": {
    "scrolled": true
   },
   "outputs": [],
   "source": [
    "#poblacion_interes = ['P_6A11', 'P_12A14', 'P_15A17']\n",
    "poblacion_interes = ['P_6A11']\n",
    "datos_cdmx['sum'] = datos_cdmx[poblacion_interes].sum(axis=1)"
   ]
  },
  {
   "cell_type": "code",
   "execution_count": null,
   "metadata": {},
   "outputs": [],
   "source": [
    "# Nos quedamos sólo con las columnas que vamos a usar (sólo queremos los datos de población)\n",
    "datos_cdmx = datos_cdmx.loc[:, ['CVEGEO', 'sum']]"
   ]
  },
  {
   "cell_type": "markdown",
   "metadata": {
    "id": "d511657d"
   },
   "source": [
    "Ahora los podemos unir con los centroides de las agebs"
   ]
  },
  {
   "cell_type": "code",
   "execution_count": null,
   "metadata": {
    "id": "baeee301",
    "outputId": "fba6938f-335a-4d45-e608-c63130d1424d"
   },
   "outputs": [],
   "source": [
    "cdmx_centroides = cdmx_centroides.merge(datos_cdmx, on=\"CVEGEO\", how=\"inner\")\n",
    "# eliminamos datos_zmvm porque ya no lo vmos a usar y ocupa mucha memoria\n",
    "datos_cdmx = None\n",
    "cdmx_centroides"
   ]
  },
  {
   "cell_type": "code",
   "execution_count": null,
   "metadata": {
    "id": "3764be37"
   },
   "outputs": [],
   "source": [
    "# Aquí vamos a guardar todos los datos como pickle para usarlos en otros notebooks\n",
    "cdmx_centroides.to_pickle(\"../data/inter/cdmx_centroides.pkl\", protocol=4)\n",
    "escuelas.to_pickle(\"../data/inter/primarias_centroides.pkl\",protocol=4)"
   ]
  },
  {
   "cell_type": "code",
   "execution_count": null,
   "metadata": {},
   "outputs": [],
   "source": [
    "escuelas.id_escuela"
   ]
  },
  {
   "cell_type": "code",
   "execution_count": null,
   "metadata": {
    "id": "19b12adf-d148-4780-9fab-69b2424949be"
   },
   "outputs": [],
   "source": [
    "lista = []\n",
    "\n",
    "for index, ageb in cdmx_centroides.iterrows():\n",
    "    for i, ageb in escuelas.iterrows():\n",
    "        lista.append([cdmx_centroides.CVEGEO[index],escuelas.id_escuela[i],float(math.sqrt(pow(cdmx_centroides.geometry[index].x-escuelas.geometry[i].x,2)+pow(cdmx_centroides.geometry[index].y-escuelas.geometry[i].y,2)))])\n",
    "        \n",
    "df = pd.DataFrame(lista,columns=['origin','dest','euclidean'])\n",
    "df.head()"
   ]
  },
  {
   "cell_type": "code",
   "execution_count": null,
   "metadata": {},
   "outputs": [],
   "source": [
    "df.to_csv(\"../data/inter/primarias_od_euclidean.csv\", index=False)"
   ]
  },
  {
   "cell_type": "markdown",
   "metadata": {
    "id": "5277209a"
   },
   "source": [
    "## Modelo basado en distancia euclidiana\n",
    "\n",
    "La primera aproximación que vamos a usar es crear un modelo de accesibilidad basado en la distancia euclidiana entre los centroides de las agebs y los de los parques. Para esto, el primer paso es construir una matriz de costos"
   ]
  },
  {
   "cell_type": "markdown",
   "metadata": {
    "id": "0a361321-069a-4a5d-920d-9060efbe3781"
   },
   "source": [
    "### Matriz de costos\n",
    "\n",
    "Para construir la matriz de costos necesitamos obtener el producto cruz de nuestros datos de origen y destino. A partir de eso, podemos calcular la distancia euclidiana y guardar el resultado en la matriz. En general, podríamos ralizar todo el proceso con el siguiente código:\n",
    "\n",
    "````Python\n",
    "# Creamos el producto cruz\n",
    "#cost_df = agebs_zmvm_centroides[['CVEGEO']].merge(areas_verdes_centroides[['id_parque']], how='cross')\n",
    "cost_df = agebs_zmvm_centroides[['CVEGEO']].merge(escuelas[['id_escuela']], how='cross')\n",
    "# Agregamos una columna de costo con puros ceros\n",
    "cost_df['cost'] = 0\n",
    "# renombramos las columnas para que tengan más sentido\n",
    "cost_df.columns = ['origen', 'destino', 'cost']\n",
    "# Instanciamos un objeto de la clase Access\n",
    "A = Access(demand_df            = agebs_zmvm_centroides,\n",
    "           demand_index         = 'CVEGEO',\n",
    "           demand_value         = 'sum',\n",
    "           supply_df            = areas_verdes_centroides,\n",
    "           supply_index         = 'id_escuela',\n",
    "           supply_value         = 'area',\n",
    "           cost_df              = costo_euclidiano,\n",
    "           cost_origin          = 'origin',\n",
    "           cost_dest            = 'dest',\n",
    "           cost_name            = 'euclidean',\n",
    "           neighbor_cost_df     = costo_euclidiano,\n",
    "           neighbor_cost_origin = 'origin',\n",
    "           neighbor_cost_dest   = 'dest',\n",
    "           neighbor_cost_name   = 'euclidean')\n",
    "# Calculamos las distancias\n",
    "A.create_euclidean_distance(threshold = 250000, centroid_o = True, centroid_d = True)\n",
    "````\n",
    "Como esta operación requiere mucha memoria y tiempo, en lugar de ejecutarla vamos a usar un dataframe con los datos precalculados"
   ]
  },
  {
   "cell_type": "code",
   "execution_count": null,
   "metadata": {
    "id": "549df04a",
    "outputId": "9033aa75-c504-41de-a22e-732c468790ae"
   },
   "outputs": [],
   "source": [
    "costo_euclidiano = pd.read_csv(\"../data/inter/primarias_od_euclidean.csv\")\n",
    "costo_euclidiano"
   ]
  },
  {
   "cell_type": "markdown",
   "metadata": {
    "id": "cd95ed6f"
   },
   "source": [
    "### Instancia de accesibilidad\n",
    "\n",
    "Ya tenemos los datos preparados, ahora podemos crear una instancia de la clase `access` con nuestros centros de demanda y de oferta. "
   ]
  },
  {
   "cell_type": "code",
   "execution_count": null,
   "metadata": {
    "id": "dd22f0b9"
   },
   "outputs": [],
   "source": [
    "from access import Access, weights\n",
    "A = Access(demand_df            = cdmx_centroides,\n",
    "           demand_index         = 'CVEGEO',\n",
    "           demand_value         = 'sum',\n",
    "           supply_df            = escuelas,\n",
    "           supply_index         = 'id_escuela',\n",
    "           supply_value         = 'matricula',\n",
    "           cost_df              = costo_euclidiano,\n",
    "           cost_origin          = 'origin',\n",
    "           cost_dest            = 'dest',\n",
    "           cost_name            = 'euclidean',\n",
    "           neighbor_cost_df     = costo_euclidiano,\n",
    "           neighbor_cost_origin = 'origin',\n",
    "           neighbor_cost_dest   = 'dest',\n",
    "           neighbor_cost_name   = 'euclidean')"
   ]
  },
  {
   "cell_type": "markdown",
   "metadata": {
    "id": "6c474ba0"
   },
   "source": [
    "### Modelos de accesibilidad\n",
    "Ahora ya tenemos todos los datos que necesitamos para calcular diferentes modelos de accesibilidad. El ajuste de cada modelos para la cantidad de datos que estamos utilizando es un poco lento, entonces vamos a calcular sólo unos pocos y ver sus diferencias"
   ]
  },
  {
   "cell_type": "code",
   "execution_count": null,
   "metadata": {
    "id": "97b8f8fd"
   },
   "outputs": [],
   "source": [
    "# stepwise weight dictionaries\n",
    "fn1 = weights.step_fn({750 : 1, 1500 : 0.68, 3000 : 0.22})\n",
    "# gaussian media de 1000 metros \n",
    "gaussian = weights.gaussian(750)\n",
    "# gravity catchement pesado por gravedad\n",
    "gravity = weights.gravity(scale = 750, alpha = -1)"
   ]
  },
  {
   "cell_type": "code",
   "execution_count": null,
   "metadata": {
    "id": "54c6518b"
   },
   "outputs": [],
   "source": [
    "A.weighted_catchment(name = \"gravity\", weight_fn = gravity)\n",
    "A.raam(name = \"raam\", tau = 5)"
   ]
  },
  {
   "cell_type": "code",
   "execution_count": null,
   "metadata": {
    "id": "77d7b514"
   },
   "outputs": [],
   "source": [
    "# Guardamos los modelos por si los queremos reutilizar\n",
    "A.norm_access_df.to_csv(\"../data/inter/accesibilidad_primarias_distancia_euclidiana.csv\")"
   ]
  },
  {
   "cell_type": "markdown",
   "metadata": {
    "id": "99d96dd6"
   },
   "source": [
    "Ahora podemos comparar los dos modelos de accesibilidad. Primero unimos los datos de acceesibilidad a las geometrías de los centroides "
   ]
  },
  {
   "cell_type": "code",
   "execution_count": null,
   "metadata": {
    "id": "c9be1876",
    "outputId": "ed0f7fcb-5337-447e-87aa-34dba813539a"
   },
   "outputs": [],
   "source": [
    "mapa_accesibilidad = cdmx_centroides.set_index('CVEGEO')[['geometry']].join(A.norm_access_df, how = \"inner\")\n",
    "mapa_accesibilidad"
   ]
  },
  {
   "cell_type": "markdown",
   "metadata": {
    "id": "49f54a9e"
   },
   "source": [
    "Y ahora podemos hacer un par de mapas para compararlos"
   ]
  },
  {
   "cell_type": "code",
   "execution_count": null,
   "metadata": {
    "id": "a1c48743",
    "outputId": "91d6e722-c63e-4747-955c-795ced7bd03c"
   },
   "outputs": [],
   "source": [
    "fig, (ax1, ax2) = plt.subplots(1,2, figsize=(32,12))\n",
    "ax1 = mapa_accesibilidad.to_crs(epsg=3857).plot('raam_matricula', legend = True,\n",
    "                                                cmap =  \"viridis_r\", \n",
    "                                                markersize = 5, alpha = 0.9, ax = ax1,\n",
    "                                                vmin = mapa_accesibilidad['raam_matricula'].quantile(0.05), \n",
    "                                                vmax = mapa_accesibilidad['raam_matricula'].quantile(0.95),\n",
    "                                                )\n",
    "ax1.set_axis_off()\n",
    "ax1.set(title='Modelo RAAM')\n",
    "ctx.add_basemap(ax1, source=ctx.providers.CartoDB.Positron)\n",
    "\n",
    "ax2 = mapa_accesibilidad.to_crs(epsg=3857).plot('gravity_matricula', legend = True,\n",
    "                                                cmap =  \"viridis\", \n",
    "                                                markersize = 5, alpha = 0.9, ax = ax2,\n",
    "                                                vmin = mapa_accesibilidad['gravity_matricula'].quantile(0.05), \n",
    "                                                vmax = mapa_accesibilidad['gravity_matricula'].quantile(0.95),\n",
    "                                                )\n",
    "ax2.set_axis_off()\n",
    "ax2.set(title='Modelo Gravitatorio')\n",
    "# plt.subplots_adjust(wspace=-.5, hspace=0)\n",
    "ctx.add_basemap(ax2, source=ctx.providers.CartoDB.Positron)\n",
    "plt.tight_layout()"
   ]
  },
  {
   "cell_type": "markdown",
   "metadata": {
    "id": "49ef62f0"
   },
   "source": [
    "Hasta aquí hicimos nuestro primer modelo de accesibilidad utilizando nuestros propios datos. Por supuesto tiene algunas limitaciones obvias: la distancia está modelada _as the crow flies_, lo que no necesariamente corresponde con la realidad; la oferta asume que la capacidad de cada área verde depende únicamente del área, etcétera.\n",
    "\n",
    "Pensemos ahora, además de esas limitaciones obvias, en qué modelos de conectividad funciona mejor para el problema que estamos abordando ¿gravitatorio? ¿RAAM? Lean los artículos, piénsenlo y argumentemos para la próxima clase. "
   ]
  },
  {
   "cell_type": "code",
   "execution_count": null,
   "metadata": {
    "id": "737e3dd6"
   },
   "outputs": [],
   "source": []
  }
 ],
 "metadata": {
  "colab": {
   "name": "accesibilidad_01.ipynb",
   "provenance": []
  },
  "kernelspec": {
   "display_name": "Python 3",
   "language": "python",
   "name": "python3"
  },
  "language_info": {
   "codemirror_mode": {
    "name": "ipython",
    "version": 3
   },
   "file_extension": ".py",
   "mimetype": "text/x-python",
   "name": "python",
   "nbconvert_exporter": "python",
   "pygments_lexer": "ipython3",
   "version": "3.8.10"
  }
 },
 "nbformat": 4,
 "nbformat_minor": 5
}
