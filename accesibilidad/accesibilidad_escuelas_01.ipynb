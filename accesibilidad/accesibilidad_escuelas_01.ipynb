{
 "cells": [
  {
   "cell_type": "markdown",
   "metadata": {
    "id": "c23e29fd"
   },
   "source": [
    "# Accesibilidad a áreas verdes en la Zona Metropolitana del Valle de México\n",
    "\n",
    "En este taller vamos a calcular diferentes modelos de accesibilidad a escuelas primarias. La idea es ir trabajando de lo más simple a los más complejo. Empezaremos con un modelo de conectividad basado sólo en distancias entre centroides e iremos complicando las cosas a partir de ahí, primero usando conectividad de red..."
   ]
  },
  {
   "cell_type": "markdown",
   "metadata": {},
   "source": [
    "### Hecho por: \n",
    "**Daniel Cruz**, **Dalia Lagunes**, **David Martínez** **y Ulises Morales**\n",
    "\n",
    "Temas selectos de Geoinformatica, Maestría en Ciencias de Información Geoespacial, CentroGeo\n",
    "****"
   ]
  },
  {
   "cell_type": "markdown",
   "metadata": {},
   "source": [
    "## Planteamiento del problema\n",
    "\n",
    "La disponibilidad de escuelas primarias es un buen ejercicio para utilizar la librería access de PySAL, ya que se trata de elementos que dependen de dos ubicaciones una que representa una oferta y una que representa una demanda. \n",
    "Los datos necesarios son las escuelas de nivel primaria de la zona metropolitana así como la población de la misma zona dentro del rango de edad de 6 a 13 años\n",
    "También se comparan dos tipos de modelos distintos gravitatorio y RAAM\n"
   ]
  },
  {
   "cell_type": "markdown",
   "metadata": {
    "id": "83813ca0"
   },
   "source": [
    "## Preparación de datos\n",
    "\n",
    "Para este trabajo se utilizaron los datos del marco cartográfico del Censo de 2020 a nivel AGEB y una cartografía de las primarias en la zona Metropolitana del Valle de México\n",
    "\n",
    "Los datos de las primarias se obtuvieron de la página de la SEP https://www.siged.sep.gob.mx/SIGED/escuelas.html en formato excel. Se seleccionaron solamente las primarias de la Ciudad de México y el Estado de México."
   ]
  },
  {
   "cell_type": "code",
   "execution_count": 1,
   "metadata": {
    "executionInfo": {
     "elapsed": 10857,
     "status": "ok",
     "timestamp": 1633749180135,
     "user": {
      "displayName": "Dalia Lagunes Rodríguez",
      "photoUrl": "https://lh3.googleusercontent.com/a/default-user=s64",
      "userId": "05954352363843702475"
     },
     "user_tz": 300
    },
    "id": "Knx-ejOzCVat",
    "outputId": "de3919c6-7764-4c18-f63b-043b2f317eb3"
   },
   "outputs": [],
   "source": [
    "#!pip install geopandas access contextily\n"
   ]
  },
  {
   "cell_type": "markdown",
   "metadata": {},
   "source": [
    "Se importan las librerías necesarias incluida Access que es parte de Python spatial analysis library que es una librería enfocada en datos geoespaciales, Access tiene como objetivo calcular medidas de accesibilidad espacial utilizando los tiempos de viaje y ubicaciones de oferta y demanda."
   ]
  },
  {
   "cell_type": "code",
   "execution_count": 2,
   "metadata": {
    "executionInfo": {
     "elapsed": 449,
     "status": "ok",
     "timestamp": 1633749198231,
     "user": {
      "displayName": "Dalia Lagunes Rodríguez",
      "photoUrl": "https://lh3.googleusercontent.com/a/default-user=s64",
      "userId": "05954352363843702475"
     },
     "user_tz": 300
    },
    "id": "635770cf"
   },
   "outputs": [
    {
     "name": "stderr",
     "output_type": "stream",
     "text": [
      "/home/david/.local/lib/python3.8/site-packages/geopandas/_compat.py:106: UserWarning: The Shapely GEOS version (3.8.0-CAPI-1.13.1 ) is incompatible with the GEOS version PyGEOS was compiled with (3.9.1-CAPI-1.14.2). Conversions between both will be slow.\n",
      "  warnings.warn(\n"
     ]
    }
   ],
   "source": [
    "import pandas as pd\n",
    "import geopandas as gpd\n",
    "from access import Access, weights\n",
    "import matplotlib.pyplot as plt\n",
    "import contextily as ctx\n",
    "import math\n",
    "import numpy as np"
   ]
  },
  {
   "cell_type": "markdown",
   "metadata": {
    "id": "2130eb9b"
   },
   "source": [
    "Se importan los datos de las escuelas de la CDMX y del Estado de México"
   ]
  },
  {
   "cell_type": "code",
   "execution_count": 3,
   "metadata": {},
   "outputs": [
    {
     "name": "stdout",
     "output_type": "stream",
     "text": [
      "(3300, 40)\n"
     ]
    }
   ],
   "source": [
    "escuelas_cdmx = pd.read_excel(r\"./datos/concentrado_escuelas_cdmx.xlsx\")\n",
    "escuelas_cdmx.head()\n",
    "print(escuelas_cdmx.shape)"
   ]
  },
  {
   "cell_type": "code",
   "execution_count": 4,
   "metadata": {},
   "outputs": [
    {
     "name": "stdout",
     "output_type": "stream",
     "text": [
      "(9152, 40)\n"
     ]
    }
   ],
   "source": [
    "escuelas_edomex = pd.read_excel('./datos/concentrado_escuelas_edomex.xlsx')\n",
    "escuelas_edomex.head()\n",
    "print(escuelas_edomex.shape)"
   ]
  },
  {
   "cell_type": "code",
   "execution_count": 5,
   "metadata": {},
   "outputs": [
    {
     "name": "stdout",
     "output_type": "stream",
     "text": [
      "(12452, 40)\n"
     ]
    }
   ],
   "source": [
    "# Concateno los df de las escuelas de la cdmx y el edomex\n",
    "frames = [escuelas_cdmx, escuelas_edomex]\n",
    "escuelas_zmvm = pd.concat(frames)\n",
    "print(escuelas_zmvm.shape)"
   ]
  },
  {
   "cell_type": "markdown",
   "metadata": {},
   "source": [
    "Obtenemos la ubicación a partir de la longitud y latitud"
   ]
  },
  {
   "cell_type": "code",
   "execution_count": 6,
   "metadata": {},
   "outputs": [
    {
     "data": {
      "text/plain": [
       "Index(['Clave del centro de trabajo', 'Clave del turno', 'Nombre del turno',\n",
       "       'Nombre del centro de trabajo', 'Tipo educativo', 'Nivel educativo',\n",
       "       'Servicio educativo', 'Nombre del control (Público o Privado)',\n",
       "       'Tipo de sostenimiento', 'Clave de la entidad federativa',\n",
       "       'Nombre de la entidad', 'Clave del municipio o delegación',\n",
       "       'Nombre del municipio o delegación', 'Clave de la localidad',\n",
       "       'Nombre de localidad', 'Domicilio', 'Número exterior', 'Entre la calle',\n",
       "       'Y la calle', 'Calle posterior', 'Colonia', 'Nombre de la colonia',\n",
       "       'Código postal', 'Clave lada', 'Teléfono', 'Extensión del teléfono',\n",
       "       'Página web', 'Alumnos total (hombres)', 'Alumnos total (mujeres)',\n",
       "       'Alumnos total', 'Docentes total (hombres)', 'Docentes total (mujeres)',\n",
       "       'Docentes total', 'Aulas en uso', 'Aulas existentes',\n",
       "       'Tipo de localidad U - Urbano, R - Rural',\n",
       "       'Ubicación de la escuela-localidad al Oeste del Meridiano de Greenwich, expresada en grados, minutos y segundos',\n",
       "       'Ubicación de la escuela-localidad al norte del Ecuador, expresada en grados, minutos y segundos',\n",
       "       'Ubicación de la escuela-localidad al Oeste del Meridiano de Greenwich, expresada en grados',\n",
       "       'Ubicación de la escuela-localidad al norte del Ecuador, expresada en grados'],\n",
       "      dtype='object')"
      ]
     },
     "execution_count": 6,
     "metadata": {},
     "output_type": "execute_result"
    }
   ],
   "source": [
    "escuelas_zmvm.columns\n"
   ]
  },
  {
   "cell_type": "markdown",
   "metadata": {},
   "source": [
    "La gráfica se muestra de manera errónea esto debido a que algunos de los datos que aparecen tienen errores en las coordenadas por lo cual aparecen en otras ubicaciones.\n",
    "\n",
    "Se corrigió utilizando longitudes menores a -75 grados, dejando solo los valores pertenecientes a la Zona Metropolitana"
   ]
  },
  {
   "cell_type": "code",
   "execution_count": 7,
   "metadata": {},
   "outputs": [],
   "source": [
    "escuelas_zmvm_gdf = gpd.GeoDataFrame(\n",
    "    escuelas_zmvm, geometry=gpd.points_from_xy(\n",
    "        escuelas_zmvm['Ubicación de la escuela-localidad al Oeste del Meridiano de Greenwich, expresada en grados'], \n",
    "                      escuelas_zmvm['Ubicación de la escuela-localidad al norte del Ecuador, expresada en grados']))"
   ]
  },
  {
   "cell_type": "code",
   "execution_count": 8,
   "metadata": {},
   "outputs": [
    {
     "data": {
      "text/html": [
       "<div>\n",
       "<style scoped>\n",
       "    .dataframe tbody tr th:only-of-type {\n",
       "        vertical-align: middle;\n",
       "    }\n",
       "\n",
       "    .dataframe tbody tr th {\n",
       "        vertical-align: top;\n",
       "    }\n",
       "\n",
       "    .dataframe thead th {\n",
       "        text-align: right;\n",
       "    }\n",
       "</style>\n",
       "<table border=\"1\" class=\"dataframe\">\n",
       "  <thead>\n",
       "    <tr style=\"text-align: right;\">\n",
       "      <th></th>\n",
       "      <th>Clave del centro de trabajo</th>\n",
       "      <th>Clave del turno</th>\n",
       "      <th>Nombre del turno</th>\n",
       "      <th>Nombre del centro de trabajo</th>\n",
       "      <th>Tipo educativo</th>\n",
       "      <th>Nivel educativo</th>\n",
       "      <th>Servicio educativo</th>\n",
       "      <th>Nombre del control (Público o Privado)</th>\n",
       "      <th>Tipo de sostenimiento</th>\n",
       "      <th>Clave de la entidad federativa</th>\n",
       "      <th>...</th>\n",
       "      <th>Docentes total (mujeres)</th>\n",
       "      <th>Docentes total</th>\n",
       "      <th>Aulas en uso</th>\n",
       "      <th>Aulas existentes</th>\n",
       "      <th>Tipo de localidad U - Urbano, R - Rural</th>\n",
       "      <th>Ubicación de la escuela-localidad al Oeste del Meridiano de Greenwich, expresada en grados, minutos y segundos</th>\n",
       "      <th>Ubicación de la escuela-localidad al norte del Ecuador, expresada en grados, minutos y segundos</th>\n",
       "      <th>Ubicación de la escuela-localidad al Oeste del Meridiano de Greenwich, expresada en grados</th>\n",
       "      <th>Ubicación de la escuela-localidad al norte del Ecuador, expresada en grados</th>\n",
       "      <th>geometry</th>\n",
       "    </tr>\n",
       "  </thead>\n",
       "  <tbody>\n",
       "    <tr>\n",
       "      <th>0</th>\n",
       "      <td>09DPR1317S</td>\n",
       "      <td>2</td>\n",
       "      <td>VESPERTINO</td>\n",
       "      <td>PROFR. DANIEL DELGADILLO</td>\n",
       "      <td>BÁSICA</td>\n",
       "      <td>PRIMARIA</td>\n",
       "      <td>GENERAL</td>\n",
       "      <td>PÚBLICO</td>\n",
       "      <td>FEDERAL</td>\n",
       "      <td>9.0</td>\n",
       "      <td>...</td>\n",
       "      <td>6.0</td>\n",
       "      <td>6.0</td>\n",
       "      <td>6.0</td>\n",
       "      <td>17.0</td>\n",
       "      <td>NaN</td>\n",
       "      <td>99:6:48.60 W</td>\n",
       "      <td>19:28:58.44 N</td>\n",
       "      <td>-99.1135</td>\n",
       "      <td>19.4829</td>\n",
       "      <td>POINT (-99.11350 19.48290)</td>\n",
       "    </tr>\n",
       "    <tr>\n",
       "      <th>1</th>\n",
       "      <td>09PPR1197A</td>\n",
       "      <td>1</td>\n",
       "      <td>MATUTINO</td>\n",
       "      <td>\"COLEGIO \"\"TRILINGÜE PEDRO MARIA ANAYA\"\"\"</td>\n",
       "      <td>BÁSICA</td>\n",
       "      <td>PRIMARIA</td>\n",
       "      <td>GENERAL</td>\n",
       "      <td>PRIVADO</td>\n",
       "      <td>PRIVADO</td>\n",
       "      <td>9.0</td>\n",
       "      <td>...</td>\n",
       "      <td>3.0</td>\n",
       "      <td>3.0</td>\n",
       "      <td>6.0</td>\n",
       "      <td>6.0</td>\n",
       "      <td>NaN</td>\n",
       "      <td>99:11:3.84 W</td>\n",
       "      <td>19:29:2.76 N</td>\n",
       "      <td>-99.1844</td>\n",
       "      <td>19.4841</td>\n",
       "      <td>POINT (-99.18440 19.48410)</td>\n",
       "    </tr>\n",
       "    <tr>\n",
       "      <th>2</th>\n",
       "      <td>09DPR0943D</td>\n",
       "      <td>1</td>\n",
       "      <td>MATUTINO</td>\n",
       "      <td>ING. JOAQUIN GALLO MONTERRUBIO</td>\n",
       "      <td>BÁSICA</td>\n",
       "      <td>PRIMARIA</td>\n",
       "      <td>GENERAL</td>\n",
       "      <td>PÚBLICO</td>\n",
       "      <td>FEDERAL</td>\n",
       "      <td>9.0</td>\n",
       "      <td>...</td>\n",
       "      <td>11.0</td>\n",
       "      <td>12.0</td>\n",
       "      <td>12.0</td>\n",
       "      <td>12.0</td>\n",
       "      <td>NaN</td>\n",
       "      <td>99:5:51.36 W</td>\n",
       "      <td>19:23:45.24 N</td>\n",
       "      <td>-99.0976</td>\n",
       "      <td>19.3959</td>\n",
       "      <td>POINT (-99.09760 19.39590)</td>\n",
       "    </tr>\n",
       "    <tr>\n",
       "      <th>3</th>\n",
       "      <td>09DPR1177I</td>\n",
       "      <td>1</td>\n",
       "      <td>MATUTINO</td>\n",
       "      <td>JUANA DE ASBAJE</td>\n",
       "      <td>BÁSICA</td>\n",
       "      <td>PRIMARIA</td>\n",
       "      <td>GENERAL</td>\n",
       "      <td>PÚBLICO</td>\n",
       "      <td>FEDERAL</td>\n",
       "      <td>9.0</td>\n",
       "      <td>...</td>\n",
       "      <td>9.0</td>\n",
       "      <td>12.0</td>\n",
       "      <td>12.0</td>\n",
       "      <td>12.0</td>\n",
       "      <td>NaN</td>\n",
       "      <td>99:5:33.36 W</td>\n",
       "      <td>19:21:32.40 N</td>\n",
       "      <td>-99.0926</td>\n",
       "      <td>19.3590</td>\n",
       "      <td>POINT (-99.09260 19.35900)</td>\n",
       "    </tr>\n",
       "    <tr>\n",
       "      <th>4</th>\n",
       "      <td>09DPR1217T</td>\n",
       "      <td>2</td>\n",
       "      <td>VESPERTINO</td>\n",
       "      <td>ING. ROBERTO GAYOL</td>\n",
       "      <td>BÁSICA</td>\n",
       "      <td>PRIMARIA</td>\n",
       "      <td>GENERAL</td>\n",
       "      <td>PÚBLICO</td>\n",
       "      <td>FEDERAL</td>\n",
       "      <td>9.0</td>\n",
       "      <td>...</td>\n",
       "      <td>7.0</td>\n",
       "      <td>10.0</td>\n",
       "      <td>10.0</td>\n",
       "      <td>18.0</td>\n",
       "      <td>NaN</td>\n",
       "      <td>99:5:33.36 W</td>\n",
       "      <td>19:21:32.40 N</td>\n",
       "      <td>-99.0926</td>\n",
       "      <td>19.3590</td>\n",
       "      <td>POINT (-99.09260 19.35900)</td>\n",
       "    </tr>\n",
       "  </tbody>\n",
       "</table>\n",
       "<p>5 rows × 41 columns</p>\n",
       "</div>"
      ],
      "text/plain": [
       "  Clave del centro de trabajo Clave del turno Nombre del turno  \\\n",
       "0                  09DPR1317S               2       VESPERTINO   \n",
       "1                  09PPR1197A               1         MATUTINO   \n",
       "2                  09DPR0943D               1         MATUTINO   \n",
       "3                  09DPR1177I               1         MATUTINO   \n",
       "4                  09DPR1217T               2       VESPERTINO   \n",
       "\n",
       "                Nombre del centro de trabajo Tipo educativo Nivel educativo  \\\n",
       "0                   PROFR. DANIEL DELGADILLO         BÁSICA        PRIMARIA   \n",
       "1  \"COLEGIO \"\"TRILINGÜE PEDRO MARIA ANAYA\"\"\"         BÁSICA        PRIMARIA   \n",
       "2             ING. JOAQUIN GALLO MONTERRUBIO         BÁSICA        PRIMARIA   \n",
       "3                            JUANA DE ASBAJE         BÁSICA        PRIMARIA   \n",
       "4                         ING. ROBERTO GAYOL         BÁSICA        PRIMARIA   \n",
       "\n",
       "  Servicio educativo Nombre del control (Público o Privado)  \\\n",
       "0            GENERAL                                PÚBLICO   \n",
       "1            GENERAL                                PRIVADO   \n",
       "2            GENERAL                                PÚBLICO   \n",
       "3            GENERAL                                PÚBLICO   \n",
       "4            GENERAL                                PÚBLICO   \n",
       "\n",
       "  Tipo de sostenimiento  Clave de la entidad federativa  ...  \\\n",
       "0               FEDERAL                             9.0  ...   \n",
       "1               PRIVADO                             9.0  ...   \n",
       "2               FEDERAL                             9.0  ...   \n",
       "3               FEDERAL                             9.0  ...   \n",
       "4               FEDERAL                             9.0  ...   \n",
       "\n",
       "  Docentes total (mujeres)  Docentes total Aulas en uso  Aulas existentes  \\\n",
       "0                      6.0             6.0          6.0              17.0   \n",
       "1                      3.0             3.0          6.0               6.0   \n",
       "2                     11.0            12.0         12.0              12.0   \n",
       "3                      9.0            12.0         12.0              12.0   \n",
       "4                      7.0            10.0         10.0              18.0   \n",
       "\n",
       "  Tipo de localidad U - Urbano, R - Rural  \\\n",
       "0                                     NaN   \n",
       "1                                     NaN   \n",
       "2                                     NaN   \n",
       "3                                     NaN   \n",
       "4                                     NaN   \n",
       "\n",
       "  Ubicación de la escuela-localidad al Oeste del Meridiano de Greenwich, expresada en grados, minutos y segundos  \\\n",
       "0                                       99:6:48.60 W                                                               \n",
       "1                                       99:11:3.84 W                                                               \n",
       "2                                       99:5:51.36 W                                                               \n",
       "3                                       99:5:33.36 W                                                               \n",
       "4                                       99:5:33.36 W                                                               \n",
       "\n",
       "   Ubicación de la escuela-localidad al norte del Ecuador, expresada en grados, minutos y segundos  \\\n",
       "0                                      19:28:58.44 N                                                 \n",
       "1                                       19:29:2.76 N                                                 \n",
       "2                                      19:23:45.24 N                                                 \n",
       "3                                      19:21:32.40 N                                                 \n",
       "4                                      19:21:32.40 N                                                 \n",
       "\n",
       "  Ubicación de la escuela-localidad al Oeste del Meridiano de Greenwich, expresada en grados  \\\n",
       "0                                           -99.1135                                           \n",
       "1                                           -99.1844                                           \n",
       "2                                           -99.0976                                           \n",
       "3                                           -99.0926                                           \n",
       "4                                           -99.0926                                           \n",
       "\n",
       "  Ubicación de la escuela-localidad al norte del Ecuador, expresada en grados  \\\n",
       "0                                            19.4829                            \n",
       "1                                            19.4841                            \n",
       "2                                            19.3959                            \n",
       "3                                            19.3590                            \n",
       "4                                            19.3590                            \n",
       "\n",
       "                     geometry  \n",
       "0  POINT (-99.11350 19.48290)  \n",
       "1  POINT (-99.18440 19.48410)  \n",
       "2  POINT (-99.09760 19.39590)  \n",
       "3  POINT (-99.09260 19.35900)  \n",
       "4  POINT (-99.09260 19.35900)  \n",
       "\n",
       "[5 rows x 41 columns]"
      ]
     },
     "execution_count": 8,
     "metadata": {},
     "output_type": "execute_result"
    }
   ],
   "source": [
    "escuelas_zmvm_gdf.head()"
   ]
  },
  {
   "cell_type": "code",
   "execution_count": 9,
   "metadata": {},
   "outputs": [
    {
     "data": {
      "text/plain": [
       "<AxesSubplot:>"
      ]
     },
     "execution_count": 9,
     "metadata": {},
     "output_type": "execute_result"
    },
    {
     "data": {
      "image/png": "[encoded data removed]",
      "text/plain": [
       "<Figure size 432x288 with 1 Axes>"
      ]
     },
     "metadata": {
      "needs_background": "light"
     },
     "output_type": "display_data"
    }
   ],
   "source": [
    "escuelas_zmvm_gdf.plot()"
   ]
  },
  {
   "cell_type": "markdown",
   "metadata": {},
   "source": [
    "Se limitó el nivel educativo a primaria "
   ]
  },
  {
   "cell_type": "code",
   "execution_count": 10,
   "metadata": {},
   "outputs": [
    {
     "data": {
      "text/plain": [
       "<AxesSubplot:>"
      ]
     },
     "execution_count": 10,
     "metadata": {},
     "output_type": "execute_result"
    },
    {
     "data": {
      "image/png": "[encoded data removed]",
      "text/plain": [
       "<Figure size 432x288 with 1 Axes>"
      ]
     },
     "metadata": {
      "needs_background": "light"
     },
     "output_type": "display_data"
    }
   ],
   "source": [
    "longitud_correcta = escuelas_zmvm_gdf['Ubicación de la escuela-localidad al Oeste del Meridiano de Greenwich, expresada en grados'] < -75\n",
    "escuelas_zmvm_gdf = escuelas_zmvm_gdf[longitud_correcta]\n",
    "escuelas_zmvm_gdf.plot()"
   ]
  },
  {
   "cell_type": "code",
   "execution_count": 11,
   "metadata": {},
   "outputs": [],
   "source": [
    "escuelas_zmvm_gdf = escuelas_zmvm_gdf[['Nivel educativo', 'Docentes total', 'Alumnos total', 'geometry']]"
   ]
  },
  {
   "cell_type": "code",
   "execution_count": 12,
   "metadata": {},
   "outputs": [],
   "source": [
    "options = ['PRIMARIA']\n",
    "escuelas_zmvm_gdf = escuelas_zmvm_gdf[escuelas_zmvm_gdf['Nivel educativo'].isin(options)]"
   ]
  },
  {
   "cell_type": "markdown",
   "metadata": {},
   "source": [
    "Se importan los datos de las agebs de la CDMX y del Estado de México así como el límite metropolitano\n"
   ]
  },
  {
   "cell_type": "code",
   "execution_count": 13,
   "metadata": {},
   "outputs": [],
   "source": [
    "agebs_cdmx = gpd.read_file(\"./datos/agebs_cdmx_2020.zip\")\n",
    "agebs_edomex = gpd.read_file(\"./datos/agebs_edomex_2020.zip\")\n",
    "limite_metropolitano = gpd.read_file(\"./datos/limite_metropolitano.zip\")"
   ]
  },
  {
   "cell_type": "markdown",
   "metadata": {
    "id": "cc5377f6"
   },
   "source": [
    "se hizo un merge de las agebs para tenerlas en un solo dataframe"
   ]
  },
  {
   "cell_type": "code",
   "execution_count": 14,
   "metadata": {
    "colab": {
     "base_uri": "https://localhost:8080/",
     "height": 589
    },
    "executionInfo": {
     "elapsed": 214,
     "status": "ok",
     "timestamp": 1633749707096,
     "user": {
      "displayName": "Dalia Lagunes Rodríguez",
      "photoUrl": "https://lh3.googleusercontent.com/a/default-user=s64",
      "userId": "05954352363843702475"
     },
     "user_tz": 300
    },
    "id": "c74e153c",
    "outputId": "9dc7af5e-c67c-44c8-b3bf-539e4a1408fa"
   },
   "outputs": [
    {
     "data": {
      "text/html": [
       "<div>\n",
       "<style scoped>\n",
       "    .dataframe tbody tr th:only-of-type {\n",
       "        vertical-align: middle;\n",
       "    }\n",
       "\n",
       "    .dataframe tbody tr th {\n",
       "        vertical-align: top;\n",
       "    }\n",
       "\n",
       "    .dataframe thead th {\n",
       "        text-align: right;\n",
       "    }\n",
       "</style>\n",
       "<table border=\"1\" class=\"dataframe\">\n",
       "  <thead>\n",
       "    <tr style=\"text-align: right;\">\n",
       "      <th></th>\n",
       "      <th>CVEGEO</th>\n",
       "      <th>CVE_ENT</th>\n",
       "      <th>CVE_MUN</th>\n",
       "      <th>CVE_LOC</th>\n",
       "      <th>CVE_AGEB</th>\n",
       "      <th>geometry</th>\n",
       "    </tr>\n",
       "  </thead>\n",
       "  <tbody>\n",
       "    <tr>\n",
       "      <th>0</th>\n",
       "      <td>0901000011716</td>\n",
       "      <td>09</td>\n",
       "      <td>010</td>\n",
       "      <td>0001</td>\n",
       "      <td>1716</td>\n",
       "      <td>POLYGON ((2787237.541 816989.461, 2787288.728 ...</td>\n",
       "    </tr>\n",
       "    <tr>\n",
       "      <th>1</th>\n",
       "      <td>0901000012150</td>\n",
       "      <td>09</td>\n",
       "      <td>010</td>\n",
       "      <td>0001</td>\n",
       "      <td>2150</td>\n",
       "      <td>POLYGON ((2794154.458 823013.444, 2794155.774 ...</td>\n",
       "    </tr>\n",
       "    <tr>\n",
       "      <th>2</th>\n",
       "      <td>0901000011133</td>\n",
       "      <td>09</td>\n",
       "      <td>010</td>\n",
       "      <td>0001</td>\n",
       "      <td>1133</td>\n",
       "      <td>POLYGON ((2795690.723 820050.788, 2795684.238 ...</td>\n",
       "    </tr>\n",
       "    <tr>\n",
       "      <th>3</th>\n",
       "      <td>0901000011307</td>\n",
       "      <td>09</td>\n",
       "      <td>010</td>\n",
       "      <td>0001</td>\n",
       "      <td>1307</td>\n",
       "      <td>POLYGON ((2792584.475 815678.668, 2792624.325 ...</td>\n",
       "    </tr>\n",
       "    <tr>\n",
       "      <th>4</th>\n",
       "      <td>0901000010281</td>\n",
       "      <td>09</td>\n",
       "      <td>010</td>\n",
       "      <td>0001</td>\n",
       "      <td>0281</td>\n",
       "      <td>POLYGON ((2788845.392 823526.074, 2788840.549 ...</td>\n",
       "    </tr>\n",
       "  </tbody>\n",
       "</table>\n",
       "</div>"
      ],
      "text/plain": [
       "          CVEGEO CVE_ENT CVE_MUN CVE_LOC CVE_AGEB  \\\n",
       "0  0901000011716      09     010    0001     1716   \n",
       "1  0901000012150      09     010    0001     2150   \n",
       "2  0901000011133      09     010    0001     1133   \n",
       "3  0901000011307      09     010    0001     1307   \n",
       "4  0901000010281      09     010    0001     0281   \n",
       "\n",
       "                                            geometry  \n",
       "0  POLYGON ((2787237.541 816989.461, 2787288.728 ...  \n",
       "1  POLYGON ((2794154.458 823013.444, 2794155.774 ...  \n",
       "2  POLYGON ((2795690.723 820050.788, 2795684.238 ...  \n",
       "3  POLYGON ((2792584.475 815678.668, 2792624.325 ...  \n",
       "4  POLYGON ((2788845.392 823526.074, 2788840.549 ...  "
      ]
     },
     "execution_count": 14,
     "metadata": {},
     "output_type": "execute_result"
    }
   ],
   "source": [
    "agebs_todas = pd.concat([agebs_cdmx, agebs_edomex])\n",
    "agebs_todas.head()"
   ]
  },
  {
   "cell_type": "markdown",
   "metadata": {},
   "source": [
    "Graficamos las agebs para observar su ubicación "
   ]
  },
  {
   "cell_type": "code",
   "execution_count": 15,
   "metadata": {},
   "outputs": [
    {
     "data": {
      "text/plain": [
       "<AxesSubplot:>"
      ]
     },
     "execution_count": 15,
     "metadata": {},
     "output_type": "execute_result"
    },
    {
     "data": {
      "image/png": "[encoded data removed]",
      "text/plain": [
       "<Figure size 432x288 with 1 Axes>"
      ]
     },
     "metadata": {
      "needs_background": "light"
     },
     "output_type": "display_data"
    }
   ],
   "source": [
    "agebs_todas.plot()"
   ]
  },
  {
   "cell_type": "markdown",
   "metadata": {
    "id": "ddde4b61"
   },
   "source": [
    "### Proyectar\n",
    "Para poder cortar las geometrías y trabajarlas todas juntas necesitamos que estén en la misma proyección"
   ]
  },
  {
   "cell_type": "code",
   "execution_count": 16,
   "metadata": {
    "id": "a77f85ad"
   },
   "outputs": [],
   "source": [
    "escuelas_zmvm_gdf = escuelas_zmvm_gdf.set_crs('epsg:4326')"
   ]
  },
  {
   "cell_type": "markdown",
   "metadata": {
    "id": "f25d8ed7"
   },
   "source": [
    "Las primeras dos están en la proyección nueva de INEGI, las áreas verdes en la anterior y el límite metropolitano está en 32614. Tenemos que poner todas en la misma proyección, podría ser cualquiera de las planas (vamos a medir longitudes). Usemos la nueva del INEGI"
   ]
  },
  {
   "cell_type": "code",
   "execution_count": 17,
   "metadata": {
    "executionInfo": {
     "elapsed": 621,
     "status": "ok",
     "timestamp": 1633749765702,
     "user": {
      "displayName": "Dalia Lagunes Rodríguez",
      "photoUrl": "https://lh3.googleusercontent.com/a/default-user=s64",
      "userId": "05954352363843702475"
     },
     "user_tz": 300
    },
    "id": "3c561bae"
   },
   "outputs": [],
   "source": [
    "escuelas_zmvm_gdf = escuelas_zmvm_gdf.to_crs(agebs_todas.crs)\n",
    "limite_metropolitano = limite_metropolitano.to_crs(agebs_todas.crs)"
   ]
  },
  {
   "cell_type": "code",
   "execution_count": 18,
   "metadata": {},
   "outputs": [
    {
     "name": "stdout",
     "output_type": "stream",
     "text": [
      "PROJCS[\"MEXICO_ITRF_2008_LCC\",GEOGCS[\"GCS_ITRF_2008\",DATUM[\"ITRF_2008\",SPHEROID[\"GRS_1980\",6378137.0,298.257222101]],PRIMEM[\"Greenwich\",0.0],UNIT[\"Degree\",0.0174532925199433]],PROJECTION[\"Lambert_Conformal_Conic_2SP\"],PARAMETER[\"False_Easting\",2500000.0],PARAMETER[\"False_Northing\",0.0],PARAMETER[\"Central_Meridian\",-102.0],PARAMETER[\"Standard_Parallel_1\",17.5],PARAMETER[\"Standard_Parallel_2\",29.5],PARAMETER[\"Latitude_Of_Origin\",12.0],UNIT[\"Meter\",1.0]]\n",
      "\n",
      "PROJCS[\"MEXICO_ITRF_2008_LCC\",GEOGCS[\"GCS_ITRF_2008\",DATUM[\"ITRF_2008\",SPHEROID[\"GRS_1980\",6378137.0,298.257222101]],PRIMEM[\"Greenwich\",0.0],UNIT[\"Degree\",0.0174532925199433]],PROJECTION[\"Lambert_Conformal_Conic_2SP\"],PARAMETER[\"False_Easting\",2500000.0],PARAMETER[\"False_Northing\",0.0],PARAMETER[\"Central_Meridian\",-102.0],PARAMETER[\"Standard_Parallel_1\",17.5],PARAMETER[\"Standard_Parallel_2\",29.5],PARAMETER[\"Latitude_Of_Origin\",12.0],UNIT[\"Meter\",1.0]]\n"
     ]
    }
   ],
   "source": [
    "print(escuelas_zmvm_gdf.crs)\n",
    "print(\"\")\n",
    "print(agebs_todas.crs)"
   ]
  },
  {
   "cell_type": "markdown",
   "metadata": {
    "id": "c71a7190"
   },
   "source": [
    "### Cortar con el límite metropolitano"
   ]
  },
  {
   "cell_type": "markdown",
   "metadata": {
    "id": "e55cec50"
   },
   "source": [
    "### Áreas y centroides\n",
    "\n",
    "Como vamos a trabajar la accesibilidad en primera instancia sólo entre los centroides de las agebs y las de las áreas verdes, entonces vamos a necesitar dataframes con el área de los parques (que vamos a usar como la oferta en el modelo de accesibilidad) y con los centroides de las agebs y su población total (que va a ser la demanda).\n",
    "\n",
    "**Nota:** vamos a hacer una copia de las capas para usdar los centroides, en caso de que queramos después usar las geometrías originales"
   ]
  },
  {
   "cell_type": "code",
   "execution_count": 19,
   "metadata": {
    "colab": {
     "base_uri": "https://localhost:8080/",
     "height": 510
    },
    "executionInfo": {
     "elapsed": 198,
     "status": "error",
     "timestamp": 1633750269806,
     "user": {
      "displayName": "Dalia Lagunes Rodríguez",
      "photoUrl": "https://lh3.googleusercontent.com/a/default-user=s64",
      "userId": "05954352363843702475"
     },
     "user_tz": 300
    },
    "id": "4b1bcd91",
    "outputId": "3cf08210-8bde-4596-d8cc-8dfe60c19afc"
   },
   "outputs": [],
   "source": [
    "from geopandas.tools import sjoin\n",
    "\n",
    "escuelas_zm_gdf = sjoin(escuelas_zmvm_gdf, limite_metropolitano)\n",
    "agebs_zmvm = sjoin(agebs_todas, limite_metropolitano)"
   ]
  },
  {
   "cell_type": "markdown",
   "metadata": {},
   "source": [
    "### Áreas y centroides\n",
    "\n",
    "Al trabajar la accesibilidad en primera instancia sólo entre los centroides de las agebs y las escuelas, entonces vamos a necesitar dataframes con la matrícula de las escuelas (que vamos a usar como la oferta en el modelo de accesibilidad) y con los centroides de las agebs y su población total (que va a ser la demanda).\n",
    "\n",
    "**Nota:** vamos a hacer una copia de las capas para usar los centroides, en caso de que queramos después usar las geometrías originales"
   ]
  },
  {
   "cell_type": "code",
   "execution_count": 20,
   "metadata": {
    "id": "5b767d12",
    "outputId": "06b8192b-6b13-489a-b5b6-474273e7703a"
   },
   "outputs": [
    {
     "data": {
      "text/plain": [
       "<AxesSubplot:>"
      ]
     },
     "execution_count": 20,
     "metadata": {},
     "output_type": "execute_result"
    },
    {
     "data": {
      "image/png": "[encoded data removed]",
      "text/plain": [
       "<Figure size 432x288 with 1 Axes>"
      ]
     },
     "metadata": {
      "needs_background": "light"
     },
     "output_type": "display_data"
    }
   ],
   "source": [
    "# Nos quedamos sólo con los campos que queremos\n",
    "agebs_zmvm_centroides = agebs_zmvm.copy()\n",
    "agebs_zmvm_centroides['geometry'] = agebs_zmvm_centroides.centroid\n",
    "# Nos quedamos sólo con los campos que queremos\n",
    "agebs_zmvm_centroides = agebs_zmvm_centroides.loc[:, ['CVEGEO', 'geometry']]\n",
    "agebs_zmvm_centroides.plot()"
   ]
  },
  {
   "cell_type": "code",
   "execution_count": 21,
   "metadata": {},
   "outputs": [
    {
     "data": {
      "text/html": [
       "<div>\n",
       "<style scoped>\n",
       "    .dataframe tbody tr th:only-of-type {\n",
       "        vertical-align: middle;\n",
       "    }\n",
       "\n",
       "    .dataframe tbody tr th {\n",
       "        vertical-align: top;\n",
       "    }\n",
       "\n",
       "    .dataframe thead th {\n",
       "        text-align: right;\n",
       "    }\n",
       "</style>\n",
       "<table border=\"1\" class=\"dataframe\">\n",
       "  <thead>\n",
       "    <tr style=\"text-align: right;\">\n",
       "      <th></th>\n",
       "      <th>id_escuela</th>\n",
       "      <th>Nivel educativo</th>\n",
       "      <th>Docentes total</th>\n",
       "      <th>Alumnos total</th>\n",
       "      <th>geometry</th>\n",
       "    </tr>\n",
       "  </thead>\n",
       "  <tbody>\n",
       "    <tr>\n",
       "      <th>0</th>\n",
       "      <td>0</td>\n",
       "      <td>PRIMARIA</td>\n",
       "      <td>6.0</td>\n",
       "      <td>106.0</td>\n",
       "      <td>POINT (2802113.976 834649.424)</td>\n",
       "    </tr>\n",
       "    <tr>\n",
       "      <th>1</th>\n",
       "      <td>1</td>\n",
       "      <td>PRIMARIA</td>\n",
       "      <td>3.0</td>\n",
       "      <td>98.0</td>\n",
       "      <td>POINT (2794691.631 834634.323)</td>\n",
       "    </tr>\n",
       "    <tr>\n",
       "      <th>2</th>\n",
       "      <td>2</td>\n",
       "      <td>PRIMARIA</td>\n",
       "      <td>12.0</td>\n",
       "      <td>337.0</td>\n",
       "      <td>POINT (2803972.228 825082.509)</td>\n",
       "    </tr>\n",
       "    <tr>\n",
       "      <th>3</th>\n",
       "      <td>3</td>\n",
       "      <td>PRIMARIA</td>\n",
       "      <td>12.0</td>\n",
       "      <td>331.0</td>\n",
       "      <td>POINT (2804578.376 821020.898)</td>\n",
       "    </tr>\n",
       "    <tr>\n",
       "      <th>4</th>\n",
       "      <td>4</td>\n",
       "      <td>PRIMARIA</td>\n",
       "      <td>10.0</td>\n",
       "      <td>187.0</td>\n",
       "      <td>POINT (2804578.376 821020.898)</td>\n",
       "    </tr>\n",
       "  </tbody>\n",
       "</table>\n",
       "</div>"
      ],
      "text/plain": [
       "   id_escuela Nivel educativo  Docentes total  Alumnos total  \\\n",
       "0           0        PRIMARIA             6.0          106.0   \n",
       "1           1        PRIMARIA             3.0           98.0   \n",
       "2           2        PRIMARIA            12.0          337.0   \n",
       "3           3        PRIMARIA            12.0          331.0   \n",
       "4           4        PRIMARIA            10.0          187.0   \n",
       "\n",
       "                         geometry  \n",
       "0  POINT (2802113.976 834649.424)  \n",
       "1  POINT (2794691.631 834634.323)  \n",
       "2  POINT (2803972.228 825082.509)  \n",
       "3  POINT (2804578.376 821020.898)  \n",
       "4  POINT (2804578.376 821020.898)  "
      ]
     },
     "execution_count": 21,
     "metadata": {},
     "output_type": "execute_result"
    }
   ],
   "source": [
    "# Nos conviene tener una columna que identifique a cada parque\n",
    "escuelas_zmvm_gdf = escuelas_zmvm_gdf[~escuelas_zmvm_gdf.geometry.is_empty]\n",
    "escuelas_zmvm_gdf = escuelas_zmvm_gdf.reset_index().rename({'index':'id_escuela'}, axis=1)\n",
    "escuelas_zmvm_gdf.head()"
   ]
  },
  {
   "cell_type": "markdown",
   "metadata": {
    "id": "277ad803"
   },
   "source": [
    "### Datos de población\n",
    "Para modelar la demanda necesitamos ahora unir a las agebs los datos de población, esos vienen en csvs por estado. Lo primero es leerlos y juntarlos en un solo dataframe"
   ]
  },
  {
   "cell_type": "code",
   "execution_count": 22,
   "metadata": {
    "id": "df79c90b"
   },
   "outputs": [
    {
     "data": {
      "text/html": [
       "<div>\n",
       "<style scoped>\n",
       "    .dataframe tbody tr th:only-of-type {\n",
       "        vertical-align: middle;\n",
       "    }\n",
       "\n",
       "    .dataframe tbody tr th {\n",
       "        vertical-align: top;\n",
       "    }\n",
       "\n",
       "    .dataframe thead th {\n",
       "        text-align: right;\n",
       "    }\n",
       "</style>\n",
       "<table border=\"1\" class=\"dataframe\">\n",
       "  <thead>\n",
       "    <tr style=\"text-align: right;\">\n",
       "      <th></th>\n",
       "      <th>ENTIDAD</th>\n",
       "      <th>NOM_ENT</th>\n",
       "      <th>MUN</th>\n",
       "      <th>NOM_MUN</th>\n",
       "      <th>LOC</th>\n",
       "      <th>NOM_LOC</th>\n",
       "      <th>AGEB</th>\n",
       "      <th>MZA</th>\n",
       "      <th>POBTOT</th>\n",
       "      <th>POBFEM</th>\n",
       "      <th>...</th>\n",
       "      <th>VPH_CEL</th>\n",
       "      <th>VPH_INTER</th>\n",
       "      <th>VPH_STVP</th>\n",
       "      <th>VPH_SPMVPI</th>\n",
       "      <th>VPH_CVJ</th>\n",
       "      <th>VPH_SINRTV</th>\n",
       "      <th>VPH_SINLTC</th>\n",
       "      <th>VPH_SINCINT</th>\n",
       "      <th>VPH_SINTIC</th>\n",
       "      <th>CVEGEO</th>\n",
       "    </tr>\n",
       "  </thead>\n",
       "  <tbody>\n",
       "    <tr>\n",
       "      <th>3</th>\n",
       "      <td>09</td>\n",
       "      <td>Ciudad de México</td>\n",
       "      <td>002</td>\n",
       "      <td>Azcapotzalco</td>\n",
       "      <td>0001</td>\n",
       "      <td>Total AGEB urbana</td>\n",
       "      <td>0010</td>\n",
       "      <td>0</td>\n",
       "      <td>3183</td>\n",
       "      <td>1695</td>\n",
       "      <td>...</td>\n",
       "      <td>772</td>\n",
       "      <td>692</td>\n",
       "      <td>313</td>\n",
       "      <td>221</td>\n",
       "      <td>145</td>\n",
       "      <td>8</td>\n",
       "      <td>14</td>\n",
       "      <td>148</td>\n",
       "      <td>5</td>\n",
       "      <td>0900200010010</td>\n",
       "    </tr>\n",
       "    <tr>\n",
       "      <th>30</th>\n",
       "      <td>09</td>\n",
       "      <td>Ciudad de México</td>\n",
       "      <td>002</td>\n",
       "      <td>Azcapotzalco</td>\n",
       "      <td>0001</td>\n",
       "      <td>Total AGEB urbana</td>\n",
       "      <td>0025</td>\n",
       "      <td>0</td>\n",
       "      <td>5593</td>\n",
       "      <td>2915</td>\n",
       "      <td>...</td>\n",
       "      <td>1510</td>\n",
       "      <td>1203</td>\n",
       "      <td>478</td>\n",
       "      <td>349</td>\n",
       "      <td>238</td>\n",
       "      <td>28</td>\n",
       "      <td>68</td>\n",
       "      <td>393</td>\n",
       "      <td>14</td>\n",
       "      <td>0900200010025</td>\n",
       "    </tr>\n",
       "    <tr>\n",
       "      <th>82</th>\n",
       "      <td>09</td>\n",
       "      <td>Ciudad de México</td>\n",
       "      <td>002</td>\n",
       "      <td>Azcapotzalco</td>\n",
       "      <td>0001</td>\n",
       "      <td>Total AGEB urbana</td>\n",
       "      <td>003A</td>\n",
       "      <td>0</td>\n",
       "      <td>4235</td>\n",
       "      <td>2232</td>\n",
       "      <td>...</td>\n",
       "      <td>1049</td>\n",
       "      <td>878</td>\n",
       "      <td>361</td>\n",
       "      <td>339</td>\n",
       "      <td>247</td>\n",
       "      <td>5</td>\n",
       "      <td>12</td>\n",
       "      <td>250</td>\n",
       "      <td>*</td>\n",
       "      <td>090020001003A</td>\n",
       "    </tr>\n",
       "    <tr>\n",
       "      <th>116</th>\n",
       "      <td>09</td>\n",
       "      <td>Ciudad de México</td>\n",
       "      <td>002</td>\n",
       "      <td>Azcapotzalco</td>\n",
       "      <td>0001</td>\n",
       "      <td>Total AGEB urbana</td>\n",
       "      <td>0044</td>\n",
       "      <td>0</td>\n",
       "      <td>4768</td>\n",
       "      <td>2551</td>\n",
       "      <td>...</td>\n",
       "      <td>1237</td>\n",
       "      <td>1076</td>\n",
       "      <td>481</td>\n",
       "      <td>452</td>\n",
       "      <td>294</td>\n",
       "      <td>10</td>\n",
       "      <td>17</td>\n",
       "      <td>254</td>\n",
       "      <td>*</td>\n",
       "      <td>0900200010044</td>\n",
       "    </tr>\n",
       "    <tr>\n",
       "      <th>163</th>\n",
       "      <td>09</td>\n",
       "      <td>Ciudad de México</td>\n",
       "      <td>002</td>\n",
       "      <td>Azcapotzalco</td>\n",
       "      <td>0001</td>\n",
       "      <td>Total AGEB urbana</td>\n",
       "      <td>0097</td>\n",
       "      <td>0</td>\n",
       "      <td>2176</td>\n",
       "      <td>1115</td>\n",
       "      <td>...</td>\n",
       "      <td>562</td>\n",
       "      <td>507</td>\n",
       "      <td>276</td>\n",
       "      <td>260</td>\n",
       "      <td>153</td>\n",
       "      <td>4</td>\n",
       "      <td>3</td>\n",
       "      <td>70</td>\n",
       "      <td>0</td>\n",
       "      <td>0900200010097</td>\n",
       "    </tr>\n",
       "  </tbody>\n",
       "</table>\n",
       "<p>5 rows × 231 columns</p>\n",
       "</div>"
      ],
      "text/plain": [
       "    ENTIDAD           NOM_ENT  MUN       NOM_MUN   LOC            NOM_LOC  \\\n",
       "3        09  Ciudad de México  002  Azcapotzalco  0001  Total AGEB urbana   \n",
       "30       09  Ciudad de México  002  Azcapotzalco  0001  Total AGEB urbana   \n",
       "82       09  Ciudad de México  002  Azcapotzalco  0001  Total AGEB urbana   \n",
       "116      09  Ciudad de México  002  Azcapotzalco  0001  Total AGEB urbana   \n",
       "163      09  Ciudad de México  002  Azcapotzalco  0001  Total AGEB urbana   \n",
       "\n",
       "     AGEB  MZA  POBTOT POBFEM  ... VPH_CEL VPH_INTER VPH_STVP VPH_SPMVPI  \\\n",
       "3    0010    0    3183   1695  ...     772       692      313        221   \n",
       "30   0025    0    5593   2915  ...    1510      1203      478        349   \n",
       "82   003A    0    4235   2232  ...    1049       878      361        339   \n",
       "116  0044    0    4768   2551  ...    1237      1076      481        452   \n",
       "163  0097    0    2176   1115  ...     562       507      276        260   \n",
       "\n",
       "    VPH_CVJ VPH_SINRTV VPH_SINLTC VPH_SINCINT VPH_SINTIC         CVEGEO  \n",
       "3       145          8         14         148          5  0900200010010  \n",
       "30      238         28         68         393         14  0900200010025  \n",
       "82      247          5         12         250          *  090020001003A  \n",
       "116     294         10         17         254          *  0900200010044  \n",
       "163     153          4          3          70          0  0900200010097  \n",
       "\n",
       "[5 rows x 231 columns]"
      ]
     },
     "execution_count": 22,
     "metadata": {},
     "output_type": "execute_result"
    }
   ],
   "source": [
    "pob_cdmx = pd.read_csv(\"./datos/conjunto_de_datos_ageb_urbana_09_cpv2020.zip\", dtype={'ENTIDAD':str, 'MUN':str, 'LOC':str, 'AGEB':str})\n",
    "pob_edomex = pd.read_csv(\"./datos/conjunto_de_datos_ageb_urbana_15_cpv2020.zip\", dtype={'ENTIDAD':str, 'MUN':str, 'LOC':str, 'AGEB':str})\n",
    "pob_zmvm = pd.concat([pob_cdmx, pob_edomex])\n",
    "# seleccionamos las filas que contienen los totales para cada AGEB\n",
    "pob_zmvm = pob_zmvm.loc[pob_zmvm['NOM_LOC'] == 'Total AGEB urbana', :]\n",
    "# Construimos una columna con la clave de ageb\n",
    "pob_zmvm['CVEGEO'] = pob_zmvm['ENTIDAD'] + pob_zmvm['MUN'] + pob_zmvm['LOC'] + pob_zmvm['AGEB']\n",
    "pob_zmvm.head()"
   ]
  },
  {
   "cell_type": "code",
   "execution_count": 23,
   "metadata": {},
   "outputs": [],
   "source": [
    "pob_zmvm.loc[pob_zmvm['P_6A11'] == '*', 'P_6A11'] = 0"
   ]
  },
  {
   "cell_type": "code",
   "execution_count": 24,
   "metadata": {
    "scrolled": true
   },
   "outputs": [],
   "source": [
    "#poblacion_interes = ['P_6A11', 'P_12A14', 'P_15A17']\n",
    "poblacion_interes = ['P_6A11']\n",
    "pob_zmvm['SUMA'] = pob_zmvm[poblacion_interes].sum(axis=1)"
   ]
  },
  {
   "cell_type": "code",
   "execution_count": 25,
   "metadata": {},
   "outputs": [
    {
     "data": {
      "text/html": [
       "<div>\n",
       "<style scoped>\n",
       "    .dataframe tbody tr th:only-of-type {\n",
       "        vertical-align: middle;\n",
       "    }\n",
       "\n",
       "    .dataframe tbody tr th {\n",
       "        vertical-align: top;\n",
       "    }\n",
       "\n",
       "    .dataframe thead th {\n",
       "        text-align: right;\n",
       "    }\n",
       "</style>\n",
       "<table border=\"1\" class=\"dataframe\">\n",
       "  <thead>\n",
       "    <tr style=\"text-align: right;\">\n",
       "      <th></th>\n",
       "      <th>CVEGEO</th>\n",
       "      <th>SUMA</th>\n",
       "    </tr>\n",
       "  </thead>\n",
       "  <tbody>\n",
       "    <tr>\n",
       "      <th>3</th>\n",
       "      <td>0900200010010</td>\n",
       "      <td>171.0</td>\n",
       "    </tr>\n",
       "    <tr>\n",
       "      <th>30</th>\n",
       "      <td>0900200010025</td>\n",
       "      <td>342.0</td>\n",
       "    </tr>\n",
       "    <tr>\n",
       "      <th>82</th>\n",
       "      <td>090020001003A</td>\n",
       "      <td>269.0</td>\n",
       "    </tr>\n",
       "    <tr>\n",
       "      <th>116</th>\n",
       "      <td>0900200010044</td>\n",
       "      <td>275.0</td>\n",
       "    </tr>\n",
       "    <tr>\n",
       "      <th>163</th>\n",
       "      <td>0900200010097</td>\n",
       "      <td>105.0</td>\n",
       "    </tr>\n",
       "  </tbody>\n",
       "</table>\n",
       "</div>"
      ],
      "text/plain": [
       "            CVEGEO   SUMA\n",
       "3    0900200010010  171.0\n",
       "30   0900200010025  342.0\n",
       "82   090020001003A  269.0\n",
       "116  0900200010044  275.0\n",
       "163  0900200010097  105.0"
      ]
     },
     "execution_count": 25,
     "metadata": {},
     "output_type": "execute_result"
    }
   ],
   "source": [
    "# Nos quedamos sólo con las columnas que vamos a usar (sólo queremos los datos de población)\n",
    "pob_zmvm = pob_zmvm.loc[:, ['CVEGEO', 'SUMA']]\n",
    "pob_zmvm.head()"
   ]
  },
  {
   "cell_type": "code",
   "execution_count": 26,
   "metadata": {},
   "outputs": [],
   "source": [
    "# Hacer aquí un mapa de cloropletas para mostrar en colores la población en cada ageb"
   ]
  },
  {
   "cell_type": "markdown",
   "metadata": {
    "id": "d511657d"
   },
   "source": [
    "Ahora los podemos unir con los centroides de las agebs y eliminamos datos_zmvm porque ya no lo vmos a usar y ocupa mucha memoria"
   ]
  },
  {
   "cell_type": "code",
   "execution_count": 27,
   "metadata": {
    "id": "baeee301",
    "outputId": "fba6938f-335a-4d45-e608-c63130d1424d"
   },
   "outputs": [
    {
     "data": {
      "text/html": [
       "<div>\n",
       "<style scoped>\n",
       "    .dataframe tbody tr th:only-of-type {\n",
       "        vertical-align: middle;\n",
       "    }\n",
       "\n",
       "    .dataframe tbody tr th {\n",
       "        vertical-align: top;\n",
       "    }\n",
       "\n",
       "    .dataframe thead th {\n",
       "        text-align: right;\n",
       "    }\n",
       "</style>\n",
       "<table border=\"1\" class=\"dataframe\">\n",
       "  <thead>\n",
       "    <tr style=\"text-align: right;\">\n",
       "      <th></th>\n",
       "      <th>CVEGEO</th>\n",
       "      <th>geometry</th>\n",
       "      <th>SUMA</th>\n",
       "    </tr>\n",
       "  </thead>\n",
       "  <tbody>\n",
       "    <tr>\n",
       "      <th>0</th>\n",
       "      <td>0901000011716</td>\n",
       "      <td>POINT (2787091.708 816590.463)</td>\n",
       "      <td>667.0</td>\n",
       "    </tr>\n",
       "    <tr>\n",
       "      <th>1</th>\n",
       "      <td>0901000012150</td>\n",
       "      <td>POINT (2793986.972 823047.548)</td>\n",
       "      <td>285.0</td>\n",
       "    </tr>\n",
       "    <tr>\n",
       "      <th>2</th>\n",
       "      <td>0901000011133</td>\n",
       "      <td>POINT (2794967.016 819439.549)</td>\n",
       "      <td>108.0</td>\n",
       "    </tr>\n",
       "    <tr>\n",
       "      <th>3</th>\n",
       "      <td>0901000011307</td>\n",
       "      <td>POINT (2792230.506 815397.361)</td>\n",
       "      <td>160.0</td>\n",
       "    </tr>\n",
       "    <tr>\n",
       "      <th>4</th>\n",
       "      <td>0901000010281</td>\n",
       "      <td>POINT (2788669.707 823554.634)</td>\n",
       "      <td>18.0</td>\n",
       "    </tr>\n",
       "  </tbody>\n",
       "</table>\n",
       "</div>"
      ],
      "text/plain": [
       "          CVEGEO                        geometry   SUMA\n",
       "0  0901000011716  POINT (2787091.708 816590.463)  667.0\n",
       "1  0901000012150  POINT (2793986.972 823047.548)  285.0\n",
       "2  0901000011133  POINT (2794967.016 819439.549)  108.0\n",
       "3  0901000011307  POINT (2792230.506 815397.361)  160.0\n",
       "4  0901000010281  POINT (2788669.707 823554.634)   18.0"
      ]
     },
     "execution_count": 27,
     "metadata": {},
     "output_type": "execute_result"
    }
   ],
   "source": [
    "agebs_zmvm_centroides = agebs_zmvm_centroides.merge(pob_zmvm, on=\"CVEGEO\", how=\"inner\")\n",
    "# eliminamos datos_zmvm porque ya no lo vmos a usar y ocupa mucha memoria\n",
    "pob_zmvm = None\n",
    "agebs_zmvm_centroides.head()"
   ]
  },
  {
   "cell_type": "markdown",
   "metadata": {},
   "source": [
    "Aquí vamos a guardar todos los datos como pickle para usarlos en otros notebooks"
   ]
  },
  {
   "cell_type": "code",
   "execution_count": 28,
   "metadata": {
    "id": "3764be37"
   },
   "outputs": [],
   "source": [
    "# Aquí vamos a guardar todos los datos como pickle para usarlos en otros notebooks\n",
    "agebs_zmvm_centroides.to_file(\"./datos/agebs_zmvm_centroides.gpkg\", layer='agebs_zmvm_centroides', driver='GPKG')\n",
    "escuelas_zmvm_gdf.to_file(\"./datos/escuelas_zmvm_centroides.gpkg\", layer='escuelas_zmvm_centroides', driver='GPKG')"
   ]
  },
  {
   "cell_type": "code",
   "execution_count": 29,
   "metadata": {
    "id": "19b12adf-d148-4780-9fab-69b2424949be"
   },
   "outputs": [],
   "source": [
    "from joblib import Parallel, delayed\n",
    "import time\n",
    "def parallel_get_od_matrix(agebs_zmvm_centroides, escuelas_zmvm_gdf, njobs):\n",
    "    def parallel_row(index_i, index_j):\n",
    "\n",
    "        lista = []\n",
    "\n",
    "        origen = agebs_zmvm_centroides.CVEGEO[index_i]\n",
    "        destino = escuelas_zmvm_gdf.id_escuela[index_j]\n",
    "        costo = float(math.sqrt(pow(agebs_zmvm_centroides.geometry[index_i].x-escuelas_zmvm_gdf.geometry[index_j].x,2)\n",
    "                                      +pow(agebs_zmvm_centroides.geometry[index_i].y-escuelas_zmvm_gdf.geometry[index_j].y,2)))\n",
    "\n",
    "        lista.append([origen, destino, costo])\n",
    "\n",
    "        return lista\n",
    "\n",
    "        df = pd.DataFrame(lista, columns=[\"origen\", \"destino\", \"costo\"])\n",
    "    \n",
    "    df = Parallel(n_jobs=njobs)(delayed(parallel_row)(index_i, index_j) \n",
    "                                for index_i, _ in agebs_zmvm_centroides.iterrows() \n",
    "                               for index_j, _ in escuelas_zmvm_gdf.iterrows())\n",
    "    \n",
    "    return df"
   ]
  },
  {
   "cell_type": "code",
   "execution_count": null,
   "metadata": {},
   "outputs": [],
   "source": [
    "start = time.time()\n",
    "# n_jobs is the number of parallel jobs\n",
    "df = parallel_get_od_matrix(agebs_zmvm_centroides, escuelas_zmvm_gdf, 6)\n",
    "end = time.time()\n",
    "print('{:.4f} s'.format(end-start))"
   ]
  },
  {
   "cell_type": "code",
   "execution_count": null,
   "metadata": {},
   "outputs": [],
   "source": [
    "df"
   ]
  },
  {
   "cell_type": "code",
   "execution_count": null,
   "metadata": {},
   "outputs": [],
   "source": [
    "df = pd.DataFrame(np.concatenate(df), columns=[\"origen\", \"destino\", \"costo\"])\n",
    "df"
   ]
  },
  {
   "cell_type": "code",
   "execution_count": null,
   "metadata": {},
   "outputs": [],
   "source": [
    "df.to_csv(\"./datos/escuelas_od_euclidean.csv\", index=False)"
   ]
  },
  {
   "cell_type": "markdown",
   "metadata": {
    "id": "5277209a"
   },
   "source": [
    "## Modelo basado en distancia euclidiana\n",
    "\n",
    "La primera aproximación que vamos a usar es crear un modelo de accesibilidad basado en la distancia euclidiana entre los centroides de las agebs y los de los parques. Para esto, el primer paso es construir una matriz de costos"
   ]
  },
  {
   "cell_type": "markdown",
   "metadata": {
    "id": "0a361321-069a-4a5d-920d-9060efbe3781"
   },
   "source": [
    "### Matriz de costos\n",
    "\n",
    "Para construir la matriz de costos necesitamos obtener el producto cruz de nuestros datos de origen y destino. A partir de eso, podemos calcular la distancia euclidiana y guardar el resultado en la matriz. En general, podríamos ralizar todo el proceso con el siguiente código:\n",
    "\n",
    "````Python\n",
    "# Creamos el producto cruz\n",
    "#cost_df = agebs_zmvm_centroides[['CVEGEO']].merge(areas_verdes_centroides[['id_parque']], how='cross')\n",
    "cost_df = agebs_zmvm_centroides[['CVEGEO']].merge(escuelas[['id_escuela']], how='cross')\n",
    "# Agregamos una columna de costo con puros ceros\n",
    "cost_df['cost'] = 0\n",
    "# renombramos las columnas para que tengan más sentido\n",
    "cost_df.columns = ['origen', 'destino', 'cost']\n",
    "# Instanciamos un objeto de la clase Access\n",
    "A = Access(demand_df            = agebs_zmvm_centroides,\n",
    "           demand_index         = 'CVEGEO',\n",
    "           demand_value         = 'sum',\n",
    "           supply_df            = areas_verdes_centroides,\n",
    "           supply_index         = 'id_escuela',\n",
    "           supply_value         = 'area',\n",
    "           cost_df              = costo_euclidiano,\n",
    "           cost_origin          = 'origin',\n",
    "           cost_dest            = 'dest',\n",
    "           cost_name            = 'euclidean',\n",
    "           neighbor_cost_df     = costo_euclidiano,\n",
    "           neighbor_cost_origin = 'origin',\n",
    "           neighbor_cost_dest   = 'dest',\n",
    "           neighbor_cost_name   = 'euclidean')\n",
    "# Calculamos las distancias\n",
    "A.create_euclidean_distance(threshold = 250000, centroid_o = True, centroid_d = True)\n",
    "````\n",
    "Como esta operación requiere mucha memoria y tiempo, en lugar de ejecutarla vamos a usar un dataframe con los datos precalculados"
   ]
  },
  {
   "cell_type": "code",
   "execution_count": null,
   "metadata": {
    "id": "549df04a",
    "outputId": "9033aa75-c504-41de-a22e-732c468790ae"
   },
   "outputs": [],
   "source": [
    "costo_euclidiano = pd.read_csv(\"./datos/escuelas_od_euclidean.csv\")\n",
    "costo_euclidiano"
   ]
  },
  {
   "cell_type": "markdown",
   "metadata": {
    "id": "cd95ed6f"
   },
   "source": [
    "### Instancia de accesibilidad\n",
    "\n",
    "Ya tenemos los datos preparados, ahora podemos crear una instancia de la clase `access` con nuestros centros de demanda y de oferta. "
   ]
  },
  {
   "cell_type": "code",
   "execution_count": null,
   "metadata": {
    "id": "dd22f0b9"
   },
   "outputs": [],
   "source": [
    "from access import Access, weights\n",
    "A = Access(demand_df            = agebs_zmvm_centroides,\n",
    "           demand_index         = 'CVEGEO',\n",
    "           demand_value         = 'SUMA',\n",
    "           supply_df            = escuelas_zmvm_gdf,\n",
    "           supply_index         = 'id_escuela',\n",
    "           supply_value         = 'Alumnos total',\n",
    "           cost_df              = costo_euclidiano,\n",
    "           cost_origin          = 'origen',\n",
    "           cost_dest            = 'destino',\n",
    "           cost_name            = 'costo',\n",
    "           neighbor_cost_df     = costo_euclidiano,\n",
    "           neighbor_cost_origin = 'origen',\n",
    "           neighbor_cost_dest   = 'destino',\n",
    "           neighbor_cost_name   = 'costo')"
   ]
  },
  {
   "cell_type": "markdown",
   "metadata": {
    "id": "6c474ba0"
   },
   "source": [
    "### Modelos de accesibilidad\n",
    "Ahora ya tenemos todos los datos que necesitamos para calcular diferentes modelos de accesibilidad. El ajuste de cada modelos para la cantidad de datos que estamos utilizando es un poco lento, entonces vamos a calcular sólo unos pocos y ver sus diferencias"
   ]
  },
  {
   "cell_type": "code",
   "execution_count": null,
   "metadata": {
    "id": "97b8f8fd"
   },
   "outputs": [],
   "source": [
    "# stepwise weight dictionaries\n",
    "fn1 = weights.step_fn({750 : 1, 1500 : 0.68, 3000 : 0.22})\n",
    "# gaussian media de 1000 metros \n",
    "gaussian = weights.gaussian(750)\n",
    "# gravity catchement pesado por gravedad\n",
    "gravity = weights.gravity(scale = 750, alpha = -1)"
   ]
  },
  {
   "cell_type": "code",
   "execution_count": null,
   "metadata": {
    "id": "54c6518b"
   },
   "outputs": [],
   "source": [
    "A.weighted_catchment(name = \"gravity\", weight_fn = gravity)\n",
    "A.raam(name = \"raam\", tau = 5)"
   ]
  },
  {
   "cell_type": "code",
   "execution_count": null,
   "metadata": {
    "id": "77d7b514"
   },
   "outputs": [],
   "source": [
    "# Guardamos los modelos por si los queremos reutilizar\n",
    "A.norm_access_df.to_csv(\"./datos/accesibilidad_primarias_distancia_euclidiana.csv\")"
   ]
  },
  {
   "cell_type": "markdown",
   "metadata": {
    "id": "99d96dd6"
   },
   "source": [
    "Ahora podemos comparar los dos modelos de accesibilidad. Primero unimos los datos de acceesibilidad a las geometrías de los centroides "
   ]
  },
  {
   "cell_type": "code",
   "execution_count": null,
   "metadata": {
    "id": "c9be1876",
    "outputId": "ed0f7fcb-5337-447e-87aa-34dba813539a"
   },
   "outputs": [],
   "source": [
    "mapa_accesibilidad = agebs_zmvm_centroides.set_index('CVEGEO')[['geometry']].join(A.norm_access_df, how = \"inner\")\n",
    "mapa_accesibilidad"
   ]
  },
  {
   "cell_type": "markdown",
   "metadata": {
    "id": "49f54a9e"
   },
   "source": [
    "Y ahora podemos hacer un par de mapas para compararlos"
   ]
  },
  {
   "cell_type": "code",
   "execution_count": null,
   "metadata": {
    "id": "a1c48743",
    "outputId": "91d6e722-c63e-4747-955c-795ced7bd03c"
   },
   "outputs": [],
   "source": [
    "fig, (ax1, ax2) = plt.subplots(1,2, figsize=(32,12))\n",
    "ax1 = mapa_accesibilidad.to_crs(epsg=3857).plot('raam_Alumnos total', legend = True,\n",
    "                                                cmap =  \"viridis_r\", \n",
    "                                                markersize = 5, alpha = 0.9, ax = ax1,\n",
    "                                                vmin = mapa_accesibilidad['raam_Alumnos total'].quantile(0.05), \n",
    "                                                vmax = mapa_accesibilidad['raam_Alumnos total'].quantile(0.95),\n",
    "                                                )\n",
    "ax1.set_axis_off()\n",
    "ax1.set(title='Modelo RAAM')\n",
    "ctx.add_basemap(ax1, source=ctx.providers.CartoDB.Positron)\n",
    "\n",
    "ax2 = mapa_accesibilidad.to_crs(epsg=3857).plot('gravity_Alumnos total', legend = True,\n",
    "                                                cmap =  \"viridis\", \n",
    "                                                markersize = 5, alpha = 0.9, ax = ax2,\n",
    "                                                vmin = mapa_accesibilidad['gravity_Alumnos total'].quantile(0.05), \n",
    "                                                vmax = mapa_accesibilidad['gravity_Alumnos total'].quantile(0.95),\n",
    "                                                )\n",
    "ax2.set_axis_off()\n",
    "ax2.set(title='Modelo Gravitatorio')\n",
    "# plt.subplots_adjust(wspace=-.5, hspace=0)\n",
    "ctx.add_basemap(ax2, source=ctx.providers.CartoDB.Positron)\n",
    "plt.tight_layout()"
   ]
  },
  {
   "cell_type": "code",
   "execution_count": null,
   "metadata": {
    "id": "737e3dd6"
   },
   "outputs": [],
   "source": []
  }
 ],
 "metadata": {
  "colab": {
   "name": "accesibilidad_01.ipynb",
   "provenance": []
  },
  "kernelspec": {
   "display_name": "Python 3",
   "language": "python",
   "name": "python3"
  },
  "language_info": {
   "codemirror_mode": {
    "name": "ipython",
    "version": 3
   },
   "file_extension": ".py",
   "mimetype": "text/x-python",
   "name": "python",
   "nbconvert_exporter": "python",
   "pygments_lexer": "ipython3",
   "version": "3.8.10"
  }
 },
 "nbformat": 4,
 "nbformat_minor": 5
}
