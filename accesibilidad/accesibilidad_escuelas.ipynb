{
 "cells": [
  {
   "cell_type": "markdown",
   "metadata": {
    "id": "c23e29fd"
   },
   "source": [
    "# Accesibilidad a áreas verdes en la Zona Metropolitana del Valle de México\n",
    "\n",
    "En este taller vamos a calcular diferentes modelos de accesibilidad a escuelas primarias. La idea es ir trabajando de lo más simple a los más complejo. Empezaremos con un modelo de conectividad basado sólo en distancias entre centroides e iremos complicando las cosas a partir de ahí, primero usando conectividad de red..."
   ]
  },
  {
   "cell_type": "markdown",
   "metadata": {
    "id": "83813ca0"
   },
   "source": [
    "## Preparación de datos\n",
    "\n",
    "Como siempre, lo primero que tenemos que hacer es preparar los datos. En este caso vamos a usar el marco cartográfico del Censo de 2020 a nivel AGEB y una cartografía de áreas verdes que preparé para un proyecto integrando datos de INEGI y de OSM.\n",
    "\n",
    "La cartografía de áreas verdes viene en un geopackage para todo el país y la cartografía censal viene en shapes para la CDMX y el Estado de México. Para cortar todo con la silueta de la ZMVM tenemos un shaper con el límite metropolitano.\n",
    "\n",
    "Los datos para obtener la demanda (población, en principio) vienen en csvs que tenemos que unir con la geometría de las manzanas. Eso lo haremos después de tener los recortes para economizar un poco."
   ]
  },
  {
   "cell_type": "code",
   "execution_count": 1,
   "metadata": {
    "colab": {
     "base_uri": "https://localhost:8080/"
    },
    "executionInfo": {
     "elapsed": 10857,
     "status": "ok",
     "timestamp": 1633749180135,
     "user": {
      "displayName": "Dalia Lagunes Rodríguez",
      "photoUrl": "https://lh3.googleusercontent.com/a/default-user=s64",
      "userId": "05954352363843702475"
     },
     "user_tz": 300
    },
    "id": "Knx-ejOzCVat",
    "outputId": "de3919c6-7764-4c18-f63b-043b2f317eb3"
   },
   "outputs": [],
   "source": [
    "#!pip install geopandas access contextily"
   ]
  },
  {
   "cell_type": "code",
   "execution_count": 2,
   "metadata": {
    "executionInfo": {
     "elapsed": 449,
     "status": "ok",
     "timestamp": 1633749198231,
     "user": {
      "displayName": "Dalia Lagunes Rodríguez",
      "photoUrl": "https://lh3.googleusercontent.com/a/default-user=s64",
      "userId": "05954352363843702475"
     },
     "user_tz": 300
    },
    "id": "635770cf"
   },
   "outputs": [
    {
     "name": "stderr",
     "output_type": "stream",
     "text": [
      "/home/david/.local/lib/python3.8/site-packages/geopandas/_compat.py:106: UserWarning: The Shapely GEOS version (3.8.0-CAPI-1.13.1 ) is incompatible with the GEOS version PyGEOS was compiled with (3.9.1-CAPI-1.14.2). Conversions between both will be slow.\n",
      "  warnings.warn(\n"
     ]
    }
   ],
   "source": [
    "import pandas as pd\n",
    "import geopandas as gpd\n",
    "from access import Access, weights\n",
    "import matplotlib.pyplot as plt\n",
    "import contextily as ctx\n",
    "import math\n",
    "import numpy as np"
   ]
  },
  {
   "cell_type": "markdown",
   "metadata": {
    "id": "2130eb9b"
   },
   "source": [
    "### Leer datos"
   ]
  },
  {
   "cell_type": "code",
   "execution_count": 3,
   "metadata": {},
   "outputs": [
    {
     "name": "stdout",
     "output_type": "stream",
     "text": [
      "(3300, 40)\n"
     ]
    }
   ],
   "source": [
    "escuelas_cdmx = pd.read_excel(r\"./datos/concentrado_escuelas_cdmx.xlsx\")\n",
    "escuelas_cdmx.head()\n",
    "print(escuelas_cdmx.shape)"
   ]
  },
  {
   "cell_type": "code",
   "execution_count": 4,
   "metadata": {},
   "outputs": [
    {
     "name": "stdout",
     "output_type": "stream",
     "text": [
      "(9152, 40)\n"
     ]
    }
   ],
   "source": [
    "escuelas_edomex = pd.read_excel('./datos/concentrado_escuelas_edomex.xlsx')\n",
    "escuelas_edomex.head()\n",
    "print(escuelas_edomex.shape)"
   ]
  },
  {
   "cell_type": "code",
   "execution_count": 5,
   "metadata": {},
   "outputs": [
    {
     "name": "stdout",
     "output_type": "stream",
     "text": [
      "  Clave del centro de trabajo Clave del turno Nombre del turno  \\\n",
      "0                  09DPR1317S               2       VESPERTINO   \n",
      "1                  09PPR1197A               1         MATUTINO   \n",
      "2                  09DPR0943D               1         MATUTINO   \n",
      "3                  09DPR1177I               1         MATUTINO   \n",
      "4                  09DPR1217T               2       VESPERTINO   \n",
      "\n",
      "                Nombre del centro de trabajo Tipo educativo Nivel educativo  \\\n",
      "0                   PROFR. DANIEL DELGADILLO         BÁSICA        PRIMARIA   \n",
      "1  \"COLEGIO \"\"TRILINGÜE PEDRO MARIA ANAYA\"\"\"         BÁSICA        PRIMARIA   \n",
      "2             ING. JOAQUIN GALLO MONTERRUBIO         BÁSICA        PRIMARIA   \n",
      "3                            JUANA DE ASBAJE         BÁSICA        PRIMARIA   \n",
      "4                         ING. ROBERTO GAYOL         BÁSICA        PRIMARIA   \n",
      "\n",
      "  Servicio educativo Nombre del control (Público o Privado)  \\\n",
      "0            GENERAL                                PÚBLICO   \n",
      "1            GENERAL                                PRIVADO   \n",
      "2            GENERAL                                PÚBLICO   \n",
      "3            GENERAL                                PÚBLICO   \n",
      "4            GENERAL                                PÚBLICO   \n",
      "\n",
      "  Tipo de sostenimiento  Clave de la entidad federativa  ...  \\\n",
      "0               FEDERAL                             9.0  ...   \n",
      "1               PRIVADO                             9.0  ...   \n",
      "2               FEDERAL                             9.0  ...   \n",
      "3               FEDERAL                             9.0  ...   \n",
      "4               FEDERAL                             9.0  ...   \n",
      "\n",
      "  Docentes total (hombres)  Docentes total (mujeres) Docentes total  \\\n",
      "0                      0.0                       6.0            6.0   \n",
      "1                      0.0                       3.0            3.0   \n",
      "2                      1.0                      11.0           12.0   \n",
      "3                      3.0                       9.0           12.0   \n",
      "4                      3.0                       7.0           10.0   \n",
      "\n",
      "   Aulas en uso Aulas existentes Tipo de localidad U - Urbano, R - Rural  \\\n",
      "0           6.0             17.0                                     NaN   \n",
      "1           6.0              6.0                                     NaN   \n",
      "2          12.0             12.0                                     NaN   \n",
      "3          12.0             12.0                                     NaN   \n",
      "4          10.0             18.0                                     NaN   \n",
      "\n",
      "   Ubicación de la escuela-localidad al Oeste del Meridiano de Greenwich, expresada en grados, minutos y segundos  \\\n",
      "0                                       99:6:48.60 W                                                                \n",
      "1                                       99:11:3.84 W                                                                \n",
      "2                                       99:5:51.36 W                                                                \n",
      "3                                       99:5:33.36 W                                                                \n",
      "4                                       99:5:33.36 W                                                                \n",
      "\n",
      "  Ubicación de la escuela-localidad al norte del Ecuador, expresada en grados, minutos y segundos  \\\n",
      "0                                      19:28:58.44 N                                                \n",
      "1                                       19:29:2.76 N                                                \n",
      "2                                      19:23:45.24 N                                                \n",
      "3                                      19:21:32.40 N                                                \n",
      "4                                      19:21:32.40 N                                                \n",
      "\n",
      "  Ubicación de la escuela-localidad al Oeste del Meridiano de Greenwich, expresada en grados  \\\n",
      "0                                           -99.1135                                           \n",
      "1                                           -99.1844                                           \n",
      "2                                           -99.0976                                           \n",
      "3                                           -99.0926                                           \n",
      "4                                           -99.0926                                           \n",
      "\n",
      "  Ubicación de la escuela-localidad al norte del Ecuador, expresada en grados  \n",
      "0                                            19.4829                           \n",
      "1                                            19.4841                           \n",
      "2                                            19.3959                           \n",
      "3                                            19.3590                           \n",
      "4                                            19.3590                           \n",
      "\n",
      "[5 rows x 40 columns]\n",
      "(12452, 40)\n"
     ]
    }
   ],
   "source": [
    "# Concateno los df de las escuelas de la cdmx y el edomex\n",
    "#frames = [escuelas_cdmx, escuelas_edomex]\n",
    "escuelas_zm = pd.concat([escuelas_cdmx, escuelas_edomex])\n",
    "print(escuelas_zm.head())\n",
    "print(escuelas_zm.shape)"
   ]
  },
  {
   "cell_type": "code",
   "execution_count": 6,
   "metadata": {},
   "outputs": [],
   "source": [
    "escuelas_zm_gdf = gpd.GeoDataFrame(\n",
    "    escuelas_zm, geometry=gpd.points_from_xy(\n",
    "        escuelas_zm['Ubicación de la escuela-localidad al Oeste del Meridiano de Greenwich, expresada en grados'], \n",
    "                      escuelas_zm['Ubicación de la escuela-localidad al norte del Ecuador, expresada en grados']))"
   ]
  },
  {
   "cell_type": "code",
   "execution_count": 7,
   "metadata": {},
   "outputs": [
    {
     "data": {
      "text/html": [
       "<div>\n",
       "<style scoped>\n",
       "    .dataframe tbody tr th:only-of-type {\n",
       "        vertical-align: middle;\n",
       "    }\n",
       "\n",
       "    .dataframe tbody tr th {\n",
       "        vertical-align: top;\n",
       "    }\n",
       "\n",
       "    .dataframe thead th {\n",
       "        text-align: right;\n",
       "    }\n",
       "</style>\n",
       "<table border=\"1\" class=\"dataframe\">\n",
       "  <thead>\n",
       "    <tr style=\"text-align: right;\">\n",
       "      <th></th>\n",
       "      <th>Clave del centro de trabajo</th>\n",
       "      <th>Clave del turno</th>\n",
       "      <th>Nombre del turno</th>\n",
       "      <th>Nombre del centro de trabajo</th>\n",
       "      <th>Tipo educativo</th>\n",
       "      <th>Nivel educativo</th>\n",
       "      <th>Servicio educativo</th>\n",
       "      <th>Nombre del control (Público o Privado)</th>\n",
       "      <th>Tipo de sostenimiento</th>\n",
       "      <th>Clave de la entidad federativa</th>\n",
       "      <th>...</th>\n",
       "      <th>Docentes total (mujeres)</th>\n",
       "      <th>Docentes total</th>\n",
       "      <th>Aulas en uso</th>\n",
       "      <th>Aulas existentes</th>\n",
       "      <th>Tipo de localidad U - Urbano, R - Rural</th>\n",
       "      <th>Ubicación de la escuela-localidad al Oeste del Meridiano de Greenwich, expresada en grados, minutos y segundos</th>\n",
       "      <th>Ubicación de la escuela-localidad al norte del Ecuador, expresada en grados, minutos y segundos</th>\n",
       "      <th>Ubicación de la escuela-localidad al Oeste del Meridiano de Greenwich, expresada en grados</th>\n",
       "      <th>Ubicación de la escuela-localidad al norte del Ecuador, expresada en grados</th>\n",
       "      <th>geometry</th>\n",
       "    </tr>\n",
       "  </thead>\n",
       "  <tbody>\n",
       "    <tr>\n",
       "      <th>0</th>\n",
       "      <td>09DPR1317S</td>\n",
       "      <td>2</td>\n",
       "      <td>VESPERTINO</td>\n",
       "      <td>PROFR. DANIEL DELGADILLO</td>\n",
       "      <td>BÁSICA</td>\n",
       "      <td>PRIMARIA</td>\n",
       "      <td>GENERAL</td>\n",
       "      <td>PÚBLICO</td>\n",
       "      <td>FEDERAL</td>\n",
       "      <td>9.0</td>\n",
       "      <td>...</td>\n",
       "      <td>6.0</td>\n",
       "      <td>6.0</td>\n",
       "      <td>6.0</td>\n",
       "      <td>17.0</td>\n",
       "      <td>NaN</td>\n",
       "      <td>99:6:48.60 W</td>\n",
       "      <td>19:28:58.44 N</td>\n",
       "      <td>-99.1135</td>\n",
       "      <td>19.4829</td>\n",
       "      <td>POINT (-99.11350 19.48290)</td>\n",
       "    </tr>\n",
       "    <tr>\n",
       "      <th>1</th>\n",
       "      <td>09PPR1197A</td>\n",
       "      <td>1</td>\n",
       "      <td>MATUTINO</td>\n",
       "      <td>\"COLEGIO \"\"TRILINGÜE PEDRO MARIA ANAYA\"\"\"</td>\n",
       "      <td>BÁSICA</td>\n",
       "      <td>PRIMARIA</td>\n",
       "      <td>GENERAL</td>\n",
       "      <td>PRIVADO</td>\n",
       "      <td>PRIVADO</td>\n",
       "      <td>9.0</td>\n",
       "      <td>...</td>\n",
       "      <td>3.0</td>\n",
       "      <td>3.0</td>\n",
       "      <td>6.0</td>\n",
       "      <td>6.0</td>\n",
       "      <td>NaN</td>\n",
       "      <td>99:11:3.84 W</td>\n",
       "      <td>19:29:2.76 N</td>\n",
       "      <td>-99.1844</td>\n",
       "      <td>19.4841</td>\n",
       "      <td>POINT (-99.18440 19.48410)</td>\n",
       "    </tr>\n",
       "    <tr>\n",
       "      <th>2</th>\n",
       "      <td>09DPR0943D</td>\n",
       "      <td>1</td>\n",
       "      <td>MATUTINO</td>\n",
       "      <td>ING. JOAQUIN GALLO MONTERRUBIO</td>\n",
       "      <td>BÁSICA</td>\n",
       "      <td>PRIMARIA</td>\n",
       "      <td>GENERAL</td>\n",
       "      <td>PÚBLICO</td>\n",
       "      <td>FEDERAL</td>\n",
       "      <td>9.0</td>\n",
       "      <td>...</td>\n",
       "      <td>11.0</td>\n",
       "      <td>12.0</td>\n",
       "      <td>12.0</td>\n",
       "      <td>12.0</td>\n",
       "      <td>NaN</td>\n",
       "      <td>99:5:51.36 W</td>\n",
       "      <td>19:23:45.24 N</td>\n",
       "      <td>-99.0976</td>\n",
       "      <td>19.3959</td>\n",
       "      <td>POINT (-99.09760 19.39590)</td>\n",
       "    </tr>\n",
       "    <tr>\n",
       "      <th>3</th>\n",
       "      <td>09DPR1177I</td>\n",
       "      <td>1</td>\n",
       "      <td>MATUTINO</td>\n",
       "      <td>JUANA DE ASBAJE</td>\n",
       "      <td>BÁSICA</td>\n",
       "      <td>PRIMARIA</td>\n",
       "      <td>GENERAL</td>\n",
       "      <td>PÚBLICO</td>\n",
       "      <td>FEDERAL</td>\n",
       "      <td>9.0</td>\n",
       "      <td>...</td>\n",
       "      <td>9.0</td>\n",
       "      <td>12.0</td>\n",
       "      <td>12.0</td>\n",
       "      <td>12.0</td>\n",
       "      <td>NaN</td>\n",
       "      <td>99:5:33.36 W</td>\n",
       "      <td>19:21:32.40 N</td>\n",
       "      <td>-99.0926</td>\n",
       "      <td>19.3590</td>\n",
       "      <td>POINT (-99.09260 19.35900)</td>\n",
       "    </tr>\n",
       "    <tr>\n",
       "      <th>4</th>\n",
       "      <td>09DPR1217T</td>\n",
       "      <td>2</td>\n",
       "      <td>VESPERTINO</td>\n",
       "      <td>ING. ROBERTO GAYOL</td>\n",
       "      <td>BÁSICA</td>\n",
       "      <td>PRIMARIA</td>\n",
       "      <td>GENERAL</td>\n",
       "      <td>PÚBLICO</td>\n",
       "      <td>FEDERAL</td>\n",
       "      <td>9.0</td>\n",
       "      <td>...</td>\n",
       "      <td>7.0</td>\n",
       "      <td>10.0</td>\n",
       "      <td>10.0</td>\n",
       "      <td>18.0</td>\n",
       "      <td>NaN</td>\n",
       "      <td>99:5:33.36 W</td>\n",
       "      <td>19:21:32.40 N</td>\n",
       "      <td>-99.0926</td>\n",
       "      <td>19.3590</td>\n",
       "      <td>POINT (-99.09260 19.35900)</td>\n",
       "    </tr>\n",
       "  </tbody>\n",
       "</table>\n",
       "<p>5 rows × 41 columns</p>\n",
       "</div>"
      ],
      "text/plain": [
       "  Clave del centro de trabajo Clave del turno Nombre del turno  \\\n",
       "0                  09DPR1317S               2       VESPERTINO   \n",
       "1                  09PPR1197A               1         MATUTINO   \n",
       "2                  09DPR0943D               1         MATUTINO   \n",
       "3                  09DPR1177I               1         MATUTINO   \n",
       "4                  09DPR1217T               2       VESPERTINO   \n",
       "\n",
       "                Nombre del centro de trabajo Tipo educativo Nivel educativo  \\\n",
       "0                   PROFR. DANIEL DELGADILLO         BÁSICA        PRIMARIA   \n",
       "1  \"COLEGIO \"\"TRILINGÜE PEDRO MARIA ANAYA\"\"\"         BÁSICA        PRIMARIA   \n",
       "2             ING. JOAQUIN GALLO MONTERRUBIO         BÁSICA        PRIMARIA   \n",
       "3                            JUANA DE ASBAJE         BÁSICA        PRIMARIA   \n",
       "4                         ING. ROBERTO GAYOL         BÁSICA        PRIMARIA   \n",
       "\n",
       "  Servicio educativo Nombre del control (Público o Privado)  \\\n",
       "0            GENERAL                                PÚBLICO   \n",
       "1            GENERAL                                PRIVADO   \n",
       "2            GENERAL                                PÚBLICO   \n",
       "3            GENERAL                                PÚBLICO   \n",
       "4            GENERAL                                PÚBLICO   \n",
       "\n",
       "  Tipo de sostenimiento  Clave de la entidad federativa  ...  \\\n",
       "0               FEDERAL                             9.0  ...   \n",
       "1               PRIVADO                             9.0  ...   \n",
       "2               FEDERAL                             9.0  ...   \n",
       "3               FEDERAL                             9.0  ...   \n",
       "4               FEDERAL                             9.0  ...   \n",
       "\n",
       "  Docentes total (mujeres)  Docentes total Aulas en uso  Aulas existentes  \\\n",
       "0                      6.0             6.0          6.0              17.0   \n",
       "1                      3.0             3.0          6.0               6.0   \n",
       "2                     11.0            12.0         12.0              12.0   \n",
       "3                      9.0            12.0         12.0              12.0   \n",
       "4                      7.0            10.0         10.0              18.0   \n",
       "\n",
       "  Tipo de localidad U - Urbano, R - Rural  \\\n",
       "0                                     NaN   \n",
       "1                                     NaN   \n",
       "2                                     NaN   \n",
       "3                                     NaN   \n",
       "4                                     NaN   \n",
       "\n",
       "  Ubicación de la escuela-localidad al Oeste del Meridiano de Greenwich, expresada en grados, minutos y segundos  \\\n",
       "0                                       99:6:48.60 W                                                               \n",
       "1                                       99:11:3.84 W                                                               \n",
       "2                                       99:5:51.36 W                                                               \n",
       "3                                       99:5:33.36 W                                                               \n",
       "4                                       99:5:33.36 W                                                               \n",
       "\n",
       "   Ubicación de la escuela-localidad al norte del Ecuador, expresada en grados, minutos y segundos  \\\n",
       "0                                      19:28:58.44 N                                                 \n",
       "1                                       19:29:2.76 N                                                 \n",
       "2                                      19:23:45.24 N                                                 \n",
       "3                                      19:21:32.40 N                                                 \n",
       "4                                      19:21:32.40 N                                                 \n",
       "\n",
       "  Ubicación de la escuela-localidad al Oeste del Meridiano de Greenwich, expresada en grados  \\\n",
       "0                                           -99.1135                                           \n",
       "1                                           -99.1844                                           \n",
       "2                                           -99.0976                                           \n",
       "3                                           -99.0926                                           \n",
       "4                                           -99.0926                                           \n",
       "\n",
       "  Ubicación de la escuela-localidad al norte del Ecuador, expresada en grados  \\\n",
       "0                                            19.4829                            \n",
       "1                                            19.4841                            \n",
       "2                                            19.3959                            \n",
       "3                                            19.3590                            \n",
       "4                                            19.3590                            \n",
       "\n",
       "                     geometry  \n",
       "0  POINT (-99.11350 19.48290)  \n",
       "1  POINT (-99.18440 19.48410)  \n",
       "2  POINT (-99.09760 19.39590)  \n",
       "3  POINT (-99.09260 19.35900)  \n",
       "4  POINT (-99.09260 19.35900)  \n",
       "\n",
       "[5 rows x 41 columns]"
      ]
     },
     "execution_count": 7,
     "metadata": {},
     "output_type": "execute_result"
    }
   ],
   "source": [
    "escuelas_zm_gdf.head()"
   ]
  },
  {
   "cell_type": "code",
   "execution_count": 8,
   "metadata": {},
   "outputs": [
    {
     "name": "stdout",
     "output_type": "stream",
     "text": [
      "(12452, 41)\n"
     ]
    },
    {
     "data": {
      "image/png": "[encoded data removed]",
      "text/plain": [
       "<Figure size 432x288 with 1 Axes>"
      ]
     },
     "metadata": {
      "needs_background": "light"
     },
     "output_type": "display_data"
    }
   ],
   "source": [
    "escuelas_zm_gdf.plot()\n",
    "print(escuelas_zm_gdf.shape)"
   ]
  },
  {
   "cell_type": "code",
   "execution_count": 9,
   "metadata": {},
   "outputs": [
    {
     "data": {
      "text/plain": [
       "<AxesSubplot:>"
      ]
     },
     "execution_count": 9,
     "metadata": {},
     "output_type": "execute_result"
    },
    {
     "data": {
      "image/png": "[encoded data removed]",
      "text/plain": [
       "<Figure size 432x288 with 1 Axes>"
      ]
     },
     "metadata": {
      "needs_background": "light"
     },
     "output_type": "display_data"
    }
   ],
   "source": [
    "longitud_correcta = escuelas_zm_gdf['Ubicación de la escuela-localidad al Oeste del Meridiano de Greenwich, expresada en grados'] < -75\n",
    "escuelas_zm_gdf = escuelas_zm_gdf[longitud_correcta]\n",
    "escuelas_zm_gdf.plot()"
   ]
  },
  {
   "cell_type": "code",
   "execution_count": 10,
   "metadata": {},
   "outputs": [],
   "source": [
    "options = ['PRIMARIA']\n",
    "escuelas_zm_gdf = escuelas_zm_gdf[escuelas_zm_gdf['Nivel educativo'].isin(options)]"
   ]
  },
  {
   "cell_type": "code",
   "execution_count": 11,
   "metadata": {},
   "outputs": [],
   "source": [
    "cdmx = gpd.read_file(\"./datos/agebs_cdmx_2020.zip\")\n",
    "edomex = gpd.read_file(\"./datos/agebs_edomex_2020.zip\")\n",
    "limite_metropolitano = gpd.read_file(\"./datos/limite_metropolitano.zip\")"
   ]
  },
  {
   "cell_type": "markdown",
   "metadata": {
    "id": "cc5377f6"
   },
   "source": [
    "Hacemos un merge de las agebs para tenerlas en un solo dataframe"
   ]
  },
  {
   "cell_type": "code",
   "execution_count": 12,
   "metadata": {
    "colab": {
     "base_uri": "https://localhost:8080/",
     "height": 589
    },
    "executionInfo": {
     "elapsed": 214,
     "status": "ok",
     "timestamp": 1633749707096,
     "user": {
      "displayName": "Dalia Lagunes Rodríguez",
      "photoUrl": "https://lh3.googleusercontent.com/a/default-user=s64",
      "userId": "05954352363843702475"
     },
     "user_tz": 300
    },
    "id": "c74e153c",
    "outputId": "9dc7af5e-c67c-44c8-b3bf-539e4a1408fa"
   },
   "outputs": [
    {
     "data": {
      "text/html": [
       "<div>\n",
       "<style scoped>\n",
       "    .dataframe tbody tr th:only-of-type {\n",
       "        vertical-align: middle;\n",
       "    }\n",
       "\n",
       "    .dataframe tbody tr th {\n",
       "        vertical-align: top;\n",
       "    }\n",
       "\n",
       "    .dataframe thead th {\n",
       "        text-align: right;\n",
       "    }\n",
       "</style>\n",
       "<table border=\"1\" class=\"dataframe\">\n",
       "  <thead>\n",
       "    <tr style=\"text-align: right;\">\n",
       "      <th></th>\n",
       "      <th>CVEGEO</th>\n",
       "      <th>CVE_ENT</th>\n",
       "      <th>CVE_MUN</th>\n",
       "      <th>CVE_LOC</th>\n",
       "      <th>CVE_AGEB</th>\n",
       "      <th>geometry</th>\n",
       "    </tr>\n",
       "  </thead>\n",
       "  <tbody>\n",
       "    <tr>\n",
       "      <th>0</th>\n",
       "      <td>0901000011716</td>\n",
       "      <td>09</td>\n",
       "      <td>010</td>\n",
       "      <td>0001</td>\n",
       "      <td>1716</td>\n",
       "      <td>POLYGON ((2787237.541 816989.461, 2787288.728 ...</td>\n",
       "    </tr>\n",
       "    <tr>\n",
       "      <th>1</th>\n",
       "      <td>0901000012150</td>\n",
       "      <td>09</td>\n",
       "      <td>010</td>\n",
       "      <td>0001</td>\n",
       "      <td>2150</td>\n",
       "      <td>POLYGON ((2794154.458 823013.444, 2794155.774 ...</td>\n",
       "    </tr>\n",
       "    <tr>\n",
       "      <th>2</th>\n",
       "      <td>0901000011133</td>\n",
       "      <td>09</td>\n",
       "      <td>010</td>\n",
       "      <td>0001</td>\n",
       "      <td>1133</td>\n",
       "      <td>POLYGON ((2795690.723 820050.788, 2795684.238 ...</td>\n",
       "    </tr>\n",
       "    <tr>\n",
       "      <th>3</th>\n",
       "      <td>0901000011307</td>\n",
       "      <td>09</td>\n",
       "      <td>010</td>\n",
       "      <td>0001</td>\n",
       "      <td>1307</td>\n",
       "      <td>POLYGON ((2792584.475 815678.668, 2792624.325 ...</td>\n",
       "    </tr>\n",
       "    <tr>\n",
       "      <th>4</th>\n",
       "      <td>0901000010281</td>\n",
       "      <td>09</td>\n",
       "      <td>010</td>\n",
       "      <td>0001</td>\n",
       "      <td>0281</td>\n",
       "      <td>POLYGON ((2788845.392 823526.074, 2788840.549 ...</td>\n",
       "    </tr>\n",
       "    <tr>\n",
       "      <th>...</th>\n",
       "      <td>...</td>\n",
       "      <td>...</td>\n",
       "      <td>...</td>\n",
       "      <td>...</td>\n",
       "      <td>...</td>\n",
       "      <td>...</td>\n",
       "    </tr>\n",
       "    <tr>\n",
       "      <th>4315</th>\n",
       "      <td>151250001004A</td>\n",
       "      <td>15</td>\n",
       "      <td>125</td>\n",
       "      <td>0001</td>\n",
       "      <td>004A</td>\n",
       "      <td>POLYGON ((2808390.934 857912.251, 2808614.795 ...</td>\n",
       "    </tr>\n",
       "    <tr>\n",
       "      <th>4316</th>\n",
       "      <td>1512500010016</td>\n",
       "      <td>15</td>\n",
       "      <td>125</td>\n",
       "      <td>0001</td>\n",
       "      <td>0016</td>\n",
       "      <td>POLYGON ((2808318.468 857265.867, 2808312.961 ...</td>\n",
       "    </tr>\n",
       "    <tr>\n",
       "      <th>4317</th>\n",
       "      <td>1512500010020</td>\n",
       "      <td>15</td>\n",
       "      <td>125</td>\n",
       "      <td>0001</td>\n",
       "      <td>0020</td>\n",
       "      <td>POLYGON ((2807637.181 858200.578, 2807639.598 ...</td>\n",
       "    </tr>\n",
       "    <tr>\n",
       "      <th>4318</th>\n",
       "      <td>1512500070054</td>\n",
       "      <td>15</td>\n",
       "      <td>125</td>\n",
       "      <td>0007</td>\n",
       "      <td>0054</td>\n",
       "      <td>POLYGON ((2806574.677 856458.207, 2806484.183 ...</td>\n",
       "    </tr>\n",
       "    <tr>\n",
       "      <th>4319</th>\n",
       "      <td>1512500070069</td>\n",
       "      <td>15</td>\n",
       "      <td>125</td>\n",
       "      <td>0007</td>\n",
       "      <td>0069</td>\n",
       "      <td>POLYGON ((2805880.696 856767.829, 2805969.314 ...</td>\n",
       "    </tr>\n",
       "  </tbody>\n",
       "</table>\n",
       "<p>6751 rows × 6 columns</p>\n",
       "</div>"
      ],
      "text/plain": [
       "             CVEGEO CVE_ENT CVE_MUN CVE_LOC CVE_AGEB  \\\n",
       "0     0901000011716      09     010    0001     1716   \n",
       "1     0901000012150      09     010    0001     2150   \n",
       "2     0901000011133      09     010    0001     1133   \n",
       "3     0901000011307      09     010    0001     1307   \n",
       "4     0901000010281      09     010    0001     0281   \n",
       "...             ...     ...     ...     ...      ...   \n",
       "4315  151250001004A      15     125    0001     004A   \n",
       "4316  1512500010016      15     125    0001     0016   \n",
       "4317  1512500010020      15     125    0001     0020   \n",
       "4318  1512500070054      15     125    0007     0054   \n",
       "4319  1512500070069      15     125    0007     0069   \n",
       "\n",
       "                                               geometry  \n",
       "0     POLYGON ((2787237.541 816989.461, 2787288.728 ...  \n",
       "1     POLYGON ((2794154.458 823013.444, 2794155.774 ...  \n",
       "2     POLYGON ((2795690.723 820050.788, 2795684.238 ...  \n",
       "3     POLYGON ((2792584.475 815678.668, 2792624.325 ...  \n",
       "4     POLYGON ((2788845.392 823526.074, 2788840.549 ...  \n",
       "...                                                 ...  \n",
       "4315  POLYGON ((2808390.934 857912.251, 2808614.795 ...  \n",
       "4316  POLYGON ((2808318.468 857265.867, 2808312.961 ...  \n",
       "4317  POLYGON ((2807637.181 858200.578, 2807639.598 ...  \n",
       "4318  POLYGON ((2806574.677 856458.207, 2806484.183 ...  \n",
       "4319  POLYGON ((2805880.696 856767.829, 2805969.314 ...  \n",
       "\n",
       "[6751 rows x 6 columns]"
      ]
     },
     "execution_count": 12,
     "metadata": {},
     "output_type": "execute_result"
    }
   ],
   "source": [
    "agebs_todas = pd.concat([cdmx, edomex])\n",
    "agebs_todas"
   ]
  },
  {
   "cell_type": "code",
   "execution_count": 13,
   "metadata": {},
   "outputs": [
    {
     "data": {
      "text/plain": [
       "<AxesSubplot:>"
      ]
     },
     "execution_count": 13,
     "metadata": {},
     "output_type": "execute_result"
    },
    {
     "data": {
      "image/png": "[encoded data removed]",
      "text/plain": [
       "<Figure size 432x288 with 1 Axes>"
      ]
     },
     "metadata": {
      "needs_background": "light"
     },
     "output_type": "display_data"
    }
   ],
   "source": [
    "agebs_todas.plot()"
   ]
  },
  {
   "cell_type": "markdown",
   "metadata": {
    "id": "ddde4b61"
   },
   "source": [
    "### Proyectar\n",
    "Para poder cortar las geometrías y trabajarlas todas juntas necesitamos que estén en la misma proyección"
   ]
  },
  {
   "cell_type": "code",
   "execution_count": 14,
   "metadata": {
    "id": "a77f85ad"
   },
   "outputs": [],
   "source": [
    "escuelas_zm_gdf = escuelas_zm_gdf.set_crs('epsg:4326')"
   ]
  },
  {
   "cell_type": "markdown",
   "metadata": {
    "id": "f25d8ed7"
   },
   "source": [
    "Las primeras dos están en la proyección nueva de INEGI, las áreas verdes en la anterior y el límite metropolitano está en 32614. Tenemos que poner todas en la misma proyección, podría ser cualquiera de las planas (vamos a medir longitudes). Usemos la nueva del INEGI"
   ]
  },
  {
   "cell_type": "code",
   "execution_count": 15,
   "metadata": {
    "executionInfo": {
     "elapsed": 621,
     "status": "ok",
     "timestamp": 1633749765702,
     "user": {
      "displayName": "Dalia Lagunes Rodríguez",
      "photoUrl": "https://lh3.googleusercontent.com/a/default-user=s64",
      "userId": "05954352363843702475"
     },
     "user_tz": 300
    },
    "id": "3c561bae"
   },
   "outputs": [],
   "source": [
    "escuelas_zm_gdf = escuelas_zm_gdf.to_crs(agebs_todas.crs)\n",
    "limite_metropolitano = limite_metropolitano.to_crs(cdmx.crs)"
   ]
  },
  {
   "cell_type": "code",
   "execution_count": 16,
   "metadata": {},
   "outputs": [
    {
     "name": "stdout",
     "output_type": "stream",
     "text": [
      "PROJCS[\"MEXICO_ITRF_2008_LCC\",GEOGCS[\"GCS_ITRF_2008\",DATUM[\"ITRF_2008\",SPHEROID[\"GRS_1980\",6378137.0,298.257222101]],PRIMEM[\"Greenwich\",0.0],UNIT[\"Degree\",0.0174532925199433]],PROJECTION[\"Lambert_Conformal_Conic_2SP\"],PARAMETER[\"False_Easting\",2500000.0],PARAMETER[\"False_Northing\",0.0],PARAMETER[\"Central_Meridian\",-102.0],PARAMETER[\"Standard_Parallel_1\",17.5],PARAMETER[\"Standard_Parallel_2\",29.5],PARAMETER[\"Latitude_Of_Origin\",12.0],UNIT[\"Meter\",1.0]]\n",
      "\n",
      "PROJCS[\"MEXICO_ITRF_2008_LCC\",GEOGCS[\"GCS_ITRF_2008\",DATUM[\"ITRF_2008\",SPHEROID[\"GRS_1980\",6378137.0,298.257222101]],PRIMEM[\"Greenwich\",0.0],UNIT[\"Degree\",0.0174532925199433]],PROJECTION[\"Lambert_Conformal_Conic_2SP\"],PARAMETER[\"False_Easting\",2500000.0],PARAMETER[\"False_Northing\",0.0],PARAMETER[\"Central_Meridian\",-102.0],PARAMETER[\"Standard_Parallel_1\",17.5],PARAMETER[\"Standard_Parallel_2\",29.5],PARAMETER[\"Latitude_Of_Origin\",12.0],UNIT[\"Meter\",1.0]]\n"
     ]
    }
   ],
   "source": [
    "print(escuelas_zm_gdf.crs)\n",
    "print(\"\")\n",
    "print(agebs_todas.crs)"
   ]
  },
  {
   "cell_type": "markdown",
   "metadata": {
    "id": "c71a7190"
   },
   "source": [
    "### Cortar con el límite metropolitano"
   ]
  },
  {
   "cell_type": "markdown",
   "metadata": {
    "id": "e55cec50"
   },
   "source": [
    "### Áreas y centroides\n",
    "\n",
    "Como vamos a trabajar la accesibilidad en primera instancia sólo entre los centroides de las agebs y las de las áreas verdes, entonces vamos a necesitar dataframes con el área de los parques (que vamos a usar como la oferta en el modelo de accesibilidad) y con los centroides de las agebs y su población total (que va a ser la demanda).\n",
    "\n",
    "**Nota:** vamos a hacer una copia de las capas para usdar los centroides, en caso de que queramos después usar las geometrías originales"
   ]
  },
  {
   "cell_type": "code",
   "execution_count": 17,
   "metadata": {
    "colab": {
     "base_uri": "https://localhost:8080/",
     "height": 510
    },
    "executionInfo": {
     "elapsed": 198,
     "status": "error",
     "timestamp": 1633750269806,
     "user": {
      "displayName": "Dalia Lagunes Rodríguez",
      "photoUrl": "https://lh3.googleusercontent.com/a/default-user=s64",
      "userId": "05954352363843702475"
     },
     "user_tz": 300
    },
    "id": "4b1bcd91",
    "outputId": "3cf08210-8bde-4596-d8cc-8dfe60c19afc"
   },
   "outputs": [],
   "source": [
    "#from geopandas.tools import sjoin\n",
    "\n",
    "#escuelas_zm_gdf = sjoin(escuelas_zm_gdf, limite_metropolitano)\n",
    "#agebs_zmvm = sjoin(agebs_todas, limite_metropolitano)"
   ]
  },
  {
   "cell_type": "code",
   "execution_count": 18,
   "metadata": {
    "id": "5b767d12",
    "outputId": "06b8192b-6b13-489a-b5b6-474273e7703a"
   },
   "outputs": [
    {
     "data": {
      "text/html": [
       "<div>\n",
       "<style scoped>\n",
       "    .dataframe tbody tr th:only-of-type {\n",
       "        vertical-align: middle;\n",
       "    }\n",
       "\n",
       "    .dataframe tbody tr th {\n",
       "        vertical-align: top;\n",
       "    }\n",
       "\n",
       "    .dataframe thead th {\n",
       "        text-align: right;\n",
       "    }\n",
       "</style>\n",
       "<table border=\"1\" class=\"dataframe\">\n",
       "  <thead>\n",
       "    <tr style=\"text-align: right;\">\n",
       "      <th></th>\n",
       "      <th>index</th>\n",
       "      <th>id_escuela</th>\n",
       "      <th>Clave del turno</th>\n",
       "      <th>Nombre del turno</th>\n",
       "      <th>Nombre del centro de trabajo</th>\n",
       "      <th>Tipo educativo</th>\n",
       "      <th>Nivel educativo</th>\n",
       "      <th>Servicio educativo</th>\n",
       "      <th>Nombre del control (Público o Privado)</th>\n",
       "      <th>Tipo de sostenimiento</th>\n",
       "      <th>...</th>\n",
       "      <th>Docentes total (mujeres)</th>\n",
       "      <th>Docentes total</th>\n",
       "      <th>Aulas en uso</th>\n",
       "      <th>Aulas existentes</th>\n",
       "      <th>Tipo de localidad U - Urbano, R - Rural</th>\n",
       "      <th>Ubicación de la escuela-localidad al Oeste del Meridiano de Greenwich, expresada en grados, minutos y segundos</th>\n",
       "      <th>Ubicación de la escuela-localidad al norte del Ecuador, expresada en grados, minutos y segundos</th>\n",
       "      <th>Ubicación de la escuela-localidad al Oeste del Meridiano de Greenwich, expresada en grados</th>\n",
       "      <th>Ubicación de la escuela-localidad al norte del Ecuador, expresada en grados</th>\n",
       "      <th>geometry</th>\n",
       "    </tr>\n",
       "  </thead>\n",
       "  <tbody>\n",
       "    <tr>\n",
       "      <th>0</th>\n",
       "      <td>0</td>\n",
       "      <td>09DPR1317S</td>\n",
       "      <td>2</td>\n",
       "      <td>VESPERTINO</td>\n",
       "      <td>PROFR. DANIEL DELGADILLO</td>\n",
       "      <td>BÁSICA</td>\n",
       "      <td>PRIMARIA</td>\n",
       "      <td>GENERAL</td>\n",
       "      <td>PÚBLICO</td>\n",
       "      <td>FEDERAL</td>\n",
       "      <td>...</td>\n",
       "      <td>6.0</td>\n",
       "      <td>6.0</td>\n",
       "      <td>6.0</td>\n",
       "      <td>17.0</td>\n",
       "      <td>NaN</td>\n",
       "      <td>99:6:48.60 W</td>\n",
       "      <td>19:28:58.44 N</td>\n",
       "      <td>-99.1135</td>\n",
       "      <td>19.4829</td>\n",
       "      <td>POINT (2802113.976 834649.424)</td>\n",
       "    </tr>\n",
       "    <tr>\n",
       "      <th>1</th>\n",
       "      <td>1</td>\n",
       "      <td>09PPR1197A</td>\n",
       "      <td>1</td>\n",
       "      <td>MATUTINO</td>\n",
       "      <td>\"COLEGIO \"\"TRILINGÜE PEDRO MARIA ANAYA\"\"\"</td>\n",
       "      <td>BÁSICA</td>\n",
       "      <td>PRIMARIA</td>\n",
       "      <td>GENERAL</td>\n",
       "      <td>PRIVADO</td>\n",
       "      <td>PRIVADO</td>\n",
       "      <td>...</td>\n",
       "      <td>3.0</td>\n",
       "      <td>3.0</td>\n",
       "      <td>6.0</td>\n",
       "      <td>6.0</td>\n",
       "      <td>NaN</td>\n",
       "      <td>99:11:3.84 W</td>\n",
       "      <td>19:29:2.76 N</td>\n",
       "      <td>-99.1844</td>\n",
       "      <td>19.4841</td>\n",
       "      <td>POINT (2794691.631 834634.323)</td>\n",
       "    </tr>\n",
       "    <tr>\n",
       "      <th>2</th>\n",
       "      <td>2</td>\n",
       "      <td>09DPR0943D</td>\n",
       "      <td>1</td>\n",
       "      <td>MATUTINO</td>\n",
       "      <td>ING. JOAQUIN GALLO MONTERRUBIO</td>\n",
       "      <td>BÁSICA</td>\n",
       "      <td>PRIMARIA</td>\n",
       "      <td>GENERAL</td>\n",
       "      <td>PÚBLICO</td>\n",
       "      <td>FEDERAL</td>\n",
       "      <td>...</td>\n",
       "      <td>11.0</td>\n",
       "      <td>12.0</td>\n",
       "      <td>12.0</td>\n",
       "      <td>12.0</td>\n",
       "      <td>NaN</td>\n",
       "      <td>99:5:51.36 W</td>\n",
       "      <td>19:23:45.24 N</td>\n",
       "      <td>-99.0976</td>\n",
       "      <td>19.3959</td>\n",
       "      <td>POINT (2803972.228 825082.509)</td>\n",
       "    </tr>\n",
       "    <tr>\n",
       "      <th>3</th>\n",
       "      <td>3</td>\n",
       "      <td>09DPR1177I</td>\n",
       "      <td>1</td>\n",
       "      <td>MATUTINO</td>\n",
       "      <td>JUANA DE ASBAJE</td>\n",
       "      <td>BÁSICA</td>\n",
       "      <td>PRIMARIA</td>\n",
       "      <td>GENERAL</td>\n",
       "      <td>PÚBLICO</td>\n",
       "      <td>FEDERAL</td>\n",
       "      <td>...</td>\n",
       "      <td>9.0</td>\n",
       "      <td>12.0</td>\n",
       "      <td>12.0</td>\n",
       "      <td>12.0</td>\n",
       "      <td>NaN</td>\n",
       "      <td>99:5:33.36 W</td>\n",
       "      <td>19:21:32.40 N</td>\n",
       "      <td>-99.0926</td>\n",
       "      <td>19.3590</td>\n",
       "      <td>POINT (2804578.376 821020.898)</td>\n",
       "    </tr>\n",
       "    <tr>\n",
       "      <th>4</th>\n",
       "      <td>4</td>\n",
       "      <td>09DPR1217T</td>\n",
       "      <td>2</td>\n",
       "      <td>VESPERTINO</td>\n",
       "      <td>ING. ROBERTO GAYOL</td>\n",
       "      <td>BÁSICA</td>\n",
       "      <td>PRIMARIA</td>\n",
       "      <td>GENERAL</td>\n",
       "      <td>PÚBLICO</td>\n",
       "      <td>FEDERAL</td>\n",
       "      <td>...</td>\n",
       "      <td>7.0</td>\n",
       "      <td>10.0</td>\n",
       "      <td>10.0</td>\n",
       "      <td>18.0</td>\n",
       "      <td>NaN</td>\n",
       "      <td>99:5:33.36 W</td>\n",
       "      <td>19:21:32.40 N</td>\n",
       "      <td>-99.0926</td>\n",
       "      <td>19.3590</td>\n",
       "      <td>POINT (2804578.376 821020.898)</td>\n",
       "    </tr>\n",
       "  </tbody>\n",
       "</table>\n",
       "<p>5 rows × 42 columns</p>\n",
       "</div>"
      ],
      "text/plain": [
       "   index  id_escuela Clave del turno Nombre del turno  \\\n",
       "0      0  09DPR1317S               2       VESPERTINO   \n",
       "1      1  09PPR1197A               1         MATUTINO   \n",
       "2      2  09DPR0943D               1         MATUTINO   \n",
       "3      3  09DPR1177I               1         MATUTINO   \n",
       "4      4  09DPR1217T               2       VESPERTINO   \n",
       "\n",
       "                Nombre del centro de trabajo Tipo educativo Nivel educativo  \\\n",
       "0                   PROFR. DANIEL DELGADILLO         BÁSICA        PRIMARIA   \n",
       "1  \"COLEGIO \"\"TRILINGÜE PEDRO MARIA ANAYA\"\"\"         BÁSICA        PRIMARIA   \n",
       "2             ING. JOAQUIN GALLO MONTERRUBIO         BÁSICA        PRIMARIA   \n",
       "3                            JUANA DE ASBAJE         BÁSICA        PRIMARIA   \n",
       "4                         ING. ROBERTO GAYOL         BÁSICA        PRIMARIA   \n",
       "\n",
       "  Servicio educativo Nombre del control (Público o Privado)  \\\n",
       "0            GENERAL                                PÚBLICO   \n",
       "1            GENERAL                                PRIVADO   \n",
       "2            GENERAL                                PÚBLICO   \n",
       "3            GENERAL                                PÚBLICO   \n",
       "4            GENERAL                                PÚBLICO   \n",
       "\n",
       "  Tipo de sostenimiento  ...  Docentes total (mujeres) Docentes total  \\\n",
       "0               FEDERAL  ...                       6.0            6.0   \n",
       "1               PRIVADO  ...                       3.0            3.0   \n",
       "2               FEDERAL  ...                      11.0           12.0   \n",
       "3               FEDERAL  ...                       9.0           12.0   \n",
       "4               FEDERAL  ...                       7.0           10.0   \n",
       "\n",
       "   Aulas en uso Aulas existentes  Tipo de localidad U - Urbano, R - Rural  \\\n",
       "0           6.0             17.0                                      NaN   \n",
       "1           6.0              6.0                                      NaN   \n",
       "2          12.0             12.0                                      NaN   \n",
       "3          12.0             12.0                                      NaN   \n",
       "4          10.0             18.0                                      NaN   \n",
       "\n",
       "  Ubicación de la escuela-localidad al Oeste del Meridiano de Greenwich, expresada en grados, minutos y segundos  \\\n",
       "0                                       99:6:48.60 W                                                               \n",
       "1                                       99:11:3.84 W                                                               \n",
       "2                                       99:5:51.36 W                                                               \n",
       "3                                       99:5:33.36 W                                                               \n",
       "4                                       99:5:33.36 W                                                               \n",
       "\n",
       "  Ubicación de la escuela-localidad al norte del Ecuador, expresada en grados, minutos y segundos  \\\n",
       "0                                      19:28:58.44 N                                                \n",
       "1                                       19:29:2.76 N                                                \n",
       "2                                      19:23:45.24 N                                                \n",
       "3                                      19:21:32.40 N                                                \n",
       "4                                      19:21:32.40 N                                                \n",
       "\n",
       "   Ubicación de la escuela-localidad al Oeste del Meridiano de Greenwich, expresada en grados  \\\n",
       "0                                           -99.1135                                            \n",
       "1                                           -99.1844                                            \n",
       "2                                           -99.0976                                            \n",
       "3                                           -99.0926                                            \n",
       "4                                           -99.0926                                            \n",
       "\n",
       "  Ubicación de la escuela-localidad al norte del Ecuador, expresada en grados  \\\n",
       "0                                            19.4829                            \n",
       "1                                            19.4841                            \n",
       "2                                            19.3959                            \n",
       "3                                            19.3590                            \n",
       "4                                            19.3590                            \n",
       "\n",
       "                         geometry  \n",
       "0  POINT (2802113.976 834649.424)  \n",
       "1  POINT (2794691.631 834634.323)  \n",
       "2  POINT (2803972.228 825082.509)  \n",
       "3  POINT (2804578.376 821020.898)  \n",
       "4  POINT (2804578.376 821020.898)  \n",
       "\n",
       "[5 rows x 42 columns]"
      ]
     },
     "execution_count": 18,
     "metadata": {},
     "output_type": "execute_result"
    }
   ],
   "source": [
    "# Nos quedamos sólo con los campos que queremos\n",
    "agebs_todas_centroides = agebs_todas.copy()\n",
    "agebs_todas_centroides['geometry'] = agebs_todas_centroides.centroid\n",
    "# Nos quedamos sólo con los campos que queremos\n",
    "agebs_todas_centroides = agebs_todas_centroides.loc[:, ['CVEGEO', 'geometry']]\n",
    "# Nos conviene tener una columna que identifique a cada parque\n",
    "escuelas_zm_gdf = escuelas_zm_gdf[~escuelas_zm_gdf.geometry.is_empty]\n",
    "escuelas_zm_gdf = escuelas_zm_gdf.reset_index().rename({'Clave del centro de trabajo':'id_escuela'}, axis=1)\n",
    "escuelas_zm_gdf.head()"
   ]
  },
  {
   "cell_type": "markdown",
   "metadata": {
    "id": "277ad803"
   },
   "source": [
    "### Datos de población\n",
    "Para modelar la demanda necesitamos ahora unir a las agebs los datos de población, esos vienen en csvs por estado. Lo primero es leerlos y juntarlos en un solo dataframe"
   ]
  },
  {
   "cell_type": "code",
   "execution_count": 19,
   "metadata": {
    "id": "df79c90b"
   },
   "outputs": [],
   "source": [
    "datos_cdmx = pd.read_csv(\"./datos/conjunto_de_datos_ageb_urbana_09_cpv2020.zip\", dtype={'ENTIDAD':str, 'MUN':str, 'LOC':str, 'AGEB':str})\n",
    "datos_edomex = pd.read_csv(\"./datos/conjunto_de_datos_ageb_urbana_15_cpv2020.zip\", dtype={'ENTIDAD':str, 'MUN':str, 'LOC':str, 'AGEB':str})\n",
    "datos_zmvm = pd.concat([datos_cdmx, datos_edomex])\n",
    "# seleccionamos las filas que contienen los totales para cada AGEB\n",
    "#datos_zmvm = datos_zmvm.loc[datos_cdmx['NOM_LOC'] == 'Total AGEB urbana', :]\n",
    "# Construimos una columna con la clave de ageb\n",
    "datos_zmvm['CVEGEO'] = datos_zmvm['ENTIDAD'] + datos_zmvm['MUN'] + datos_zmvm['LOC'] + datos_zmvm['AGEB']"
   ]
  },
  {
   "cell_type": "code",
   "execution_count": 20,
   "metadata": {},
   "outputs": [],
   "source": [
    "datos_zmvm.loc[datos_zmvm['P_6A11'] == '*', 'P_6A11'] = 0"
   ]
  },
  {
   "cell_type": "code",
   "execution_count": 21,
   "metadata": {
    "scrolled": true
   },
   "outputs": [],
   "source": [
    "#poblacion_interes = ['P_6A11', 'P_12A14', 'P_15A17']\n",
    "poblacion_interes = ['P_6A11']\n",
    "datos_zmvm['SUMA'] = datos_zmvm[poblacion_interes].sum(axis=1)"
   ]
  },
  {
   "cell_type": "code",
   "execution_count": 22,
   "metadata": {},
   "outputs": [],
   "source": [
    "# Nos quedamos sólo con las columnas que vamos a usar (sólo queremos los datos de población)\n",
    "datos_zmvm = datos_zmvm.loc[:, ['CVEGEO', 'SUMA']]"
   ]
  },
  {
   "cell_type": "markdown",
   "metadata": {
    "id": "d511657d"
   },
   "source": [
    "Ahora los podemos unir con los centroides de las agebs"
   ]
  },
  {
   "cell_type": "code",
   "execution_count": 23,
   "metadata": {
    "id": "baeee301",
    "outputId": "fba6938f-335a-4d45-e608-c63130d1424d"
   },
   "outputs": [
    {
     "data": {
      "text/html": [
       "<div>\n",
       "<style scoped>\n",
       "    .dataframe tbody tr th:only-of-type {\n",
       "        vertical-align: middle;\n",
       "    }\n",
       "\n",
       "    .dataframe tbody tr th {\n",
       "        vertical-align: top;\n",
       "    }\n",
       "\n",
       "    .dataframe thead th {\n",
       "        text-align: right;\n",
       "    }\n",
       "</style>\n",
       "<table border=\"1\" class=\"dataframe\">\n",
       "  <thead>\n",
       "    <tr style=\"text-align: right;\">\n",
       "      <th></th>\n",
       "      <th>CVEGEO</th>\n",
       "      <th>geometry</th>\n",
       "      <th>SUMA</th>\n",
       "    </tr>\n",
       "  </thead>\n",
       "  <tbody>\n",
       "    <tr>\n",
       "      <th>0</th>\n",
       "      <td>0901000011716</td>\n",
       "      <td>POINT (2787091.708 816590.463)</td>\n",
       "      <td>667</td>\n",
       "    </tr>\n",
       "    <tr>\n",
       "      <th>1</th>\n",
       "      <td>0901000011716</td>\n",
       "      <td>POINT (2787091.708 816590.463)</td>\n",
       "      <td>10</td>\n",
       "    </tr>\n",
       "    <tr>\n",
       "      <th>2</th>\n",
       "      <td>0901000011716</td>\n",
       "      <td>POINT (2787091.708 816590.463)</td>\n",
       "      <td>8</td>\n",
       "    </tr>\n",
       "    <tr>\n",
       "      <th>3</th>\n",
       "      <td>0901000011716</td>\n",
       "      <td>POINT (2787091.708 816590.463)</td>\n",
       "      <td>14</td>\n",
       "    </tr>\n",
       "    <tr>\n",
       "      <th>4</th>\n",
       "      <td>0901000011716</td>\n",
       "      <td>POINT (2787091.708 816590.463)</td>\n",
       "      <td>16</td>\n",
       "    </tr>\n",
       "    <tr>\n",
       "      <th>...</th>\n",
       "      <td>...</td>\n",
       "      <td>...</td>\n",
       "      <td>...</td>\n",
       "    </tr>\n",
       "    <tr>\n",
       "      <th>204025</th>\n",
       "      <td>1512500070069</td>\n",
       "      <td>POINT (2806149.209 856513.490)</td>\n",
       "      <td>0</td>\n",
       "    </tr>\n",
       "    <tr>\n",
       "      <th>204026</th>\n",
       "      <td>1512500070069</td>\n",
       "      <td>POINT (2806149.209 856513.490)</td>\n",
       "      <td>0</td>\n",
       "    </tr>\n",
       "    <tr>\n",
       "      <th>204027</th>\n",
       "      <td>1512500070069</td>\n",
       "      <td>POINT (2806149.209 856513.490)</td>\n",
       "      <td>0</td>\n",
       "    </tr>\n",
       "    <tr>\n",
       "      <th>204028</th>\n",
       "      <td>1512500070069</td>\n",
       "      <td>POINT (2806149.209 856513.490)</td>\n",
       "      <td>0</td>\n",
       "    </tr>\n",
       "    <tr>\n",
       "      <th>204029</th>\n",
       "      <td>1512500070069</td>\n",
       "      <td>POINT (2806149.209 856513.490)</td>\n",
       "      <td>0</td>\n",
       "    </tr>\n",
       "  </tbody>\n",
       "</table>\n",
       "<p>204030 rows × 3 columns</p>\n",
       "</div>"
      ],
      "text/plain": [
       "               CVEGEO                        geometry SUMA\n",
       "0       0901000011716  POINT (2787091.708 816590.463)  667\n",
       "1       0901000011716  POINT (2787091.708 816590.463)   10\n",
       "2       0901000011716  POINT (2787091.708 816590.463)    8\n",
       "3       0901000011716  POINT (2787091.708 816590.463)   14\n",
       "4       0901000011716  POINT (2787091.708 816590.463)   16\n",
       "...               ...                             ...  ...\n",
       "204025  1512500070069  POINT (2806149.209 856513.490)    0\n",
       "204026  1512500070069  POINT (2806149.209 856513.490)    0\n",
       "204027  1512500070069  POINT (2806149.209 856513.490)    0\n",
       "204028  1512500070069  POINT (2806149.209 856513.490)    0\n",
       "204029  1512500070069  POINT (2806149.209 856513.490)    0\n",
       "\n",
       "[204030 rows x 3 columns]"
      ]
     },
     "execution_count": 23,
     "metadata": {},
     "output_type": "execute_result"
    }
   ],
   "source": [
    "agebs_todas_centroides = agebs_todas_centroides.merge(datos_zmvm, on=\"CVEGEO\", how=\"inner\")\n",
    "# eliminamos datos_zmvm porque ya no lo vmos a usar y ocupa mucha memoria\n",
    "datos_zmvm = None\n",
    "agebs_todas_centroides"
   ]
  },
  {
   "cell_type": "code",
   "execution_count": 24,
   "metadata": {
    "id": "3764be37"
   },
   "outputs": [],
   "source": [
    "# Aquí vamos a guardar todos los datos como pickle para usarlos en otros notebooks\n",
    "agebs_todas_centroides.to_pickle(\"./datos/agebs_todas_centroides.pkl\", protocol=4)\n",
    "escuelas_zm_gdf.to_pickle(\"./datos/escuelas_centroides.pkl\",protocol=4)"
   ]
  },
  {
   "cell_type": "code",
   "execution_count": 25,
   "metadata": {},
   "outputs": [
    {
     "data": {
      "text/html": [
       "<div>\n",
       "<style scoped>\n",
       "    .dataframe tbody tr th:only-of-type {\n",
       "        vertical-align: middle;\n",
       "    }\n",
       "\n",
       "    .dataframe tbody tr th {\n",
       "        vertical-align: top;\n",
       "    }\n",
       "\n",
       "    .dataframe thead th {\n",
       "        text-align: right;\n",
       "    }\n",
       "</style>\n",
       "<table border=\"1\" class=\"dataframe\">\n",
       "  <thead>\n",
       "    <tr style=\"text-align: right;\">\n",
       "      <th></th>\n",
       "      <th>index</th>\n",
       "      <th>id_escuela</th>\n",
       "      <th>Clave del turno</th>\n",
       "      <th>Nombre del turno</th>\n",
       "      <th>Nombre del centro de trabajo</th>\n",
       "      <th>Tipo educativo</th>\n",
       "      <th>Nivel educativo</th>\n",
       "      <th>Servicio educativo</th>\n",
       "      <th>Nombre del control (Público o Privado)</th>\n",
       "      <th>Tipo de sostenimiento</th>\n",
       "      <th>...</th>\n",
       "      <th>Docentes total (mujeres)</th>\n",
       "      <th>Docentes total</th>\n",
       "      <th>Aulas en uso</th>\n",
       "      <th>Aulas existentes</th>\n",
       "      <th>Tipo de localidad U - Urbano, R - Rural</th>\n",
       "      <th>Ubicación de la escuela-localidad al Oeste del Meridiano de Greenwich, expresada en grados, minutos y segundos</th>\n",
       "      <th>Ubicación de la escuela-localidad al norte del Ecuador, expresada en grados, minutos y segundos</th>\n",
       "      <th>Ubicación de la escuela-localidad al Oeste del Meridiano de Greenwich, expresada en grados</th>\n",
       "      <th>Ubicación de la escuela-localidad al norte del Ecuador, expresada en grados</th>\n",
       "      <th>geometry</th>\n",
       "    </tr>\n",
       "  </thead>\n",
       "  <tbody>\n",
       "    <tr>\n",
       "      <th>0</th>\n",
       "      <td>0</td>\n",
       "      <td>09DPR1317S</td>\n",
       "      <td>2</td>\n",
       "      <td>VESPERTINO</td>\n",
       "      <td>PROFR. DANIEL DELGADILLO</td>\n",
       "      <td>BÁSICA</td>\n",
       "      <td>PRIMARIA</td>\n",
       "      <td>GENERAL</td>\n",
       "      <td>PÚBLICO</td>\n",
       "      <td>FEDERAL</td>\n",
       "      <td>...</td>\n",
       "      <td>6.0</td>\n",
       "      <td>6.0</td>\n",
       "      <td>6.0</td>\n",
       "      <td>17.0</td>\n",
       "      <td>NaN</td>\n",
       "      <td>99:6:48.60 W</td>\n",
       "      <td>19:28:58.44 N</td>\n",
       "      <td>-99.113500</td>\n",
       "      <td>19.482900</td>\n",
       "      <td>POINT (2802113.976 834649.424)</td>\n",
       "    </tr>\n",
       "    <tr>\n",
       "      <th>1</th>\n",
       "      <td>1</td>\n",
       "      <td>09PPR1197A</td>\n",
       "      <td>1</td>\n",
       "      <td>MATUTINO</td>\n",
       "      <td>\"COLEGIO \"\"TRILINGÜE PEDRO MARIA ANAYA\"\"\"</td>\n",
       "      <td>BÁSICA</td>\n",
       "      <td>PRIMARIA</td>\n",
       "      <td>GENERAL</td>\n",
       "      <td>PRIVADO</td>\n",
       "      <td>PRIVADO</td>\n",
       "      <td>...</td>\n",
       "      <td>3.0</td>\n",
       "      <td>3.0</td>\n",
       "      <td>6.0</td>\n",
       "      <td>6.0</td>\n",
       "      <td>NaN</td>\n",
       "      <td>99:11:3.84 W</td>\n",
       "      <td>19:29:2.76 N</td>\n",
       "      <td>-99.184400</td>\n",
       "      <td>19.484100</td>\n",
       "      <td>POINT (2794691.631 834634.323)</td>\n",
       "    </tr>\n",
       "    <tr>\n",
       "      <th>2</th>\n",
       "      <td>2</td>\n",
       "      <td>09DPR0943D</td>\n",
       "      <td>1</td>\n",
       "      <td>MATUTINO</td>\n",
       "      <td>ING. JOAQUIN GALLO MONTERRUBIO</td>\n",
       "      <td>BÁSICA</td>\n",
       "      <td>PRIMARIA</td>\n",
       "      <td>GENERAL</td>\n",
       "      <td>PÚBLICO</td>\n",
       "      <td>FEDERAL</td>\n",
       "      <td>...</td>\n",
       "      <td>11.0</td>\n",
       "      <td>12.0</td>\n",
       "      <td>12.0</td>\n",
       "      <td>12.0</td>\n",
       "      <td>NaN</td>\n",
       "      <td>99:5:51.36 W</td>\n",
       "      <td>19:23:45.24 N</td>\n",
       "      <td>-99.097600</td>\n",
       "      <td>19.395900</td>\n",
       "      <td>POINT (2803972.228 825082.509)</td>\n",
       "    </tr>\n",
       "    <tr>\n",
       "      <th>3</th>\n",
       "      <td>3</td>\n",
       "      <td>09DPR1177I</td>\n",
       "      <td>1</td>\n",
       "      <td>MATUTINO</td>\n",
       "      <td>JUANA DE ASBAJE</td>\n",
       "      <td>BÁSICA</td>\n",
       "      <td>PRIMARIA</td>\n",
       "      <td>GENERAL</td>\n",
       "      <td>PÚBLICO</td>\n",
       "      <td>FEDERAL</td>\n",
       "      <td>...</td>\n",
       "      <td>9.0</td>\n",
       "      <td>12.0</td>\n",
       "      <td>12.0</td>\n",
       "      <td>12.0</td>\n",
       "      <td>NaN</td>\n",
       "      <td>99:5:33.36 W</td>\n",
       "      <td>19:21:32.40 N</td>\n",
       "      <td>-99.092600</td>\n",
       "      <td>19.359000</td>\n",
       "      <td>POINT (2804578.376 821020.898)</td>\n",
       "    </tr>\n",
       "    <tr>\n",
       "      <th>4</th>\n",
       "      <td>4</td>\n",
       "      <td>09DPR1217T</td>\n",
       "      <td>2</td>\n",
       "      <td>VESPERTINO</td>\n",
       "      <td>ING. ROBERTO GAYOL</td>\n",
       "      <td>BÁSICA</td>\n",
       "      <td>PRIMARIA</td>\n",
       "      <td>GENERAL</td>\n",
       "      <td>PÚBLICO</td>\n",
       "      <td>FEDERAL</td>\n",
       "      <td>...</td>\n",
       "      <td>7.0</td>\n",
       "      <td>10.0</td>\n",
       "      <td>10.0</td>\n",
       "      <td>18.0</td>\n",
       "      <td>NaN</td>\n",
       "      <td>99:5:33.36 W</td>\n",
       "      <td>19:21:32.40 N</td>\n",
       "      <td>-99.092600</td>\n",
       "      <td>19.359000</td>\n",
       "      <td>POINT (2804578.376 821020.898)</td>\n",
       "    </tr>\n",
       "    <tr>\n",
       "      <th>...</th>\n",
       "      <td>...</td>\n",
       "      <td>...</td>\n",
       "      <td>...</td>\n",
       "      <td>...</td>\n",
       "      <td>...</td>\n",
       "      <td>...</td>\n",
       "      <td>...</td>\n",
       "      <td>...</td>\n",
       "      <td>...</td>\n",
       "      <td>...</td>\n",
       "      <td>...</td>\n",
       "      <td>...</td>\n",
       "      <td>...</td>\n",
       "      <td>...</td>\n",
       "      <td>...</td>\n",
       "      <td>...</td>\n",
       "      <td>...</td>\n",
       "      <td>...</td>\n",
       "      <td>...</td>\n",
       "      <td>...</td>\n",
       "      <td>...</td>\n",
       "    </tr>\n",
       "    <tr>\n",
       "      <th>12415</th>\n",
       "      <td>9139</td>\n",
       "      <td>15EBA1293F</td>\n",
       "      <td>3</td>\n",
       "      <td>NOCTURNO</td>\n",
       "      <td>EMILIANO ZAPATA</td>\n",
       "      <td>BÁSICA</td>\n",
       "      <td>PRIMARIA</td>\n",
       "      <td>GENERAL</td>\n",
       "      <td>PÚBLICO</td>\n",
       "      <td>ESTATAL</td>\n",
       "      <td>...</td>\n",
       "      <td>NaN</td>\n",
       "      <td>NaN</td>\n",
       "      <td>NaN</td>\n",
       "      <td>NaN</td>\n",
       "      <td>NaN</td>\n",
       "      <td>99:17:12.33 W</td>\n",
       "      <td>19:27:22.73 N</td>\n",
       "      <td>-99.286758</td>\n",
       "      <td>19.456315</td>\n",
       "      <td>POINT (2784037.759 831361.760)</td>\n",
       "    </tr>\n",
       "    <tr>\n",
       "      <th>12416</th>\n",
       "      <td>9140</td>\n",
       "      <td>15EBA1420L</td>\n",
       "      <td>3</td>\n",
       "      <td>NOCTURNO</td>\n",
       "      <td>NUCLEO ESCOLAR NO 7 GRAL. MELCHOR MUZQUIZ</td>\n",
       "      <td>BÁSICA</td>\n",
       "      <td>PRIMARIA</td>\n",
       "      <td>GENERAL</td>\n",
       "      <td>PÚBLICO</td>\n",
       "      <td>ESTATAL</td>\n",
       "      <td>...</td>\n",
       "      <td>NaN</td>\n",
       "      <td>NaN</td>\n",
       "      <td>NaN</td>\n",
       "      <td>NaN</td>\n",
       "      <td>NaN</td>\n",
       "      <td>99:30:42.48 W</td>\n",
       "      <td>19:17:7.44 N</td>\n",
       "      <td>-99.511800</td>\n",
       "      <td>19.285400</td>\n",
       "      <td>POINT (2760808.830 812071.496)</td>\n",
       "    </tr>\n",
       "    <tr>\n",
       "      <th>12417</th>\n",
       "      <td>9141</td>\n",
       "      <td>15EBA1420L</td>\n",
       "      <td>4</td>\n",
       "      <td>DISCONTINUO</td>\n",
       "      <td>NUCLEO ESCOLAR NO 7 GRAL. MELCHOR MUZQUIZ</td>\n",
       "      <td>BÁSICA</td>\n",
       "      <td>PRIMARIA</td>\n",
       "      <td>GENERAL</td>\n",
       "      <td>PÚBLICO</td>\n",
       "      <td>ESTATAL</td>\n",
       "      <td>...</td>\n",
       "      <td>NaN</td>\n",
       "      <td>NaN</td>\n",
       "      <td>NaN</td>\n",
       "      <td>NaN</td>\n",
       "      <td>NaN</td>\n",
       "      <td>99:30:42.48 W</td>\n",
       "      <td>19:17:7.44 N</td>\n",
       "      <td>-99.511800</td>\n",
       "      <td>19.285400</td>\n",
       "      <td>POINT (2760808.830 812071.496)</td>\n",
       "    </tr>\n",
       "    <tr>\n",
       "      <th>12418</th>\n",
       "      <td>9142</td>\n",
       "      <td>15EBA1295D</td>\n",
       "      <td>3</td>\n",
       "      <td>NOCTURNO</td>\n",
       "      <td>SOR JUANA INES DE LA CRUZ</td>\n",
       "      <td>BÁSICA</td>\n",
       "      <td>PRIMARIA</td>\n",
       "      <td>GENERAL</td>\n",
       "      <td>PÚBLICO</td>\n",
       "      <td>ESTATAL</td>\n",
       "      <td>...</td>\n",
       "      <td>NaN</td>\n",
       "      <td>NaN</td>\n",
       "      <td>NaN</td>\n",
       "      <td>NaN</td>\n",
       "      <td>NaN</td>\n",
       "      <td>99:17:21.67 W</td>\n",
       "      <td>19:26:10.77 N</td>\n",
       "      <td>-99.289354</td>\n",
       "      <td>19.436325</td>\n",
       "      <td>POINT (2783807.725 829150.673)</td>\n",
       "    </tr>\n",
       "    <tr>\n",
       "      <th>12419</th>\n",
       "      <td>9143</td>\n",
       "      <td>15EBA1429C</td>\n",
       "      <td>3</td>\n",
       "      <td>NOCTURNO</td>\n",
       "      <td>OCTAVIO PAZ</td>\n",
       "      <td>BÁSICA</td>\n",
       "      <td>PRIMARIA</td>\n",
       "      <td>GENERAL</td>\n",
       "      <td>PÚBLICO</td>\n",
       "      <td>ESTATAL</td>\n",
       "      <td>...</td>\n",
       "      <td>NaN</td>\n",
       "      <td>NaN</td>\n",
       "      <td>NaN</td>\n",
       "      <td>NaN</td>\n",
       "      <td>NaN</td>\n",
       "      <td>99:12:35.38 W</td>\n",
       "      <td>19:37:44.94 N</td>\n",
       "      <td>-99.209828</td>\n",
       "      <td>19.629151</td>\n",
       "      <td>POINT (2791719.171 850586.962)</td>\n",
       "    </tr>\n",
       "  </tbody>\n",
       "</table>\n",
       "<p>12420 rows × 42 columns</p>\n",
       "</div>"
      ],
      "text/plain": [
       "       index  id_escuela Clave del turno Nombre del turno  \\\n",
       "0          0  09DPR1317S               2       VESPERTINO   \n",
       "1          1  09PPR1197A               1         MATUTINO   \n",
       "2          2  09DPR0943D               1         MATUTINO   \n",
       "3          3  09DPR1177I               1         MATUTINO   \n",
       "4          4  09DPR1217T               2       VESPERTINO   \n",
       "...      ...         ...             ...              ...   \n",
       "12415   9139  15EBA1293F               3         NOCTURNO   \n",
       "12416   9140  15EBA1420L               3         NOCTURNO   \n",
       "12417   9141  15EBA1420L               4      DISCONTINUO   \n",
       "12418   9142  15EBA1295D               3         NOCTURNO   \n",
       "12419   9143  15EBA1429C               3         NOCTURNO   \n",
       "\n",
       "                    Nombre del centro de trabajo Tipo educativo  \\\n",
       "0                       PROFR. DANIEL DELGADILLO         BÁSICA   \n",
       "1      \"COLEGIO \"\"TRILINGÜE PEDRO MARIA ANAYA\"\"\"         BÁSICA   \n",
       "2                 ING. JOAQUIN GALLO MONTERRUBIO         BÁSICA   \n",
       "3                                JUANA DE ASBAJE         BÁSICA   \n",
       "4                             ING. ROBERTO GAYOL         BÁSICA   \n",
       "...                                          ...            ...   \n",
       "12415                            EMILIANO ZAPATA         BÁSICA   \n",
       "12416  NUCLEO ESCOLAR NO 7 GRAL. MELCHOR MUZQUIZ         BÁSICA   \n",
       "12417  NUCLEO ESCOLAR NO 7 GRAL. MELCHOR MUZQUIZ         BÁSICA   \n",
       "12418                  SOR JUANA INES DE LA CRUZ         BÁSICA   \n",
       "12419                                OCTAVIO PAZ         BÁSICA   \n",
       "\n",
       "      Nivel educativo Servicio educativo  \\\n",
       "0            PRIMARIA            GENERAL   \n",
       "1            PRIMARIA            GENERAL   \n",
       "2            PRIMARIA            GENERAL   \n",
       "3            PRIMARIA            GENERAL   \n",
       "4            PRIMARIA            GENERAL   \n",
       "...               ...                ...   \n",
       "12415        PRIMARIA            GENERAL   \n",
       "12416        PRIMARIA            GENERAL   \n",
       "12417        PRIMARIA            GENERAL   \n",
       "12418        PRIMARIA            GENERAL   \n",
       "12419        PRIMARIA            GENERAL   \n",
       "\n",
       "      Nombre del control (Público o Privado) Tipo de sostenimiento  ...  \\\n",
       "0                                    PÚBLICO               FEDERAL  ...   \n",
       "1                                    PRIVADO               PRIVADO  ...   \n",
       "2                                    PÚBLICO               FEDERAL  ...   \n",
       "3                                    PÚBLICO               FEDERAL  ...   \n",
       "4                                    PÚBLICO               FEDERAL  ...   \n",
       "...                                      ...                   ...  ...   \n",
       "12415                                PÚBLICO               ESTATAL  ...   \n",
       "12416                                PÚBLICO               ESTATAL  ...   \n",
       "12417                                PÚBLICO               ESTATAL  ...   \n",
       "12418                                PÚBLICO               ESTATAL  ...   \n",
       "12419                                PÚBLICO               ESTATAL  ...   \n",
       "\n",
       "       Docentes total (mujeres) Docentes total  Aulas en uso Aulas existentes  \\\n",
       "0                           6.0            6.0           6.0             17.0   \n",
       "1                           3.0            3.0           6.0              6.0   \n",
       "2                          11.0           12.0          12.0             12.0   \n",
       "3                           9.0           12.0          12.0             12.0   \n",
       "4                           7.0           10.0          10.0             18.0   \n",
       "...                         ...            ...           ...              ...   \n",
       "12415                       NaN            NaN           NaN              NaN   \n",
       "12416                       NaN            NaN           NaN              NaN   \n",
       "12417                       NaN            NaN           NaN              NaN   \n",
       "12418                       NaN            NaN           NaN              NaN   \n",
       "12419                       NaN            NaN           NaN              NaN   \n",
       "\n",
       "       Tipo de localidad U - Urbano, R - Rural  \\\n",
       "0                                          NaN   \n",
       "1                                          NaN   \n",
       "2                                          NaN   \n",
       "3                                          NaN   \n",
       "4                                          NaN   \n",
       "...                                        ...   \n",
       "12415                                      NaN   \n",
       "12416                                      NaN   \n",
       "12417                                      NaN   \n",
       "12418                                      NaN   \n",
       "12419                                      NaN   \n",
       "\n",
       "      Ubicación de la escuela-localidad al Oeste del Meridiano de Greenwich, expresada en grados, minutos y segundos  \\\n",
       "0                                           99:6:48.60 W                                                               \n",
       "1                                           99:11:3.84 W                                                               \n",
       "2                                           99:5:51.36 W                                                               \n",
       "3                                           99:5:33.36 W                                                               \n",
       "4                                           99:5:33.36 W                                                               \n",
       "...                                                  ...                                                               \n",
       "12415                                      99:17:12.33 W                                                               \n",
       "12416                                      99:30:42.48 W                                                               \n",
       "12417                                      99:30:42.48 W                                                               \n",
       "12418                                      99:17:21.67 W                                                               \n",
       "12419                                      99:12:35.38 W                                                               \n",
       "\n",
       "      Ubicación de la escuela-localidad al norte del Ecuador, expresada en grados, minutos y segundos  \\\n",
       "0                                          19:28:58.44 N                                                \n",
       "1                                           19:29:2.76 N                                                \n",
       "2                                          19:23:45.24 N                                                \n",
       "3                                          19:21:32.40 N                                                \n",
       "4                                          19:21:32.40 N                                                \n",
       "...                                                  ...                                                \n",
       "12415                                      19:27:22.73 N                                                \n",
       "12416                                       19:17:7.44 N                                                \n",
       "12417                                       19:17:7.44 N                                                \n",
       "12418                                      19:26:10.77 N                                                \n",
       "12419                                      19:37:44.94 N                                                \n",
       "\n",
       "       Ubicación de la escuela-localidad al Oeste del Meridiano de Greenwich, expresada en grados  \\\n",
       "0                                             -99.113500                                            \n",
       "1                                             -99.184400                                            \n",
       "2                                             -99.097600                                            \n",
       "3                                             -99.092600                                            \n",
       "4                                             -99.092600                                            \n",
       "...                                                  ...                                            \n",
       "12415                                         -99.286758                                            \n",
       "12416                                         -99.511800                                            \n",
       "12417                                         -99.511800                                            \n",
       "12418                                         -99.289354                                            \n",
       "12419                                         -99.209828                                            \n",
       "\n",
       "      Ubicación de la escuela-localidad al norte del Ecuador, expresada en grados  \\\n",
       "0                                              19.482900                            \n",
       "1                                              19.484100                            \n",
       "2                                              19.395900                            \n",
       "3                                              19.359000                            \n",
       "4                                              19.359000                            \n",
       "...                                                  ...                            \n",
       "12415                                          19.456315                            \n",
       "12416                                          19.285400                            \n",
       "12417                                          19.285400                            \n",
       "12418                                          19.436325                            \n",
       "12419                                          19.629151                            \n",
       "\n",
       "                             geometry  \n",
       "0      POINT (2802113.976 834649.424)  \n",
       "1      POINT (2794691.631 834634.323)  \n",
       "2      POINT (2803972.228 825082.509)  \n",
       "3      POINT (2804578.376 821020.898)  \n",
       "4      POINT (2804578.376 821020.898)  \n",
       "...                               ...  \n",
       "12415  POINT (2784037.759 831361.760)  \n",
       "12416  POINT (2760808.830 812071.496)  \n",
       "12417  POINT (2760808.830 812071.496)  \n",
       "12418  POINT (2783807.725 829150.673)  \n",
       "12419  POINT (2791719.171 850586.962)  \n",
       "\n",
       "[12420 rows x 42 columns]"
      ]
     },
     "execution_count": 25,
     "metadata": {},
     "output_type": "execute_result"
    }
   ],
   "source": [
    "escuelas_zm_gdf"
   ]
  },
  {
   "cell_type": "code",
   "execution_count": null,
   "metadata": {
    "id": "19b12adf-d148-4780-9fab-69b2424949be"
   },
   "outputs": [],
   "source": [
    "lista = []\n",
    "\n",
    "for index, ageb in agebs_todas_centroides.iterrows():\n",
    "    for i, ageb in escuelas_zm_gdf.iterrows():\n",
    "        lista.append([agebs_todas_centroides.CVEGEO[index],escuelas_zm_gdf.id_escuela[i],\n",
    "                      float(math.sqrt(pow(agebs_todas_centroides.geometry[index].x-escuelas_zm_gdf.geometry[i].x,2)\n",
    "                                      +pow(agebs_todas_centroides.geometry[index].y-escuelas_zm_gdf.geometry[i].y,2)))])\n",
    "        \n",
    "df = pd.DataFrame(lista,columns=['origin','dest','euclidean'])\n",
    "df.head()"
   ]
  },
  {
   "cell_type": "code",
   "execution_count": null,
   "metadata": {},
   "outputs": [],
   "source": [
    "df.to_csv(\"./datos/escuelas_od_euclidean.csv\", index=False)"
   ]
  },
  {
   "cell_type": "markdown",
   "metadata": {
    "id": "5277209a"
   },
   "source": [
    "## Modelo basado en distancia euclidiana\n",
    "\n",
    "La primera aproximación que vamos a usar es crear un modelo de accesibilidad basado en la distancia euclidiana entre los centroides de las agebs y los de los parques. Para esto, el primer paso es construir una matriz de costos"
   ]
  },
  {
   "cell_type": "markdown",
   "metadata": {
    "id": "0a361321-069a-4a5d-920d-9060efbe3781"
   },
   "source": [
    "### Matriz de costos\n",
    "\n",
    "Para construir la matriz de costos necesitamos obtener el producto cruz de nuestros datos de origen y destino. A partir de eso, podemos calcular la distancia euclidiana y guardar el resultado en la matriz. En general, podríamos ralizar todo el proceso con el siguiente código:\n",
    "\n",
    "````Python\n",
    "# Creamos el producto cruz\n",
    "#cost_df = agebs_zmvm_centroides[['CVEGEO']].merge(areas_verdes_centroides[['id_parque']], how='cross')\n",
    "cost_df = agebs_zmvm_centroides[['CVEGEO']].merge(escuelas[['id_escuela']], how='cross')\n",
    "# Agregamos una columna de costo con puros ceros\n",
    "cost_df['cost'] = 0\n",
    "# renombramos las columnas para que tengan más sentido\n",
    "cost_df.columns = ['origen', 'destino', 'cost']\n",
    "# Instanciamos un objeto de la clase Access\n",
    "A = Access(demand_df            = agebs_zmvm_centroides,\n",
    "           demand_index         = 'CVEGEO',\n",
    "           demand_value         = 'sum',\n",
    "           supply_df            = areas_verdes_centroides,\n",
    "           supply_index         = 'id_escuela',\n",
    "           supply_value         = 'area',\n",
    "           cost_df              = costo_euclidiano,\n",
    "           cost_origin          = 'origin',\n",
    "           cost_dest            = 'dest',\n",
    "           cost_name            = 'euclidean',\n",
    "           neighbor_cost_df     = costo_euclidiano,\n",
    "           neighbor_cost_origin = 'origin',\n",
    "           neighbor_cost_dest   = 'dest',\n",
    "           neighbor_cost_name   = 'euclidean')\n",
    "# Calculamos las distancias\n",
    "A.create_euclidean_distance(threshold = 250000, centroid_o = True, centroid_d = True)\n",
    "````\n",
    "Como esta operación requiere mucha memoria y tiempo, en lugar de ejecutarla vamos a usar un dataframe con los datos precalculados"
   ]
  },
  {
   "cell_type": "code",
   "execution_count": null,
   "metadata": {
    "id": "549df04a",
    "outputId": "9033aa75-c504-41de-a22e-732c468790ae"
   },
   "outputs": [],
   "source": [
    "costo_euclidiano = pd.read_csv(\"./datos/primarias_od_euclidean.csv\")\n",
    "costo_euclidiano"
   ]
  },
  {
   "cell_type": "markdown",
   "metadata": {
    "id": "cd95ed6f"
   },
   "source": [
    "### Instancia de accesibilidad\n",
    "\n",
    "Ya tenemos los datos preparados, ahora podemos crear una instancia de la clase `access` con nuestros centros de demanda y de oferta. "
   ]
  },
  {
   "cell_type": "code",
   "execution_count": null,
   "metadata": {
    "id": "dd22f0b9"
   },
   "outputs": [],
   "source": [
    "from access import Access, weights\n",
    "A = Access(demand_df            = cdmx_centroides,\n",
    "           demand_index         = 'CVEGEO',\n",
    "           demand_value         = 'sum',\n",
    "           supply_df            = escuelas,\n",
    "           supply_index         = 'id_escuela',\n",
    "           supply_value         = 'matricula',\n",
    "           cost_df              = costo_euclidiano,\n",
    "           cost_origin          = 'origin',\n",
    "           cost_dest            = 'dest',\n",
    "           cost_name            = 'euclidean',\n",
    "           neighbor_cost_df     = costo_euclidiano,\n",
    "           neighbor_cost_origin = 'origin',\n",
    "           neighbor_cost_dest   = 'dest',\n",
    "           neighbor_cost_name   = 'euclidean')"
   ]
  },
  {
   "cell_type": "markdown",
   "metadata": {
    "id": "6c474ba0"
   },
   "source": [
    "### Modelos de accesibilidad\n",
    "Ahora ya tenemos todos los datos que necesitamos para calcular diferentes modelos de accesibilidad. El ajuste de cada modelos para la cantidad de datos que estamos utilizando es un poco lento, entonces vamos a calcular sólo unos pocos y ver sus diferencias"
   ]
  },
  {
   "cell_type": "code",
   "execution_count": null,
   "metadata": {
    "id": "97b8f8fd"
   },
   "outputs": [],
   "source": [
    "# stepwise weight dictionaries\n",
    "fn1 = weights.step_fn({750 : 1, 1500 : 0.68, 3000 : 0.22})\n",
    "# gaussian media de 1000 metros \n",
    "gaussian = weights.gaussian(750)\n",
    "# gravity catchement pesado por gravedad\n",
    "gravity = weights.gravity(scale = 750, alpha = -1)"
   ]
  },
  {
   "cell_type": "code",
   "execution_count": null,
   "metadata": {
    "id": "54c6518b"
   },
   "outputs": [],
   "source": [
    "A.weighted_catchment(name = \"gravity\", weight_fn = gravity)\n",
    "A.raam(name = \"raam\", tau = 5)"
   ]
  },
  {
   "cell_type": "code",
   "execution_count": null,
   "metadata": {
    "id": "77d7b514"
   },
   "outputs": [],
   "source": [
    "# Guardamos los modelos por si los queremos reutilizar\n",
    "A.norm_access_df.to_csv(\"./datos/accesibilidad_primarias_distancia_euclidiana.csv\")"
   ]
  },
  {
   "cell_type": "markdown",
   "metadata": {
    "id": "99d96dd6"
   },
   "source": [
    "Ahora podemos comparar los dos modelos de accesibilidad. Primero unimos los datos de acceesibilidad a las geometrías de los centroides "
   ]
  },
  {
   "cell_type": "code",
   "execution_count": null,
   "metadata": {
    "id": "c9be1876",
    "outputId": "ed0f7fcb-5337-447e-87aa-34dba813539a"
   },
   "outputs": [],
   "source": [
    "mapa_accesibilidad = cdmx_centroides.set_index('CVEGEO')[['geometry']].join(A.norm_access_df, how = \"inner\")\n",
    "mapa_accesibilidad"
   ]
  },
  {
   "cell_type": "markdown",
   "metadata": {
    "id": "49f54a9e"
   },
   "source": [
    "Y ahora podemos hacer un par de mapas para compararlos"
   ]
  },
  {
   "cell_type": "code",
   "execution_count": null,
   "metadata": {
    "id": "a1c48743",
    "outputId": "91d6e722-c63e-4747-955c-795ced7bd03c"
   },
   "outputs": [],
   "source": [
    "fig, (ax1, ax2) = plt.subplots(1,2, figsize=(32,12))\n",
    "ax1 = mapa_accesibilidad.to_crs(epsg=3857).plot('raam_matricula', legend = True,\n",
    "                                                cmap =  \"viridis_r\", \n",
    "                                                markersize = 5, alpha = 0.9, ax = ax1,\n",
    "                                                vmin = mapa_accesibilidad['raam_matricula'].quantile(0.05), \n",
    "                                                vmax = mapa_accesibilidad['raam_matricula'].quantile(0.95),\n",
    "                                                )\n",
    "ax1.set_axis_off()\n",
    "ax1.set(title='Modelo RAAM')\n",
    "ctx.add_basemap(ax1, source=ctx.providers.CartoDB.Positron)\n",
    "\n",
    "ax2 = mapa_accesibilidad.to_crs(epsg=3857).plot('gravity_matricula', legend = True,\n",
    "                                                cmap =  \"viridis\", \n",
    "                                                markersize = 5, alpha = 0.9, ax = ax2,\n",
    "                                                vmin = mapa_accesibilidad['gravity_matricula'].quantile(0.05), \n",
    "                                                vmax = mapa_accesibilidad['gravity_matricula'].quantile(0.95),\n",
    "                                                )\n",
    "ax2.set_axis_off()\n",
    "ax2.set(title='Modelo Gravitatorio')\n",
    "# plt.subplots_adjust(wspace=-.5, hspace=0)\n",
    "ctx.add_basemap(ax2, source=ctx.providers.CartoDB.Positron)\n",
    "plt.tight_layout()"
   ]
  },
  {
   "cell_type": "markdown",
   "metadata": {
    "id": "49ef62f0"
   },
   "source": [
    "Hasta aquí hicimos nuestro primer modelo de accesibilidad utilizando nuestros propios datos. Por supuesto tiene algunas limitaciones obvias: la distancia está modelada _as the crow flies_, lo que no necesariamente corresponde con la realidad; la oferta asume que la capacidad de cada área verde depende únicamente del área, etcétera.\n",
    "\n",
    "Pensemos ahora, además de esas limitaciones obvias, en qué modelos de conectividad funciona mejor para el problema que estamos abordando ¿gravitatorio? ¿RAAM? Lean los artículos, piénsenlo y argumentemos para la próxima clase. "
   ]
  },
  {
   "cell_type": "code",
   "execution_count": null,
   "metadata": {
    "id": "737e3dd6"
   },
   "outputs": [],
   "source": []
  }
 ],
 "metadata": {
  "colab": {
   "name": "accesibilidad_01.ipynb",
   "provenance": []
  },
  "kernelspec": {
   "display_name": "Python 3",
   "language": "python",
   "name": "python3"
  },
  "language_info": {
   "codemirror_mode": {
    "name": "ipython",
    "version": 3
   },
   "file_extension": ".py",
   "mimetype": "text/x-python",
   "name": "python",
   "nbconvert_exporter": "python",
   "pygments_lexer": "ipython3",
   "version": "3.8.10"
  }
 },
 "nbformat": 4,
 "nbformat_minor": 5
}
