{
 "cells": [
  {
   "cell_type": "code",
   "execution_count": 1,
   "id": "8e2577fb-c3db-47dc-a35a-0f75cbe486ea",
   "metadata": {},
   "outputs": [
    {
     "name": "stderr",
     "output_type": "stream",
     "text": [
      "/home/centrogeo/anaconda3/envs/ulises/lib/python3.9/site-packages/geopandas/_compat.py:111: UserWarning: The Shapely GEOS version (3.8.0-CAPI-1.13.1 ) is incompatible with the GEOS version PyGEOS was compiled with (3.9.1-CAPI-1.14.2). Conversions between both will be slow.\n",
      "  warnings.warn(\n"
     ]
    }
   ],
   "source": [
    "import random\n",
    "import numpy as np\n",
    "import shapely\n",
    "from shapely.geometry import Point, LineString\n",
    "from matplotlib import pyplot as plt\n",
    "import anytree\n",
    "from IPython.display import IFrame\n",
    "from anytree import Node, RenderTree\n",
    "from anytree.exporter import DotExporter\n",
    "import osmnx as ox\n",
    "import pandas as pd\n",
    "import geopandas as gpd\n",
    "ox.config(use_cache=True, log_console=False)\n",
    "from descartes import PolygonPatch\n",
    "from sklearn.datasets import make_blobs"
   ]
  },
  {
   "cell_type": "markdown",
   "id": "00d99969-2ae3-4581-944e-b26a24d87f9a",
   "metadata": {},
   "source": [
    "Usando la bilioteca osmnx que es una API para usar *Open Street Maps*  podemos obtener todos los nodos de la gráfica de de la red de autos en los siguientes municipios"
   ]
  },
  {
   "cell_type": "code",
   "execution_count": 2,
   "id": "68ed1713-63fd-4c5d-9f6b-d3fd8c4b6d54",
   "metadata": {},
   "outputs": [],
   "source": [
    "G_1 = ox.graph_from_place(\"Cuernavaca, Morelos, Mexico\", network_type=\"drive\",)\n",
    "G_2 = ox.graph_from_place(\"Jiutepec, Morelos, Mexico\", network_type=\"drive\",)\n",
    "G_3 = ox.graph_from_place(\"Temixco, Morelos, Mexico\", network_type=\"drive\",)\n",
    "G_4 = ox.graph_from_place(\"Xochitepec, Morelos, Mexico\", network_type=\"drive\",)\n",
    "G_5 = ox.graph_from_place(\"Emiliano Zapata, Morelos, Mexico\", network_type=\"drive\",)"
   ]
  },
  {
   "cell_type": "markdown",
   "id": "06cc47c0-2d65-4858-8996-651191c1e026",
   "metadata": {},
   "source": [
    "Obtengamos el poligono del municipio de Cuernavaca"
   ]
  },
  {
   "cell_type": "code",
   "execution_count": 3,
   "id": "804d9b36-e081-4feb-a95d-872d3f35b469",
   "metadata": {},
   "outputs": [
    {
     "data": {
      "text/html": [
       "<div>\n",
       "<style scoped>\n",
       "    .dataframe tbody tr th:only-of-type {\n",
       "        vertical-align: middle;\n",
       "    }\n",
       "\n",
       "    .dataframe tbody tr th {\n",
       "        vertical-align: top;\n",
       "    }\n",
       "\n",
       "    .dataframe thead th {\n",
       "        text-align: right;\n",
       "    }\n",
       "</style>\n",
       "<table border=\"1\" class=\"dataframe\">\n",
       "  <thead>\n",
       "    <tr style=\"text-align: right;\">\n",
       "      <th></th>\n",
       "      <th>geometry</th>\n",
       "      <th>bbox_north</th>\n",
       "      <th>bbox_south</th>\n",
       "      <th>bbox_east</th>\n",
       "      <th>bbox_west</th>\n",
       "      <th>place_id</th>\n",
       "      <th>osm_type</th>\n",
       "      <th>osm_id</th>\n",
       "      <th>lat</th>\n",
       "      <th>lon</th>\n",
       "      <th>display_name</th>\n",
       "      <th>class</th>\n",
       "      <th>type</th>\n",
       "      <th>importance</th>\n",
       "    </tr>\n",
       "  </thead>\n",
       "  <tbody>\n",
       "    <tr>\n",
       "      <th>0</th>\n",
       "      <td>POLYGON ((-99.36492 19.27777, -99.36192 19.275...</td>\n",
       "      <td>19.592757</td>\n",
       "      <td>19.048719</td>\n",
       "      <td>-98.940303</td>\n",
       "      <td>-99.364924</td>\n",
       "      <td>258281399</td>\n",
       "      <td>relation</td>\n",
       "      <td>1376330</td>\n",
       "      <td>19.43263</td>\n",
       "      <td>-99.133178</td>\n",
       "      <td>Mexico City, Mexico</td>\n",
       "      <td>boundary</td>\n",
       "      <td>administrative</td>\n",
       "      <td>0.949924</td>\n",
       "    </tr>\n",
       "  </tbody>\n",
       "</table>\n",
       "</div>"
      ],
      "text/plain": [
       "                                            geometry  bbox_north  bbox_south  \\\n",
       "0  POLYGON ((-99.36492 19.27777, -99.36192 19.275...   19.592757   19.048719   \n",
       "\n",
       "   bbox_east  bbox_west   place_id  osm_type   osm_id       lat        lon  \\\n",
       "0 -98.940303 -99.364924  258281399  relation  1376330  19.43263 -99.133178   \n",
       "\n",
       "          display_name     class            type  importance  \n",
       "0  Mexico City, Mexico  boundary  administrative    0.949924  "
      ]
     },
     "execution_count": 3,
     "metadata": {},
     "output_type": "execute_result"
    }
   ],
   "source": [
    "#gdf = ox.geocode_to_gdf(\"Cuernavaca, Morelos, Mexico\")\n",
    "#gdf.head()\n",
    "gdf = ox.geocode_to_gdf(\"cdmx, Mexico\")\n",
    "gdf.head()"
   ]
  },
  {
   "cell_type": "code",
   "execution_count": 4,
   "id": "6c9439ca-2866-4d25-adb1-b24bdda6bf18",
   "metadata": {},
   "outputs": [
    {
     "data": {
      "text/plain": [
       "<AxesSubplot:>"
      ]
     },
     "execution_count": 4,
     "metadata": {},
     "output_type": "execute_result"
    },
    {
     "data": {
      "image/png": "[encoded data removed]",
      "text/plain": [
       "<Figure size 432x288 with 1 Axes>"
      ]
     },
     "metadata": {
      "needs_background": "light"
     },
     "output_type": "display_data"
    }
   ],
   "source": [
    "gdf.plot()"
   ]
  },
  {
   "cell_type": "markdown",
   "id": "bd543a9b-7316-4072-a45b-b05a1ca04060",
   "metadata": {},
   "source": [
    "A partir de las gráficas que tenemos vamos a extraer solo los nodos y vamos a juntarlos todos en un geodataframe"
   ]
  },
  {
   "cell_type": "code",
   "execution_count": 5,
   "id": "c48bc0f6-b581-466a-92d2-25ba9a818e61",
   "metadata": {},
   "outputs": [
    {
     "data": {
      "text/plain": [
       "<networkx.classes.multidigraph.MultiDiGraph at 0x7fee8db22160>"
      ]
     },
     "execution_count": 5,
     "metadata": {},
     "output_type": "execute_result"
    }
   ],
   "source": [
    "G_1"
   ]
  },
  {
   "cell_type": "code",
   "execution_count": 6,
   "id": "ae61f075-b75d-4b8f-8900-dffc42c01af1",
   "metadata": {},
   "outputs": [],
   "source": [
    "xy = []\n",
    "for G in [G_1, G_2, G_3, G_4, G_5 ]:\n",
    "    xy= xy + [(data['x'], data['y']) for node, data in G.nodes(data=True)] "
   ]
  },
  {
   "cell_type": "code",
   "execution_count": 7,
   "id": "ca0b3e2d-482f-4ba0-8e3a-9c438895cbc8",
   "metadata": {},
   "outputs": [],
   "source": [
    "x, y = list(zip(*xy))"
   ]
  },
  {
   "cell_type": "code",
   "execution_count": null,
   "id": "3678ab26-8368-4573-a692-96e2bde06be6",
   "metadata": {},
   "outputs": [],
   "source": []
  },
  {
   "cell_type": "code",
   "execution_count": 9,
   "id": "5a92c585-4077-4b91-875f-218af192190d",
   "metadata": {},
   "outputs": [
    {
     "data": {
      "text/html": [
       "<div>\n",
       "<style scoped>\n",
       "    .dataframe tbody tr th:only-of-type {\n",
       "        vertical-align: middle;\n",
       "    }\n",
       "\n",
       "    .dataframe tbody tr th {\n",
       "        vertical-align: top;\n",
       "    }\n",
       "\n",
       "    .dataframe thead th {\n",
       "        text-align: right;\n",
       "    }\n",
       "</style>\n",
       "<table border=\"1\" class=\"dataframe\">\n",
       "  <thead>\n",
       "    <tr style=\"text-align: right;\">\n",
       "      <th></th>\n",
       "      <th>id_escuela</th>\n",
       "      <th>geometry</th>\n",
       "      <th>area</th>\n",
       "      <th>x</th>\n",
       "      <th>y</th>\n",
       "    </tr>\n",
       "  </thead>\n",
       "  <tbody>\n",
       "    <tr>\n",
       "      <th>0</th>\n",
       "      <td>0</td>\n",
       "      <td>POINT (-99.10427 19.30971)</td>\n",
       "      <td>12.546194</td>\n",
       "      <td>-99.104274</td>\n",
       "      <td>19.309708</td>\n",
       "    </tr>\n",
       "    <tr>\n",
       "      <th>1</th>\n",
       "      <td>1</td>\n",
       "      <td>POINT (-99.09848 19.39481)</td>\n",
       "      <td>12.546194</td>\n",
       "      <td>-99.098483</td>\n",
       "      <td>19.394807</td>\n",
       "    </tr>\n",
       "    <tr>\n",
       "      <th>2</th>\n",
       "      <td>2</td>\n",
       "      <td>POINT (-99.13486 19.46192)</td>\n",
       "      <td>12.546194</td>\n",
       "      <td>-99.134863</td>\n",
       "      <td>19.461921</td>\n",
       "    </tr>\n",
       "    <tr>\n",
       "      <th>3</th>\n",
       "      <td>3</td>\n",
       "      <td>POINT (-99.14904 19.44519)</td>\n",
       "      <td>12.546194</td>\n",
       "      <td>-99.149043</td>\n",
       "      <td>19.445188</td>\n",
       "    </tr>\n",
       "    <tr>\n",
       "      <th>4</th>\n",
       "      <td>4</td>\n",
       "      <td>POINT (-99.30897 19.35199)</td>\n",
       "      <td>12.546194</td>\n",
       "      <td>-99.308974</td>\n",
       "      <td>19.351992</td>\n",
       "    </tr>\n",
       "  </tbody>\n",
       "</table>\n",
       "</div>"
      ],
      "text/plain": [
       "   id_escuela                    geometry       area          x          y\n",
       "0           0  POINT (-99.10427 19.30971)  12.546194 -99.104274  19.309708\n",
       "1           1  POINT (-99.09848 19.39481)  12.546194 -99.098483  19.394807\n",
       "2           2  POINT (-99.13486 19.46192)  12.546194 -99.134863  19.461921\n",
       "3           3  POINT (-99.14904 19.44519)  12.546194 -99.149043  19.445188\n",
       "4           4  POINT (-99.30897 19.35199)  12.546194 -99.308974  19.351992"
      ]
     },
     "execution_count": 9,
     "metadata": {},
     "output_type": "execute_result"
    }
   ],
   "source": [
    "#gdf_nodos = gpd.GeoDataFrame(data={'x':x, 'y':y})\n",
    "#gdf_nodos.crs = gdf.crs\n",
    "#gdf_nodos.name = 'nodes'\n",
    "#gdf_nodos['geometry'] = gdf_nodos.apply(lambda row: Point((row['x'], row['y'])), axis=1)\n",
    "#gdf_nodos.head()\n",
    "\n",
    "gdf_nodos =  pd.read_pickle('escuelas_centroides.pkl')\n",
    "#escuelas.plot()\n",
    "gdf_nodos = gdf_nodos.to_crs(gdf.crs)\n",
    "gdf_nodos['x'] = gdf_nodos['geometry'].x\n",
    "gdf_nodos['y'] = gdf_nodos['geometry'].y\n",
    "\n",
    "gdf_nodos.head()"
   ]
  },
  {
   "cell_type": "code",
   "execution_count": 10,
   "id": "a6906d6c-86aa-4a2f-bd20-2f9bc3fed903",
   "metadata": {},
   "outputs": [
    {
     "data": {
      "text/plain": [
       "(1494, 5)"
      ]
     },
     "execution_count": 10,
     "metadata": {},
     "output_type": "execute_result"
    }
   ],
   "source": [
    "gdf_nodos.shape"
   ]
  },
  {
   "cell_type": "code",
   "execution_count": 11,
   "id": "4701b185-9485-44fb-9816-10f65ca12e0a",
   "metadata": {},
   "outputs": [
    {
     "data": {
      "text/plain": [
       "<AxesSubplot:>"
      ]
     },
     "execution_count": 11,
     "metadata": {},
     "output_type": "execute_result"
    },
    {
     "data": {
      "image/png": "[encoded data removed]",
      "text/plain": [
       "<Figure size 432x288 with 1 Axes>"
      ]
     },
     "metadata": {
      "needs_background": "light"
     },
     "output_type": "display_data"
    }
   ],
   "source": [
    "gdf_nodos.plot()"
   ]
  },
  {
   "cell_type": "markdown",
   "id": "210ffb02-b9ed-4779-90e7-d63f43a96634",
   "metadata": {},
   "source": [
    "Vamos a crear un mapa que contenga a los puntos y al polygono del municipio de cuernavaca"
   ]
  },
  {
   "cell_type": "code",
   "execution_count": 12,
   "id": "90f08f87-f7bf-42d9-992e-e19078df556d",
   "metadata": {},
   "outputs": [
    {
     "data": {
      "image/png": "[encoded data removed]",
      "text/plain": [
       "<Figure size 432x432 with 1 Axes>"
      ]
     },
     "metadata": {
      "needs_background": "light"
     },
     "output_type": "display_data"
    }
   ],
   "source": [
    "o_val, s_val, e_val, n_val = gdf.unary_union.bounds\n",
    "fig, ax = plt.subplots(figsize=(6,6))\n",
    "\n",
    "x_pol, y_pol = gdf['geometry'][0].exterior.xy\n",
    "ax.fill (x_pol, y_pol, alpha=0.5)\n",
    "ax.scatter(x=gdf_nodos['x'], y=gdf_nodos['y'], s=1, c='m', linewidth=0, zorder=1)\n",
    "\n",
    "\n",
    "\n",
    "ax.axis('off')\n",
    "plt.show()"
   ]
  },
  {
   "cell_type": "markdown",
   "id": "4c06fbde-f91f-4c22-a263-ed831c486bb4",
   "metadata": {},
   "source": [
    "¿ Como tendríamos que hacer para intersectar el poligono con los puntos ?"
   ]
  },
  {
   "cell_type": "code",
   "execution_count": 13,
   "id": "ce86be2d-df70-4514-ba45-e6775c2d46d9",
   "metadata": {},
   "outputs": [
    {
     "name": "stdout",
     "output_type": "stream",
     "text": [
      "CPU times: user 930 ms, sys: 4.18 ms, total: 934 ms\n",
      "Wall time: 932 ms\n"
     ]
    }
   ],
   "source": [
    "%%time\n",
    "res_bool = gdf_nodos['geometry'].apply(lambda l: gdf['geometry'][0].contains(l))"
   ]
  },
  {
   "cell_type": "code",
   "execution_count": 14,
   "id": "7a19e72d-bc75-43a9-bc96-961dec5f7dfe",
   "metadata": {},
   "outputs": [
    {
     "data": {
      "text/html": [
       "<div>\n",
       "<style scoped>\n",
       "    .dataframe tbody tr th:only-of-type {\n",
       "        vertical-align: middle;\n",
       "    }\n",
       "\n",
       "    .dataframe tbody tr th {\n",
       "        vertical-align: top;\n",
       "    }\n",
       "\n",
       "    .dataframe thead th {\n",
       "        text-align: right;\n",
       "    }\n",
       "</style>\n",
       "<table border=\"1\" class=\"dataframe\">\n",
       "  <thead>\n",
       "    <tr style=\"text-align: right;\">\n",
       "      <th></th>\n",
       "      <th>id_escuela</th>\n",
       "      <th>geometry</th>\n",
       "      <th>area</th>\n",
       "      <th>x</th>\n",
       "      <th>y</th>\n",
       "    </tr>\n",
       "  </thead>\n",
       "  <tbody>\n",
       "    <tr>\n",
       "      <th>0</th>\n",
       "      <td>0</td>\n",
       "      <td>POINT (-99.10427 19.30971)</td>\n",
       "      <td>12.546194</td>\n",
       "      <td>-99.104274</td>\n",
       "      <td>19.309708</td>\n",
       "    </tr>\n",
       "    <tr>\n",
       "      <th>1</th>\n",
       "      <td>1</td>\n",
       "      <td>POINT (-99.09848 19.39481)</td>\n",
       "      <td>12.546194</td>\n",
       "      <td>-99.098483</td>\n",
       "      <td>19.394807</td>\n",
       "    </tr>\n",
       "    <tr>\n",
       "      <th>2</th>\n",
       "      <td>2</td>\n",
       "      <td>POINT (-99.13486 19.46192)</td>\n",
       "      <td>12.546194</td>\n",
       "      <td>-99.134863</td>\n",
       "      <td>19.461921</td>\n",
       "    </tr>\n",
       "    <tr>\n",
       "      <th>3</th>\n",
       "      <td>3</td>\n",
       "      <td>POINT (-99.14904 19.44519)</td>\n",
       "      <td>12.546194</td>\n",
       "      <td>-99.149043</td>\n",
       "      <td>19.445188</td>\n",
       "    </tr>\n",
       "    <tr>\n",
       "      <th>4</th>\n",
       "      <td>4</td>\n",
       "      <td>POINT (-99.30897 19.35199)</td>\n",
       "      <td>12.546194</td>\n",
       "      <td>-99.308974</td>\n",
       "      <td>19.351992</td>\n",
       "    </tr>\n",
       "    <tr>\n",
       "      <th>...</th>\n",
       "      <td>...</td>\n",
       "      <td>...</td>\n",
       "      <td>...</td>\n",
       "      <td>...</td>\n",
       "      <td>...</td>\n",
       "    </tr>\n",
       "    <tr>\n",
       "      <th>1577</th>\n",
       "      <td>2377</td>\n",
       "      <td>POINT (-99.04335 19.39215)</td>\n",
       "      <td>12.546194</td>\n",
       "      <td>-99.043345</td>\n",
       "      <td>19.392145</td>\n",
       "    </tr>\n",
       "    <tr>\n",
       "      <th>1578</th>\n",
       "      <td>2379</td>\n",
       "      <td>POINT (-99.10528 19.46527)</td>\n",
       "      <td>12.546194</td>\n",
       "      <td>-99.105278</td>\n",
       "      <td>19.465275</td>\n",
       "    </tr>\n",
       "    <tr>\n",
       "      <th>1579</th>\n",
       "      <td>2380</td>\n",
       "      <td>POINT (-99.19083 19.28649)</td>\n",
       "      <td>12.546194</td>\n",
       "      <td>-99.190826</td>\n",
       "      <td>19.286488</td>\n",
       "    </tr>\n",
       "    <tr>\n",
       "      <th>1580</th>\n",
       "      <td>2381</td>\n",
       "      <td>POINT (-99.19038 19.48874)</td>\n",
       "      <td>12.546194</td>\n",
       "      <td>-99.190378</td>\n",
       "      <td>19.488739</td>\n",
       "    </tr>\n",
       "    <tr>\n",
       "      <th>1581</th>\n",
       "      <td>2382</td>\n",
       "      <td>POINT (-99.16216 19.44437)</td>\n",
       "      <td>12.546194</td>\n",
       "      <td>-99.162157</td>\n",
       "      <td>19.444375</td>\n",
       "    </tr>\n",
       "  </tbody>\n",
       "</table>\n",
       "<p>1491 rows × 5 columns</p>\n",
       "</div>"
      ],
      "text/plain": [
       "      id_escuela                    geometry       area          x          y\n",
       "0              0  POINT (-99.10427 19.30971)  12.546194 -99.104274  19.309708\n",
       "1              1  POINT (-99.09848 19.39481)  12.546194 -99.098483  19.394807\n",
       "2              2  POINT (-99.13486 19.46192)  12.546194 -99.134863  19.461921\n",
       "3              3  POINT (-99.14904 19.44519)  12.546194 -99.149043  19.445188\n",
       "4              4  POINT (-99.30897 19.35199)  12.546194 -99.308974  19.351992\n",
       "...          ...                         ...        ...        ...        ...\n",
       "1577        2377  POINT (-99.04335 19.39215)  12.546194 -99.043345  19.392145\n",
       "1578        2379  POINT (-99.10528 19.46527)  12.546194 -99.105278  19.465275\n",
       "1579        2380  POINT (-99.19083 19.28649)  12.546194 -99.190826  19.286488\n",
       "1580        2381  POINT (-99.19038 19.48874)  12.546194 -99.190378  19.488739\n",
       "1581        2382  POINT (-99.16216 19.44437)  12.546194 -99.162157  19.444375\n",
       "\n",
       "[1491 rows x 5 columns]"
      ]
     },
     "execution_count": 14,
     "metadata": {},
     "output_type": "execute_result"
    }
   ],
   "source": [
    "gdf_nodos[res_bool]"
   ]
  },
  {
   "cell_type": "markdown",
   "id": "99e83806-5b08-48b6-8e21-3cff013ab6c0",
   "metadata": {},
   "source": [
    "Vamos hacerlo con un índice espacial en geopandas "
   ]
  },
  {
   "cell_type": "code",
   "execution_count": 15,
   "id": "861846ef-8f91-4982-8c34-8147ffff4a87",
   "metadata": {},
   "outputs": [],
   "source": [
    "sindex = gdf_nodos.sindex\n"
   ]
  },
  {
   "cell_type": "markdown",
   "id": "68ef8120-9b09-4640-b0de-a66362fbdc09",
   "metadata": {},
   "source": [
    "Veamos que es este indice espacial"
   ]
  },
  {
   "cell_type": "code",
   "execution_count": 16,
   "id": "2f49ca36-2b6d-4ef6-9d3b-e171768e94cd",
   "metadata": {},
   "outputs": [
    {
     "data": {
      "text/plain": [
       "<geopandas.sindex.PyGEOSSTRTreeIndex at 0x7fee9421e130>"
      ]
     },
     "execution_count": 16,
     "metadata": {},
     "output_type": "execute_result"
    }
   ],
   "source": [
    "sindex"
   ]
  },
  {
   "cell_type": "markdown",
   "id": "e472fbbc-f827-404c-b38d-ced3191fec54",
   "metadata": {},
   "source": [
    "Tomemos ahora la interseccion entre el índice y el bounding box del poligono "
   ]
  },
  {
   "cell_type": "code",
   "execution_count": 17,
   "id": "f32eb5b8-037b-42e3-bf04-b877030fdc70",
   "metadata": {},
   "outputs": [
    {
     "data": {
      "text/plain": [
       "array([1135,  270,  552, ..., 1391, 1038,   63])"
      ]
     },
     "execution_count": 17,
     "metadata": {},
     "output_type": "execute_result"
    }
   ],
   "source": [
    "index_intersec_bounds = sindex.intersection(gdf['geometry'][0].bounds)\n",
    "index_intersec_bounds"
   ]
  },
  {
   "cell_type": "code",
   "execution_count": 19,
   "id": "40e2b105-953d-40d2-9597-1456b68bd7bc",
   "metadata": {},
   "outputs": [],
   "source": [
    "possible_matches_index = list(index_intersec_bounds)\n",
    "#possible_matches_index"
   ]
  },
  {
   "cell_type": "markdown",
   "id": "c5a86573-5780-4bdf-be6a-2e87e34df4fd",
   "metadata": {},
   "source": [
    "Obtenemos los puntos que se intersectan y vemos aquellos que se intersecten con la geometria del poligono"
   ]
  },
  {
   "cell_type": "code",
   "execution_count": 20,
   "id": "cdc5f18c-cdba-4e77-8331-669d06717d0e",
   "metadata": {},
   "outputs": [],
   "source": [
    "possible_matches = gdf_nodos.iloc[possible_matches_index]\n",
    "precise_matches = possible_matches[possible_matches.intersects(gdf['geometry'][0])]####Comparacion con el poligono"
   ]
  },
  {
   "cell_type": "code",
   "execution_count": 21,
   "id": "c487973f-3553-438b-9648-bcf358796f0c",
   "metadata": {},
   "outputs": [],
   "source": [
    "points_within_geometry = precise_matches\n",
    "points_outside_geometry = gdf_nodos[~gdf_nodos.isin(points_within_geometry)]"
   ]
  },
  {
   "cell_type": "code",
   "execution_count": 22,
   "id": "49051545-e483-4ea7-9d4a-8ef777848142",
   "metadata": {},
   "outputs": [
    {
     "data": {
      "image/png": "[encoded data removed]",
      "text/plain": [
       "<Figure size 432x432 with 1 Axes>"
      ]
     },
     "metadata": {
      "needs_background": "light"
     },
     "output_type": "display_data"
    }
   ],
   "source": [
    "fig, ax = plt.subplots(figsize=(6,6))\n",
    "\n",
    "patch = PolygonPatch(gdf['geometry'][0], fc='#cccccc', ec='k', alpha=0.5, zorder=3)\n",
    "ax.add_patch(patch)\n",
    "\n",
    "ax.scatter(x=points_outside_geometry['x'], y=points_outside_geometry['y'], s=1, c='r', linewidth=0, zorder=1)\n",
    "ax.scatter(x=points_within_geometry['x'], y=points_within_geometry['y'], s=1, c='b', linewidth=0, zorder=2)\n",
    "    \n",
    "\n",
    "ax.axis('off')\n",
    "plt.show()"
   ]
  },
  {
   "cell_type": "code",
   "execution_count": 23,
   "id": "ba189eba-a9a6-4768-9658-f76d3a1ae35d",
   "metadata": {},
   "outputs": [
    {
     "data": {
      "text/plain": [
       "(1491, 5)"
      ]
     },
     "execution_count": 23,
     "metadata": {},
     "output_type": "execute_result"
    }
   ],
   "source": [
    "points_within_geometry.shape"
   ]
  },
  {
   "cell_type": "code",
   "execution_count": 24,
   "id": "563e1667-213f-495f-92ba-b58115fa7208",
   "metadata": {},
   "outputs": [
    {
     "data": {
      "text/plain": [
       "(1494, 5)"
      ]
     },
     "execution_count": 24,
     "metadata": {},
     "output_type": "execute_result"
    }
   ],
   "source": [
    "points_outside_geometry.shape"
   ]
  },
  {
   "cell_type": "markdown",
   "id": "b40b1c73-5b9e-499a-900d-4f1440c88f30",
   "metadata": {},
   "source": [
    "Podemos incluso dividir nuestro poligono para obtener las intersecciones internas y poder hacer una comparación con los nodos de la red "
   ]
  },
  {
   "cell_type": "code",
   "execution_count": 25,
   "id": "000c4fb1-993c-4897-b28c-b4c182e24b33",
   "metadata": {},
   "outputs": [],
   "source": [
    "geometry_cut = ox.utils_geo._quadrat_cut_geometry(gdf['geometry'][0], quadrat_width=0.01)"
   ]
  },
  {
   "cell_type": "code",
   "execution_count": 26,
   "id": "40b7aabe-34a1-4be5-991f-328f3e9c0e57",
   "metadata": {},
   "outputs": [
    {
     "data": {
      "text/plain": [
       "shapely.geometry.multipolygon.MultiPolygon"
      ]
     },
     "execution_count": 26,
     "metadata": {},
     "output_type": "execute_result"
    }
   ],
   "source": [
    "type(geometry_cut)"
   ]
  },
  {
   "cell_type": "code",
   "execution_count": 27,
   "id": "12731f72-beea-4f58-aaca-5d3b1d4047c3",
   "metadata": {},
   "outputs": [
    {
     "data": {
      "image/svg+xml": [
       "<svg xmlns=\"http://www.w3.org/2000/svg\" xmlns:xlink=\"http://www.w3.org/1999/xlink\" width=\"100.0\" height=\"100.0\" viewBox=\"-99.36531986436364 19.27583004472727 0.010666245006348163 0.010682937818184968\" preserveAspectRatio=\"xMinYMin meet\"><g transform=\"matrix(1,0,0,-1,0,38.56234302727273)\"><path fill-rule=\"evenodd\" fill=\"#66cc99\" stroke=\"#555555\" stroke-width=\"0.00021365875636369935\" opacity=\"0.6\" d=\"M -99.3649242,19.2777693 L -99.3648513,19.2778604 L -99.35823938234327,19.28611731818182 L -99.35504928372093,19.28611731818182 L -99.35504928372093,19.27622570909091 L -99.36263835458895,19.27622570909091 L -99.3649242,19.2777693 z\" /></g></svg>"
      ],
      "text/plain": [
       "<shapely.geometry.polygon.Polygon at 0x7fee8cecc0d0>"
      ]
     },
     "execution_count": 27,
     "metadata": {},
     "output_type": "execute_result"
    }
   ],
   "source": [
    "geometry_cut[0]"
   ]
  },
  {
   "cell_type": "code",
   "execution_count": 28,
   "id": "3d89f842-2df0-4063-ac48-fd843f727f82",
   "metadata": {},
   "outputs": [
    {
     "data": {
      "image/png": "[encoded data removed]",
      "text/plain": [
       "<Figure size 432x432 with 1 Axes>"
      ]
     },
     "metadata": {
      "needs_background": "light"
     },
     "output_type": "display_data"
    }
   ],
   "source": [
    "fig, ax = plt.subplots(figsize=(6,6))\n",
    "for polygon in geometry_cut:\n",
    "    patch = PolygonPatch(polygon, fc='#cccccc', ec='k', alpha=0.5, zorder=2)\n",
    "    ax.add_patch(patch)\n",
    "    \n",
    "ax.set_xlim(o_val, e_val)\n",
    "ax.set_ylim(s_val, n_val)\n",
    "ax.axis('off')\n",
    "\n",
    "plt.show()"
   ]
  },
  {
   "cell_type": "code",
   "execution_count": 29,
   "id": "a235851d-d69d-45d8-9168-6e2502fd05cd",
   "metadata": {},
   "outputs": [],
   "source": [
    "points_within_geometry_df = pd.DataFrame()\n",
    "count_dics =[]\n",
    "for poly in geometry_cut:   \n",
    "    poly = poly.buffer(1e-14).buffer(0)\n",
    "    possible_matches_index = list(sindex.intersection(poly.bounds))\n",
    "    possible_matches = gdf_nodos.iloc[possible_matches_index]\n",
    "    precise_matches = possible_matches[possible_matches.intersects(poly)]\n",
    "    count_dics.append({'geometry': poly ,'Puntos_dentro':precise_matches.shape[0] })\n",
    "    points_within_geometry_df = points_within_geometry_df.append(precise_matches)"
   ]
  },
  {
   "cell_type": "code",
   "execution_count": 30,
   "id": "574cb6bd-9e50-4987-885f-d399cff92433",
   "metadata": {},
   "outputs": [
    {
     "data": {
      "text/html": [
       "<div>\n",
       "<style scoped>\n",
       "    .dataframe tbody tr th:only-of-type {\n",
       "        vertical-align: middle;\n",
       "    }\n",
       "\n",
       "    .dataframe tbody tr th {\n",
       "        vertical-align: top;\n",
       "    }\n",
       "\n",
       "    .dataframe thead th {\n",
       "        text-align: right;\n",
       "    }\n",
       "</style>\n",
       "<table border=\"1\" class=\"dataframe\">\n",
       "  <thead>\n",
       "    <tr style=\"text-align: right;\">\n",
       "      <th></th>\n",
       "      <th>id_escuela</th>\n",
       "      <th>geometry</th>\n",
       "      <th>area</th>\n",
       "      <th>x</th>\n",
       "      <th>y</th>\n",
       "    </tr>\n",
       "  </thead>\n",
       "  <tbody>\n",
       "    <tr>\n",
       "      <th>198</th>\n",
       "      <td>289</td>\n",
       "      <td>POINT (-99.32569 19.33146)</td>\n",
       "      <td>12.546194</td>\n",
       "      <td>-99.325695</td>\n",
       "      <td>19.331462</td>\n",
       "    </tr>\n",
       "    <tr>\n",
       "      <th>434</th>\n",
       "      <td>636</td>\n",
       "      <td>POINT (-99.33224 19.30989)</td>\n",
       "      <td>12.546194</td>\n",
       "      <td>-99.332237</td>\n",
       "      <td>19.309885</td>\n",
       "    </tr>\n",
       "    <tr>\n",
       "      <th>1243</th>\n",
       "      <td>1847</td>\n",
       "      <td>POINT (-99.31719 19.34899)</td>\n",
       "      <td>12.546194</td>\n",
       "      <td>-99.317194</td>\n",
       "      <td>19.348992</td>\n",
       "    </tr>\n",
       "    <tr>\n",
       "      <th>125</th>\n",
       "      <td>181</td>\n",
       "      <td>POINT (-99.31642 19.35369)</td>\n",
       "      <td>12.546194</td>\n",
       "      <td>-99.316415</td>\n",
       "      <td>19.353688</td>\n",
       "    </tr>\n",
       "    <tr>\n",
       "      <th>1426</th>\n",
       "      <td>2123</td>\n",
       "      <td>POINT (-99.31236 19.35159)</td>\n",
       "      <td>12.546194</td>\n",
       "      <td>-99.312360</td>\n",
       "      <td>19.351593</td>\n",
       "    </tr>\n",
       "    <tr>\n",
       "      <th>...</th>\n",
       "      <td>...</td>\n",
       "      <td>...</td>\n",
       "      <td>...</td>\n",
       "      <td>...</td>\n",
       "      <td>...</td>\n",
       "    </tr>\n",
       "    <tr>\n",
       "      <th>1403</th>\n",
       "      <td>2093</td>\n",
       "      <td>POINT (-99.20863 19.49214)</td>\n",
       "      <td>12.546194</td>\n",
       "      <td>-99.208627</td>\n",
       "      <td>19.492138</td>\n",
       "    </tr>\n",
       "    <tr>\n",
       "      <th>1536</th>\n",
       "      <td>2305</td>\n",
       "      <td>POINT (-99.20717 19.50211)</td>\n",
       "      <td>12.546194</td>\n",
       "      <td>-99.207172</td>\n",
       "      <td>19.502112</td>\n",
       "    </tr>\n",
       "    <tr>\n",
       "      <th>433</th>\n",
       "      <td>635</td>\n",
       "      <td>POINT (-99.20801 19.50276)</td>\n",
       "      <td>12.546194</td>\n",
       "      <td>-99.208011</td>\n",
       "      <td>19.502764</td>\n",
       "    </tr>\n",
       "    <tr>\n",
       "      <th>298</th>\n",
       "      <td>434</td>\n",
       "      <td>POINT (-99.20749 19.50871)</td>\n",
       "      <td>12.546194</td>\n",
       "      <td>-99.207488</td>\n",
       "      <td>19.508706</td>\n",
       "    </tr>\n",
       "    <tr>\n",
       "      <th>1278</th>\n",
       "      <td>1903</td>\n",
       "      <td>POINT (-99.20828 19.51205)</td>\n",
       "      <td>12.546194</td>\n",
       "      <td>-99.208278</td>\n",
       "      <td>19.512049</td>\n",
       "    </tr>\n",
       "  </tbody>\n",
       "</table>\n",
       "<p>1491 rows × 5 columns</p>\n",
       "</div>"
      ],
      "text/plain": [
       "      id_escuela                    geometry       area          x          y\n",
       "198          289  POINT (-99.32569 19.33146)  12.546194 -99.325695  19.331462\n",
       "434          636  POINT (-99.33224 19.30989)  12.546194 -99.332237  19.309885\n",
       "1243        1847  POINT (-99.31719 19.34899)  12.546194 -99.317194  19.348992\n",
       "125          181  POINT (-99.31642 19.35369)  12.546194 -99.316415  19.353688\n",
       "1426        2123  POINT (-99.31236 19.35159)  12.546194 -99.312360  19.351593\n",
       "...          ...                         ...        ...        ...        ...\n",
       "1403        2093  POINT (-99.20863 19.49214)  12.546194 -99.208627  19.492138\n",
       "1536        2305  POINT (-99.20717 19.50211)  12.546194 -99.207172  19.502112\n",
       "433          635  POINT (-99.20801 19.50276)  12.546194 -99.208011  19.502764\n",
       "298          434  POINT (-99.20749 19.50871)  12.546194 -99.207488  19.508706\n",
       "1278        1903  POINT (-99.20828 19.51205)  12.546194 -99.208278  19.512049\n",
       "\n",
       "[1491 rows x 5 columns]"
      ]
     },
     "execution_count": 30,
     "metadata": {},
     "output_type": "execute_result"
    }
   ],
   "source": [
    "points_within_geometry_df"
   ]
  },
  {
   "cell_type": "code",
   "execution_count": 31,
   "id": "59a57c55-7907-4078-8fb9-589aef6b5b08",
   "metadata": {},
   "outputs": [],
   "source": [
    "df_polygons= gpd.GeoDataFrame(count_dics)"
   ]
  },
  {
   "cell_type": "code",
   "execution_count": 32,
   "id": "8d25a3e6-3688-4d2a-af67-f9ed2c5c91bf",
   "metadata": {},
   "outputs": [
    {
     "data": {
      "text/plain": [
       "<AxesSubplot:>"
      ]
     },
     "execution_count": 32,
     "metadata": {},
     "output_type": "execute_result"
    },
    {
     "data": {
      "image/png": "[encoded data removed]",
      "text/plain": [
       "<Figure size 432x288 with 1 Axes>"
      ]
     },
     "metadata": {
      "needs_background": "light"
     },
     "output_type": "display_data"
    }
   ],
   "source": [
    "df_polygons[df_polygons['Puntos_dentro']!=0].plot()"
   ]
  },
  {
   "cell_type": "code",
   "execution_count": 33,
   "id": "30f6740c-5b29-455b-a166-6fa471086ae6",
   "metadata": {},
   "outputs": [],
   "source": [
    "points_within_geometry_df = points_within_geometry_df.drop_duplicates(subset=['x', 'y'])\n",
    "points_outside_geometry_df = gdf_nodos[~gdf_nodos.isin(points_within_geometry_df)]"
   ]
  },
  {
   "cell_type": "code",
   "execution_count": 38,
   "id": "f34e0950-ec0b-4cab-9da9-f634a07a93bf",
   "metadata": {},
   "outputs": [
    {
     "data": {
      "image/png": "[encoded data removed]",
      "text/plain": [
       "<Figure size 432x432 with 1 Axes>"
      ]
     },
     "metadata": {
      "needs_background": "light"
     },
     "output_type": "display_data"
    }
   ],
   "source": [
    "\n",
    "fig, ax = plt.subplots(figsize=(6,6))\n",
    "\n",
    "for polygon in geometry_cut:\n",
    "    patch = PolygonPatch(polygon, fc='#cccccc', ec='k', alpha=0.5, zorder=2)\n",
    "    ax.add_patch(patch)\n",
    "\n",
    "ax.scatter(x=points_outside_geometry_df['x'], y=points_outside_geometry_df['y'], s=1, c='r', linewidth=0, zorder=1)\n",
    "ax.scatter(x=points_within_geometry_df['x'], y=points_within_geometry_df['y'], s=1, c='b', linewidth=0, zorder=2)\n",
    "    \n",
    "\n",
    "ax.axis('off')\n",
    "plt.show()"
   ]
  },
  {
   "cell_type": "markdown",
   "id": "84d5669d-f3b5-4d5d-9301-84e72e68a90c",
   "metadata": {},
   "source": [
    "¿ Cuando nos sirve tener la segunda versión?"
   ]
  },
  {
   "cell_type": "code",
   "execution_count": null,
   "id": "37f81e19-04f2-4876-b145-e87de08a9823",
   "metadata": {},
   "outputs": [],
   "source": []
  }
 ],
 "metadata": {
  "kernelspec": {
   "display_name": "Python 3 (ipykernel)",
   "language": "python",
   "name": "python3"
  },
  "language_info": {
   "codemirror_mode": {
    "name": "ipython",
    "version": 3
   },
   "file_extension": ".py",
   "mimetype": "text/x-python",
   "name": "python",
   "nbconvert_exporter": "python",
   "pygments_lexer": "ipython3",
   "version": "3.9.7"
  }
 },
 "nbformat": 4,
 "nbformat_minor": 5
}
