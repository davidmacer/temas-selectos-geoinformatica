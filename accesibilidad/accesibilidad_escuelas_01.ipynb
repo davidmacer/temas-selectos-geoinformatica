{
 "cells": [
  {
   "cell_type": "markdown",
   "id": "930fc5a4",
   "metadata": {
    "id": "c23e29fd"
   },
   "source": [
    "# Accesibilidad a Escuelas primarias en la Zona Metropolitana del Valle de México"
   ]
  },
  {
   "cell_type": "markdown",
   "id": "d4fe2316-0903-446a-a0f1-4ff3e4f3beda",
   "metadata": {},
   "source": [
    "Planteamiento del problema"
   ]
  },
  {
   "cell_type": "markdown",
   "id": "17e39a3b",
   "metadata": {
    "id": "83813ca0"
   },
   "source": [
    "## Preparación de datos\n",
    "\n",
    "Como siempre, lo primero que tenemos que hacer es preparar los datos. En este caso vamos a usar el marco cartográfico del Censo de 2020 a nivel AGEB y una cartografía de áreas verdes que preparé para un proyecto integrando datos de INEGI y de OSM.\n",
    "\n",
    "La cartografía de áreas verdes viene en un geopackage para todo el país y la cartografía censal viene en shapes para la CDMX y el Estado de México. Para cortar todo con la silueta de la ZMVM tenemos un shaper con el límite metropolitano.\n",
    "\n",
    "Los datos para obtener la demanda (población, en principio) vienen en csvs que tenemos que unir con la geometría de las manzanas. Eso lo haremos después de tener los recortes para economizar un poco."
   ]
  },
  {
   "cell_type": "code",
   "execution_count": 1,
   "id": "bc6e985e",
   "metadata": {
    "colab": {
     "base_uri": "https://localhost:8080/"
    },
    "executionInfo": {
     "elapsed": 10857,
     "status": "ok",
     "timestamp": 1633749180135,
     "user": {
      "displayName": "Dalia Lagunes Rodríguez",
      "photoUrl": "https://lh3.googleusercontent.com/a/default-user=s64",
      "userId": "05954352363843702475"
     },
     "user_tz": 300
    },
    "id": "Knx-ejOzCVat",
    "outputId": "de3919c6-7764-4c18-f63b-043b2f317eb3"
   },
   "outputs": [],
   "source": [
    "#!pip install geopandas access contextily"
   ]
  },
  {
   "cell_type": "code",
   "execution_count": 2,
   "id": "6dc96d34",
   "metadata": {
    "executionInfo": {
     "elapsed": 449,
     "status": "ok",
     "timestamp": 1633749198231,
     "user": {
      "displayName": "Dalia Lagunes Rodríguez",
      "photoUrl": "https://lh3.googleusercontent.com/a/default-user=s64",
      "userId": "05954352363843702475"
     },
     "user_tz": 300
    },
    "id": "635770cf"
   },
   "outputs": [
    {
     "name": "stderr",
     "output_type": "stream",
     "text": [
      "/home/david/.local/lib/python3.8/site-packages/geopandas/_compat.py:106: UserWarning: The Shapely GEOS version (3.8.0-CAPI-1.13.1 ) is incompatible with the GEOS version PyGEOS was compiled with (3.9.1-CAPI-1.14.2). Conversions between both will be slow.\n",
      "  warnings.warn(\n"
     ]
    }
   ],
   "source": [
    "import pandas as pd\n",
    "import geopandas as gpd\n",
    "from access import Access, weights\n",
    "import matplotlib.pyplot as plt\n",
    "import contextily as ctx\n",
    "import math\n",
    "import numpy as np"
   ]
  },
  {
   "cell_type": "markdown",
   "id": "25587e98",
   "metadata": {
    "id": "2130eb9b"
   },
   "source": [
    "### Leer datos"
   ]
  },
  {
   "cell_type": "code",
   "execution_count": 3,
   "id": "c81f399f",
   "metadata": {},
   "outputs": [
    {
     "ename": "FileNotFoundError",
     "evalue": "[Errno 2] No such file or directory: '../data/escuelas/concentrado_escuelas_cdmx.xlsx'",
     "output_type": "error",
     "traceback": [
      "\u001b[0;31m---------------------------------------------------------------------------\u001b[0m",
      "\u001b[0;31mFileNotFoundError\u001b[0m                         Traceback (most recent call last)",
      "\u001b[0;32m<ipython-input-3-ea2309ff71bc>\u001b[0m in \u001b[0;36m<module>\u001b[0;34m\u001b[0m\n\u001b[0;32m----> 1\u001b[0;31m \u001b[0mescuelas_cdmx\u001b[0m \u001b[0;34m=\u001b[0m \u001b[0mpd\u001b[0m\u001b[0;34m.\u001b[0m\u001b[0mread_excel\u001b[0m\u001b[0;34m(\u001b[0m\u001b[0;34mr\"../data/escuelas/concentrado_escuelas_cdmx.xlsx\"\u001b[0m\u001b[0;34m)\u001b[0m\u001b[0;34m\u001b[0m\u001b[0;34m\u001b[0m\u001b[0m\n\u001b[0m\u001b[1;32m      2\u001b[0m \u001b[0mescuelas_cdmx\u001b[0m\u001b[0;34m.\u001b[0m\u001b[0mhead\u001b[0m\u001b[0;34m(\u001b[0m\u001b[0;34m)\u001b[0m\u001b[0;34m\u001b[0m\u001b[0;34m\u001b[0m\u001b[0m\n\u001b[1;32m      3\u001b[0m \u001b[0mprint\u001b[0m\u001b[0;34m(\u001b[0m\u001b[0mescuelas_cdmx\u001b[0m\u001b[0;34m.\u001b[0m\u001b[0mshape\u001b[0m\u001b[0;34m)\u001b[0m\u001b[0;34m\u001b[0m\u001b[0;34m\u001b[0m\u001b[0m\n",
      "\u001b[0;32m~/.local/lib/python3.8/site-packages/pandas/util/_decorators.py\u001b[0m in \u001b[0;36mwrapper\u001b[0;34m(*args, **kwargs)\u001b[0m\n\u001b[1;32m    297\u001b[0m                 )\n\u001b[1;32m    298\u001b[0m                 \u001b[0mwarnings\u001b[0m\u001b[0;34m.\u001b[0m\u001b[0mwarn\u001b[0m\u001b[0;34m(\u001b[0m\u001b[0mmsg\u001b[0m\u001b[0;34m,\u001b[0m \u001b[0mFutureWarning\u001b[0m\u001b[0;34m,\u001b[0m \u001b[0mstacklevel\u001b[0m\u001b[0;34m=\u001b[0m\u001b[0mstacklevel\u001b[0m\u001b[0;34m)\u001b[0m\u001b[0;34m\u001b[0m\u001b[0;34m\u001b[0m\u001b[0m\n\u001b[0;32m--> 299\u001b[0;31m             \u001b[0;32mreturn\u001b[0m \u001b[0mfunc\u001b[0m\u001b[0;34m(\u001b[0m\u001b[0;34m*\u001b[0m\u001b[0margs\u001b[0m\u001b[0;34m,\u001b[0m \u001b[0;34m**\u001b[0m\u001b[0mkwargs\u001b[0m\u001b[0;34m)\u001b[0m\u001b[0;34m\u001b[0m\u001b[0;34m\u001b[0m\u001b[0m\n\u001b[0m\u001b[1;32m    300\u001b[0m \u001b[0;34m\u001b[0m\u001b[0m\n\u001b[1;32m    301\u001b[0m         \u001b[0;32mreturn\u001b[0m \u001b[0mwrapper\u001b[0m\u001b[0;34m\u001b[0m\u001b[0;34m\u001b[0m\u001b[0m\n",
      "\u001b[0;32m~/.local/lib/python3.8/site-packages/pandas/io/excel/_base.py\u001b[0m in \u001b[0;36mread_excel\u001b[0;34m(io, sheet_name, header, names, index_col, usecols, squeeze, dtype, engine, converters, true_values, false_values, skiprows, nrows, na_values, keep_default_na, na_filter, verbose, parse_dates, date_parser, thousands, comment, skipfooter, convert_float, mangle_dupe_cols, storage_options)\u001b[0m\n\u001b[1;32m    334\u001b[0m     \u001b[0;32mif\u001b[0m \u001b[0;32mnot\u001b[0m \u001b[0misinstance\u001b[0m\u001b[0;34m(\u001b[0m\u001b[0mio\u001b[0m\u001b[0;34m,\u001b[0m \u001b[0mExcelFile\u001b[0m\u001b[0;34m)\u001b[0m\u001b[0;34m:\u001b[0m\u001b[0;34m\u001b[0m\u001b[0;34m\u001b[0m\u001b[0m\n\u001b[1;32m    335\u001b[0m         \u001b[0mshould_close\u001b[0m \u001b[0;34m=\u001b[0m \u001b[0;32mTrue\u001b[0m\u001b[0;34m\u001b[0m\u001b[0;34m\u001b[0m\u001b[0m\n\u001b[0;32m--> 336\u001b[0;31m         \u001b[0mio\u001b[0m \u001b[0;34m=\u001b[0m \u001b[0mExcelFile\u001b[0m\u001b[0;34m(\u001b[0m\u001b[0mio\u001b[0m\u001b[0;34m,\u001b[0m \u001b[0mstorage_options\u001b[0m\u001b[0;34m=\u001b[0m\u001b[0mstorage_options\u001b[0m\u001b[0;34m,\u001b[0m \u001b[0mengine\u001b[0m\u001b[0;34m=\u001b[0m\u001b[0mengine\u001b[0m\u001b[0;34m)\u001b[0m\u001b[0;34m\u001b[0m\u001b[0;34m\u001b[0m\u001b[0m\n\u001b[0m\u001b[1;32m    337\u001b[0m     \u001b[0;32melif\u001b[0m \u001b[0mengine\u001b[0m \u001b[0;32mand\u001b[0m \u001b[0mengine\u001b[0m \u001b[0;34m!=\u001b[0m \u001b[0mio\u001b[0m\u001b[0;34m.\u001b[0m\u001b[0mengine\u001b[0m\u001b[0;34m:\u001b[0m\u001b[0;34m\u001b[0m\u001b[0;34m\u001b[0m\u001b[0m\n\u001b[1;32m    338\u001b[0m         raise ValueError(\n",
      "\u001b[0;32m~/.local/lib/python3.8/site-packages/pandas/io/excel/_base.py\u001b[0m in \u001b[0;36m__init__\u001b[0;34m(self, path_or_buffer, engine, storage_options)\u001b[0m\n\u001b[1;32m   1069\u001b[0m                 \u001b[0mext\u001b[0m \u001b[0;34m=\u001b[0m \u001b[0;34m\"xls\"\u001b[0m\u001b[0;34m\u001b[0m\u001b[0;34m\u001b[0m\u001b[0m\n\u001b[1;32m   1070\u001b[0m             \u001b[0;32melse\u001b[0m\u001b[0;34m:\u001b[0m\u001b[0;34m\u001b[0m\u001b[0;34m\u001b[0m\u001b[0m\n\u001b[0;32m-> 1071\u001b[0;31m                 ext = inspect_excel_format(\n\u001b[0m\u001b[1;32m   1072\u001b[0m                     \u001b[0mcontent\u001b[0m\u001b[0;34m=\u001b[0m\u001b[0mpath_or_buffer\u001b[0m\u001b[0;34m,\u001b[0m \u001b[0mstorage_options\u001b[0m\u001b[0;34m=\u001b[0m\u001b[0mstorage_options\u001b[0m\u001b[0;34m\u001b[0m\u001b[0;34m\u001b[0m\u001b[0m\n\u001b[1;32m   1073\u001b[0m                 )\n",
      "\u001b[0;32m~/.local/lib/python3.8/site-packages/pandas/io/excel/_base.py\u001b[0m in \u001b[0;36minspect_excel_format\u001b[0;34m(path, content, storage_options)\u001b[0m\n\u001b[1;32m    947\u001b[0m     \u001b[0;32massert\u001b[0m \u001b[0mcontent_or_path\u001b[0m \u001b[0;32mis\u001b[0m \u001b[0;32mnot\u001b[0m \u001b[0;32mNone\u001b[0m\u001b[0;34m\u001b[0m\u001b[0;34m\u001b[0m\u001b[0m\n\u001b[1;32m    948\u001b[0m \u001b[0;34m\u001b[0m\u001b[0m\n\u001b[0;32m--> 949\u001b[0;31m     with get_handle(\n\u001b[0m\u001b[1;32m    950\u001b[0m         \u001b[0mcontent_or_path\u001b[0m\u001b[0;34m,\u001b[0m \u001b[0;34m\"rb\"\u001b[0m\u001b[0;34m,\u001b[0m \u001b[0mstorage_options\u001b[0m\u001b[0;34m=\u001b[0m\u001b[0mstorage_options\u001b[0m\u001b[0;34m,\u001b[0m \u001b[0mis_text\u001b[0m\u001b[0;34m=\u001b[0m\u001b[0;32mFalse\u001b[0m\u001b[0;34m\u001b[0m\u001b[0;34m\u001b[0m\u001b[0m\n\u001b[1;32m    951\u001b[0m     ) as handle:\n",
      "\u001b[0;32m~/.local/lib/python3.8/site-packages/pandas/io/common.py\u001b[0m in \u001b[0;36mget_handle\u001b[0;34m(path_or_buf, mode, encoding, compression, memory_map, is_text, errors, storage_options)\u001b[0m\n\u001b[1;32m    649\u001b[0m         \u001b[0;32melse\u001b[0m\u001b[0;34m:\u001b[0m\u001b[0;34m\u001b[0m\u001b[0;34m\u001b[0m\u001b[0m\n\u001b[1;32m    650\u001b[0m             \u001b[0;31m# Binary mode\u001b[0m\u001b[0;34m\u001b[0m\u001b[0;34m\u001b[0m\u001b[0;34m\u001b[0m\u001b[0m\n\u001b[0;32m--> 651\u001b[0;31m             \u001b[0mhandle\u001b[0m \u001b[0;34m=\u001b[0m \u001b[0mopen\u001b[0m\u001b[0;34m(\u001b[0m\u001b[0mhandle\u001b[0m\u001b[0;34m,\u001b[0m \u001b[0mioargs\u001b[0m\u001b[0;34m.\u001b[0m\u001b[0mmode\u001b[0m\u001b[0;34m)\u001b[0m\u001b[0;34m\u001b[0m\u001b[0;34m\u001b[0m\u001b[0m\n\u001b[0m\u001b[1;32m    652\u001b[0m         \u001b[0mhandles\u001b[0m\u001b[0;34m.\u001b[0m\u001b[0mappend\u001b[0m\u001b[0;34m(\u001b[0m\u001b[0mhandle\u001b[0m\u001b[0;34m)\u001b[0m\u001b[0;34m\u001b[0m\u001b[0;34m\u001b[0m\u001b[0m\n\u001b[1;32m    653\u001b[0m \u001b[0;34m\u001b[0m\u001b[0m\n",
      "\u001b[0;31mFileNotFoundError\u001b[0m: [Errno 2] No such file or directory: '../data/escuelas/concentrado_escuelas_cdmx.xlsx'"
     ]
    }
   ],
   "source": [
    "escuelas_cdmx = pd.read_excel(r\"../data/escuelas/concentrado_escuelas_cdmx.xlsx\")\n",
    "escuelas_cdmx.head()\n",
    "print(escuelas_cdmx.shape)"
   ]
  },
  {
   "cell_type": "code",
<<<<<<< Updated upstream
   "execution_count": 4,
   "id": "60fc98bd",
=======
   "execution_count": null,
>>>>>>> Stashed changes
   "metadata": {},
   "outputs": [],
   "source": [
    "escuelas_edomex = pd.read_excel('../data/escuelas/concentrado_escuelas_edomex.xlsx')\n",
    "escuelas_edomex.head()\n",
    "print(escuelas_edomex.shape)"
   ]
  },
  {
   "cell_type": "code",
<<<<<<< Updated upstream
   "execution_count": 5,
   "id": "98af687d",
=======
   "execution_count": null,
>>>>>>> Stashed changes
   "metadata": {},
   "outputs": [],
   "source": [
    "escuelas_edomex.describe()"
   ]
  },
  {
   "cell_type": "code",
<<<<<<< Updated upstream
   "execution_count": 6,
   "id": "0176d02c",
=======
   "execution_count": null,
>>>>>>> Stashed changes
   "metadata": {},
   "outputs": [],
   "source": [
    "# Concateno los df de las escuelas de la cdmx y el edomex\n",
    "#frames = [escuelas_cdmx, escuelas_edomex]\n",
    "escuelas_zm = pd.concat([escuelas_cdmx, escuelas_edomex])\n",
    "print(escuelas_zm.head())\n",
    "print(escuelas_zm.shape)"
   ]
  },
  {
   "cell_type": "code",
<<<<<<< Updated upstream
   "execution_count": 7,
   "id": "e4499744",
=======
   "execution_count": null,
>>>>>>> Stashed changes
   "metadata": {},
   "outputs": [],
   "source": [
    "escuelas_zm_gdf = gpd.GeoDataFrame(\n",
    "    escuelas_zm, geometry=gpd.points_from_xy(\n",
    "        escuelas_zm['Ubicación de la escuela-localidad al Oeste del Meridiano de Greenwich, expresada en grados'], \n",
    "                      escuelas_zm['Ubicación de la escuela-localidad al norte del Ecuador, expresada en grados']))"
   ]
  },
  {
   "cell_type": "code",
<<<<<<< Updated upstream
   "execution_count": 8,
   "id": "e6efac25",
=======
   "execution_count": null,
>>>>>>> Stashed changes
   "metadata": {},
   "outputs": [],
   "source": [
    "escuelas_zm_gdf.plot()\n",
    "print(escuelas_zm_gdf.shape)"
   ]
  },
  {
   "cell_type": "code",
<<<<<<< Updated upstream
   "execution_count": 18,
   "id": "5cf379fb",
=======
   "execution_count": null,
>>>>>>> Stashed changes
   "metadata": {},
   "outputs": [],
   "source": [
    "longitud_correcta = escuelas_zm_gdf['Ubicación de la escuela-localidad al norte del Ecuador, expresada en grados'] < -75\n",
    "#escuelas_zm_gdf = escuelas_zm_gdf[longitud_correcta]"
   ]
  },
  {
   "cell_type": "code",
<<<<<<< Updated upstream
   "execution_count": 19,
   "id": "1fac6a7b",
=======
   "execution_count": null,
>>>>>>> Stashed changes
   "metadata": {},
   "outputs": [],
   "source": [
    "sum(longitud_correcta)"
   ]
  },
  {
   "cell_type": "code",
<<<<<<< Updated upstream
   "execution_count": 13,
   "id": "7519f958",
=======
   "execution_count": null,
>>>>>>> Stashed changes
   "metadata": {},
   "outputs": [],
   "source": [
    "escuelas_zm_gdf[longitud_correcta]"
   ]
  },
  {
   "cell_type": "code",
<<<<<<< Updated upstream
   "execution_count": 10,
   "id": "4bec2aac",
=======
   "execution_count": null,
>>>>>>> Stashed changes
   "metadata": {},
   "outputs": [],
   "source": [
    "escuelas_zm_gdf.plot()"
   ]
  },
  {
   "cell_type": "code",
<<<<<<< Updated upstream
   "execution_count": 12,
   "id": "f46ab13a",
=======
   "execution_count": null,
>>>>>>> Stashed changes
   "metadata": {},
   "outputs": [],
   "source": [
    "\n",
    "options = ['PRIMARIA']\n",
    "escuelas_zm_gdf = escuelas_zm_gdf[escuelas_zm_gdf['Nivel educativo'].isin(options)]"
   ]
  },
  {
   "cell_type": "code",
   "execution_count": null,
   "id": "7117702d",
   "metadata": {},
   "outputs": [],
   "source": [
    "cdmx = gpd.read_file(\"../data/agebs_cdmx_2020.zip\")\n",
    "edomex = gpd.read_file(\"../data/agebs_edomex_2020.zip\")\n",
    "limite_metropolitano = gpd.read_file(\"../data/limite_metropolitano.zip\")"
   ]
  },
  {
   "cell_type": "markdown",
   "id": "51ab5dd2",
   "metadata": {
    "id": "cc5377f6"
   },
   "source": [
    "Hacemos un merge de las agebs para tenerlas en un solo dataframe"
   ]
  },
  {
   "cell_type": "code",
   "execution_count": null,
   "id": "98e534de",
   "metadata": {
    "colab": {
     "base_uri": "https://localhost:8080/",
     "height": 589
    },
    "executionInfo": {
     "elapsed": 214,
     "status": "ok",
     "timestamp": 1633749707096,
     "user": {
      "displayName": "Dalia Lagunes Rodríguez",
      "photoUrl": "https://lh3.googleusercontent.com/a/default-user=s64",
      "userId": "05954352363843702475"
     },
     "user_tz": 300
    },
    "id": "c74e153c",
    "outputId": "9dc7af5e-c67c-44c8-b3bf-539e4a1408fa"
   },
   "outputs": [],
   "source": [
    "agebs_todas = pd.concat([cdmx, edomex])\n",
    "agebs_todas"
   ]
  },
  {
   "cell_type": "code",
   "execution_count": null,
   "id": "24ecc17d",
   "metadata": {},
   "outputs": [],
   "source": [
    "agebs_todas.plot()"
   ]
  },
  {
   "cell_type": "markdown",
   "id": "180a169d",
   "metadata": {
    "id": "ddde4b61"
   },
   "source": [
    "### Proyectar\n",
    "Para poder cortar las geometrías y trabajarlas todas juntas necesitamos que estén en la misma proyección"
   ]
  },
  {
   "cell_type": "code",
   "execution_count": null,
   "id": "34eed9af",
   "metadata": {
    "id": "a77f85ad"
   },
   "outputs": [],
   "source": [
    "escuelas_zm_gdf = escuelas_zm_gdf.set_crs('epsg:4326')"
   ]
  },
  {
   "cell_type": "markdown",
   "id": "a7a30241",
   "metadata": {
    "id": "f25d8ed7"
   },
   "source": [
    "Las primeras dos están en la proyección nueva de INEGI, las áreas verdes en la anterior y el límite metropolitano está en 32614. Tenemos que poner todas en la misma proyección, podría ser cualquiera de las planas (vamos a medir longitudes). Usemos la nueva del INEGI"
   ]
  },
  {
   "cell_type": "code",
   "execution_count": null,
   "id": "c7e51228",
   "metadata": {
    "executionInfo": {
     "elapsed": 621,
     "status": "ok",
     "timestamp": 1633749765702,
     "user": {
      "displayName": "Dalia Lagunes Rodríguez",
      "photoUrl": "https://lh3.googleusercontent.com/a/default-user=s64",
      "userId": "05954352363843702475"
     },
     "user_tz": 300
    },
    "id": "3c561bae"
   },
   "outputs": [],
   "source": [
    "#areas_verdes = areas_verdes.to_crs(cdmx.crs)\n",
    "escuelas_zm_gdf = escuelas_zm_gdf.to_crs(agebs_todas.crs)\n",
    "#limite_metropolitano = limite_metropolitano.to_crs(cdmx.crs)"
   ]
  },
  {
   "cell_type": "code",
   "execution_count": null,
   "id": "2ec6591d",
   "metadata": {},
   "outputs": [],
   "source": [
    "#print(escuelas_zm_gdf.crs)\n",
    "print(\"\")\n",
    "print(agebs_todas.crs)"
   ]
  },
  {
   "cell_type": "markdown",
   "id": "b97dab3d",
   "metadata": {
    "id": "c71a7190"
   },
   "source": [
    "### Cortar con el límite metropolitano"
   ]
  },
  {
   "cell_type": "code",
   "execution_count": null,
   "id": "9548d6f1",
   "metadata": {
    "colab": {
     "base_uri": "https://localhost:8080/"
    },
    "executionInfo": {
     "elapsed": 14694,
     "status": "ok",
     "timestamp": 1633750265991,
     "user": {
      "displayName": "Dalia Lagunes Rodríguez",
      "photoUrl": "https://lh3.googleusercontent.com/a/default-user=s64",
      "userId": "05954352363843702475"
     },
     "user_tz": 300
    },
    "id": "qC1DOc4AE5ZW",
    "outputId": "be0719df-01e9-4b2d-d25a-2144e5928f4e"
   },
   "outputs": [],
   "source": [
    "#!apt install libspatialindex-dev\n",
    "#!pip install rtree"
   ]
  },
  {
   "cell_type": "code",
   "execution_count": null,
   "id": "2187f007",
   "metadata": {
    "colab": {
     "base_uri": "https://localhost:8080/",
     "height": 510
    },
    "executionInfo": {
     "elapsed": 198,
     "status": "error",
     "timestamp": 1633750269806,
     "user": {
      "displayName": "Dalia Lagunes Rodríguez",
      "photoUrl": "https://lh3.googleusercontent.com/a/default-user=s64",
      "userId": "05954352363843702475"
     },
     "user_tz": 300
    },
    "id": "4b1bcd91",
    "outputId": "3cf08210-8bde-4596-d8cc-8dfe60c19afc"
   },
   "outputs": [],
   "source": [
    "from geopandas.tools import sjoin\n",
    "\n",
    "#escuelas = sjoin(escuelas, limite_metropolitano)\n",
    "#gebs_zmvm = sjoin(agebs_todas, limite_metropolitano)"
   ]
  },
  {
   "cell_type": "markdown",
   "id": "abbd70a0",
   "metadata": {
    "id": "e55cec50"
   },
   "source": [
    "### Áreas y centroides\n",
    "\n",
    "Como vamos a trabajar la accesibilidad en primera instancia sólo entre los centroides de las agebs y las de las áreas verdes, entonces vamos a necesitar dataframes con el área de los parques (que vamos a usar como la oferta en el modelo de accesibilidad) y con los centroides de las agebs y su población total (que va a ser la demanda).\n",
    "\n",
    "**Nota:** vamos a hacer una copia de las capas para usdar los centroides, en caso de que queramos después usar las geometrías originales"
   ]
  },
  {
   "cell_type": "code",
   "execution_count": null,
   "id": "43b9e147",
   "metadata": {
    "id": "5b767d12",
    "outputId": "06b8192b-6b13-489a-b5b6-474273e7703a"
   },
   "outputs": [],
   "source": [
    "# Nos quedamos sólo con los campos que queremos\n",
    "#escuelas['area'] = escuelas.b.area\n",
    "#escuelas = escuelas.loc[:, ['geometry','area']]\n",
    "cdmx_centroides = cdmx.copy()\n",
    "cdmx_centroides['geometry'] = cdmx_centroides.centroid\n",
    "# Nos quedamos sólo con los campos que queremos\n",
    "cdmx_centroides = cdmx_centroides.loc[:, ['CVEGEO', 'geometry']]\n",
    "# Nos conviene tener una columna que identifique a cada parque\n",
    "#areas_verdes_centroides = areas_verdes_centroides.reset_index().rename({'index':'id_parque'}, axis=1)\n",
    "#escuelas = escuelas.reset_index().rename({'index':'id_escuela'}, axis=1)\n",
    "\n",
    "escuelas = escuelas[~escuelas.geometry.is_empty]\n",
    "escuelas.head()"
   ]
  },
  {
   "cell_type": "markdown",
   "id": "c16be6f1",
   "metadata": {
    "id": "277ad803"
   },
   "source": [
    "### Datos de población\n",
    "Para modelar la demanda necesitamos ahora unir a las agebs los datos de población, esos vienen en csvs por estado. Lo primero es leerlos y juntarlos en un solo dataframe"
   ]
  },
  {
   "cell_type": "code",
   "execution_count": null,
   "id": "23aa8ebd",
   "metadata": {
    "id": "df79c90b"
   },
   "outputs": [],
   "source": [
    "datos_cdmx = pd.read_csv(\"../data/conjunto_de_datos_ageb_urbana_09_cpv2020.zip\", dtype={'ENTIDAD':str, 'MUN':str, 'LOC':str, 'AGEB':str})\n",
    "#datos_edomex = pd.read_csv(\"../data/conjunto_de_datos_ageb_urbana_15_cpv2020.zip\", dtype={'ENTIDAD':str, 'MUN':str, 'LOC':str, 'AGEB':str})\n",
    "#datos_zmvm = pd.concat([datos_cdmx, datos_edomex])\n",
    "# seleccionamos las filas que contienen los totales para cada AGEB\n",
    "datos_cdmx = datos_cdmx.loc[datos_cdmx['NOM_LOC'] == 'Total AGEB urbana', :]\n",
    "# Construimos una columna con la clave de ageb\n",
    "datos_cdmx['CVEGEO'] = datos_cdmx['ENTIDAD'] + datos_cdmx['MUN'] + datos_cdmx['LOC'] + datos_cdmx['AGEB']"
   ]
  },
  {
   "cell_type": "code",
   "execution_count": null,
   "id": "96660276",
   "metadata": {},
   "outputs": [],
   "source": [
    "datos_cdmx.loc[datos_cdmx['P_6A11'] == '*', 'P_6A11'] = 0\n",
    "#datos_zmvm.loc[datos_zmvm['P_12A14'] == '*', 'P_12A14'] = 0\n",
    "#datos_zmvm.loc[datos_zmvm['P_15A17'] == '*', 'P_15A17'] = 0"
   ]
  },
  {
   "cell_type": "code",
   "execution_count": null,
   "id": "d873b547",
   "metadata": {},
   "outputs": [],
   "source": [
    "datos_cdmx['P_6A11'] = datos_cdmx['P_6A11'].astype(str).astype(int)\n",
    "#datos_zmvm['P_12A14'] = datos_zmvm['P_12A14'].astype(str).astype(int)\n",
    "#datos_zmvm['P_15A17'] = datos_zmvm['P_15A17'].astype(str).astype(int)"
   ]
  },
  {
   "cell_type": "code",
   "execution_count": null,
   "id": "5c5a9cf4",
   "metadata": {},
   "outputs": [],
   "source": [
    "print(datos_cdmx['P_6A11'].dtypes)\n",
    "#print(datos_zmvm['P_12A14'].dtypes)\n",
    "#print(datos_zmvm['P_15A17'].dtypes)"
   ]
  },
  {
   "cell_type": "code",
   "execution_count": null,
   "id": "d613ca87",
   "metadata": {
    "scrolled": true
   },
   "outputs": [],
   "source": [
    "#poblacion_interes = ['P_6A11', 'P_12A14', 'P_15A17']\n",
    "poblacion_interes = ['P_6A11']\n",
    "datos_cdmx['sum'] = datos_cdmx[poblacion_interes].sum(axis=1)"
   ]
  },
  {
   "cell_type": "code",
   "execution_count": null,
   "id": "6ea71e17",
   "metadata": {},
   "outputs": [],
   "source": [
    "# Nos quedamos sólo con las columnas que vamos a usar (sólo queremos los datos de población)\n",
    "datos_cdmx = datos_cdmx.loc[:, ['CVEGEO', 'sum']]"
   ]
  },
  {
   "cell_type": "markdown",
   "id": "61ac2dae",
   "metadata": {
    "id": "d511657d"
   },
   "source": [
    "Ahora los podemos unir con los centroides de las agebs"
   ]
  },
  {
   "cell_type": "code",
   "execution_count": null,
   "id": "8a3ffb05",
   "metadata": {
    "id": "baeee301",
    "outputId": "fba6938f-335a-4d45-e608-c63130d1424d"
   },
   "outputs": [],
   "source": [
    "cdmx_centroides = cdmx_centroides.merge(datos_cdmx, on=\"CVEGEO\", how=\"inner\")\n",
    "# eliminamos datos_zmvm porque ya no lo vmos a usar y ocupa mucha memoria\n",
    "datos_cdmx = None\n",
    "cdmx_centroides"
   ]
  },
  {
   "cell_type": "code",
   "execution_count": null,
   "id": "be8d4fa5",
   "metadata": {
    "id": "3764be37"
   },
   "outputs": [],
   "source": [
    "# Aquí vamos a guardar todos los datos como pickle para usarlos en otros notebooks\n",
    "cdmx_centroides.to_pickle(\"../data/inter/cdmx_centroides.pkl\", protocol=4)\n",
    "escuelas.to_pickle(\"../data/inter/primarias_centroides.pkl\",protocol=4)"
   ]
  },
  {
   "cell_type": "code",
   "execution_count": null,
   "id": "7eecceaf",
   "metadata": {},
   "outputs": [],
   "source": [
    "escuelas.id_escuela"
   ]
  },
  {
   "cell_type": "code",
   "execution_count": null,
   "id": "b6e12237",
   "metadata": {
    "id": "19b12adf-d148-4780-9fab-69b2424949be"
   },
   "outputs": [],
   "source": [
    "lista = []\n",
    "\n",
    "for index, ageb in cdmx_centroides.iterrows():\n",
    "    for i, ageb in escuelas.iterrows():\n",
    "        lista.append([cdmx_centroides.CVEGEO[index],escuelas.id_escuela[i],float(math.sqrt(pow(cdmx_centroides.geometry[index].x-escuelas.geometry[i].x,2)+pow(cdmx_centroides.geometry[index].y-escuelas.geometry[i].y,2)))])\n",
    "        \n",
    "df = pd.DataFrame(lista,columns=['origin','dest','euclidean'])\n",
    "df.head()"
   ]
  },
  {
   "cell_type": "code",
   "execution_count": null,
   "id": "5a3b164f",
   "metadata": {},
   "outputs": [],
   "source": [
    "df.to_csv(\"../data/inter/primarias_od_euclidean.csv\", index=False)"
   ]
  },
  {
   "cell_type": "markdown",
   "id": "a2634591",
   "metadata": {
    "id": "5277209a"
   },
   "source": [
    "## Modelo basado en distancia euclidiana\n",
    "\n",
    "La primera aproximación que vamos a usar es crear un modelo de accesibilidad basado en la distancia euclidiana entre los centroides de las agebs y los de los parques. Para esto, el primer paso es construir una matriz de costos"
   ]
  },
  {
   "cell_type": "markdown",
   "id": "0c184664",
   "metadata": {
    "id": "0a361321-069a-4a5d-920d-9060efbe3781"
   },
   "source": [
    "### Matriz de costos\n",
    "\n",
    "Para construir la matriz de costos necesitamos obtener el producto cruz de nuestros datos de origen y destino. A partir de eso, podemos calcular la distancia euclidiana y guardar el resultado en la matriz. En general, podríamos ralizar todo el proceso con el siguiente código:\n",
    "\n",
    "````Python\n",
    "# Creamos el producto cruz\n",
    "#cost_df = agebs_zmvm_centroides[['CVEGEO']].merge(areas_verdes_centroides[['id_parque']], how='cross')\n",
    "cost_df = agebs_zmvm_centroides[['CVEGEO']].merge(escuelas[['id_escuela']], how='cross')\n",
    "# Agregamos una columna de costo con puros ceros\n",
    "cost_df['cost'] = 0\n",
    "# renombramos las columnas para que tengan más sentido\n",
    "cost_df.columns = ['origen', 'destino', 'cost']\n",
    "# Instanciamos un objeto de la clase Access\n",
    "A = Access(demand_df            = agebs_zmvm_centroides,\n",
    "           demand_index         = 'CVEGEO',\n",
    "           demand_value         = 'sum',\n",
    "           supply_df            = areas_verdes_centroides,\n",
    "           supply_index         = 'id_escuela',\n",
    "           supply_value         = 'area',\n",
    "           cost_df              = costo_euclidiano,\n",
    "           cost_origin          = 'origin',\n",
    "           cost_dest            = 'dest',\n",
    "           cost_name            = 'euclidean',\n",
    "           neighbor_cost_df     = costo_euclidiano,\n",
    "           neighbor_cost_origin = 'origin',\n",
    "           neighbor_cost_dest   = 'dest',\n",
    "           neighbor_cost_name   = 'euclidean')\n",
    "# Calculamos las distancias\n",
    "A.create_euclidean_distance(threshold = 250000, centroid_o = True, centroid_d = True)\n",
    "````\n",
    "Como esta operación requiere mucha memoria y tiempo, en lugar de ejecutarla vamos a usar un dataframe con los datos precalculados"
   ]
  },
  {
   "cell_type": "code",
   "execution_count": null,
   "id": "0ccc7035",
   "metadata": {
    "id": "549df04a",
    "outputId": "9033aa75-c504-41de-a22e-732c468790ae"
   },
   "outputs": [],
   "source": [
    "costo_euclidiano = pd.read_csv(\"../data/inter/primarias_od_euclidean.csv\")\n",
    "costo_euclidiano"
   ]
  },
  {
   "cell_type": "markdown",
   "id": "082d1426",
   "metadata": {
    "id": "cd95ed6f"
   },
   "source": [
    "### Instancia de accesibilidad\n",
    "\n",
    "Ya tenemos los datos preparados, ahora podemos crear una instancia de la clase `access` con nuestros centros de demanda y de oferta. "
   ]
  },
  {
   "cell_type": "code",
   "execution_count": null,
   "id": "d5e3a33b",
   "metadata": {
    "id": "dd22f0b9"
   },
   "outputs": [],
   "source": [
    "from access import Access, weights\n",
    "A = Access(demand_df            = cdmx_centroides,\n",
    "           demand_index         = 'CVEGEO',\n",
    "           demand_value         = 'sum',\n",
    "           supply_df            = escuelas,\n",
    "           supply_index         = 'id_escuela',\n",
    "           supply_value         = 'matricula',\n",
    "           cost_df              = costo_euclidiano,\n",
    "           cost_origin          = 'origin',\n",
    "           cost_dest            = 'dest',\n",
    "           cost_name            = 'euclidean',\n",
    "           neighbor_cost_df     = costo_euclidiano,\n",
    "           neighbor_cost_origin = 'origin',\n",
    "           neighbor_cost_dest   = 'dest',\n",
    "           neighbor_cost_name   = 'euclidean')"
   ]
  },
  {
   "cell_type": "markdown",
   "id": "e3d66b7a",
   "metadata": {
    "id": "6c474ba0"
   },
   "source": [
    "### Modelos de accesibilidad\n",
    "Ahora ya tenemos todos los datos que necesitamos para calcular diferentes modelos de accesibilidad. El ajuste de cada modelos para la cantidad de datos que estamos utilizando es un poco lento, entonces vamos a calcular sólo unos pocos y ver sus diferencias"
   ]
  },
  {
   "cell_type": "code",
   "execution_count": null,
   "id": "25971f9e",
   "metadata": {
    "id": "97b8f8fd"
   },
   "outputs": [],
   "source": [
    "# stepwise weight dictionaries\n",
    "fn1 = weights.step_fn({750 : 1, 1500 : 0.68, 3000 : 0.22})\n",
    "# gaussian media de 1000 metros \n",
    "gaussian = weights.gaussian(750)\n",
    "# gravity catchement pesado por gravedad\n",
    "gravity = weights.gravity(scale = 750, alpha = -1)"
   ]
  },
  {
   "cell_type": "code",
   "execution_count": null,
   "id": "dd589b92",
   "metadata": {
    "id": "54c6518b"
   },
   "outputs": [],
   "source": [
    "A.weighted_catchment(name = \"gravity\", weight_fn = gravity)\n",
    "A.raam(name = \"raam\", tau = 5)"
   ]
  },
  {
   "cell_type": "code",
   "execution_count": null,
   "id": "b4f2db39",
   "metadata": {
    "id": "77d7b514"
   },
   "outputs": [],
   "source": [
    "# Guardamos los modelos por si los queremos reutilizar\n",
    "A.norm_access_df.to_csv(\"../data/inter/accesibilidad_primarias_distancia_euclidiana.csv\")"
   ]
  },
  {
   "cell_type": "markdown",
   "id": "9fda1102",
   "metadata": {
    "id": "99d96dd6"
   },
   "source": [
    "Ahora podemos comparar los dos modelos de accesibilidad. Primero unimos los datos de acceesibilidad a las geometrías de los centroides "
   ]
  },
  {
   "cell_type": "code",
   "execution_count": null,
   "id": "1c7fc644",
   "metadata": {
    "id": "c9be1876",
    "outputId": "ed0f7fcb-5337-447e-87aa-34dba813539a"
   },
   "outputs": [],
   "source": [
    "mapa_accesibilidad = cdmx_centroides.set_index('CVEGEO')[['geometry']].join(A.norm_access_df, how = \"inner\")\n",
    "mapa_accesibilidad"
   ]
  },
  {
   "cell_type": "markdown",
   "id": "26f40776",
   "metadata": {
    "id": "49f54a9e"
   },
   "source": [
    "Y ahora podemos hacer un par de mapas para compararlos"
   ]
  },
  {
   "cell_type": "code",
   "execution_count": null,
   "id": "a2bdc5ac",
   "metadata": {
    "id": "a1c48743",
    "outputId": "91d6e722-c63e-4747-955c-795ced7bd03c"
   },
   "outputs": [],
   "source": [
    "fig, (ax1, ax2) = plt.subplots(1,2, figsize=(32,12))\n",
    "ax1 = mapa_accesibilidad.to_crs(epsg=3857).plot('raam_matricula', legend = True,\n",
    "                                                cmap =  \"viridis_r\", \n",
    "                                                markersize = 5, alpha = 0.9, ax = ax1,\n",
    "                                                vmin = mapa_accesibilidad['raam_matricula'].quantile(0.05), \n",
    "                                                vmax = mapa_accesibilidad['raam_matricula'].quantile(0.95),\n",
    "                                                )\n",
    "ax1.set_axis_off()\n",
    "ax1.set(title='Modelo RAAM')\n",
    "ctx.add_basemap(ax1, source=ctx.providers.CartoDB.Positron)\n",
    "\n",
    "ax2 = mapa_accesibilidad.to_crs(epsg=3857).plot('gravity_matricula', legend = True,\n",
    "                                                cmap =  \"viridis\", \n",
    "                                                markersize = 5, alpha = 0.9, ax = ax2,\n",
    "                                                vmin = mapa_accesibilidad['gravity_matricula'].quantile(0.05), \n",
    "                                                vmax = mapa_accesibilidad['gravity_matricula'].quantile(0.95),\n",
    "                                                )\n",
    "ax2.set_axis_off()\n",
    "ax2.set(title='Modelo Gravitatorio')\n",
    "# plt.subplots_adjust(wspace=-.5, hspace=0)\n",
    "ctx.add_basemap(ax2, source=ctx.providers.CartoDB.Positron)\n",
    "plt.tight_layout()"
   ]
  },
  {
   "cell_type": "markdown",
   "id": "b0ff2a14",
   "metadata": {
    "id": "49ef62f0"
   },
   "source": [
    "Hasta aquí hicimos nuestro primer modelo de accesibilidad utilizando nuestros propios datos. Por supuesto tiene algunas limitaciones obvias: la distancia está modelada _as the crow flies_, lo que no necesariamente corresponde con la realidad; la oferta asume que la capacidad de cada área verde depende únicamente del área, etcétera.\n",
    "\n",
    "Pensemos ahora, además de esas limitaciones obvias, en qué modelos de conectividad funciona mejor para el problema que estamos abordando ¿gravitatorio? ¿RAAM? Lean los artículos, piénsenlo y argumentemos para la próxima clase. "
   ]
  },
  {
   "cell_type": "code",
   "execution_count": null,
   "id": "eb3d3e51",
   "metadata": {
    "id": "737e3dd6"
   },
   "outputs": [],
   "source": []
  }
 ],
 "metadata": {
  "colab": {
   "name": "accesibilidad_01.ipynb",
   "provenance": []
  },
  "kernelspec": {
   "display_name": "Python 3 (ipykernel)",
   "language": "python",
   "name": "python3"
  },
  "language_info": {
   "codemirror_mode": {
    "name": "ipython",
    "version": 3
   },
   "file_extension": ".py",
   "mimetype": "text/x-python",
   "name": "python",
   "nbconvert_exporter": "python",
   "pygments_lexer": "ipython3",
   "version": "3.10.0"
  }
 },
 "nbformat": 4,
 "nbformat_minor": 5
}
